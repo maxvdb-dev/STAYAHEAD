{
 "cells": [
  {
   "cell_type": "code",
   "execution_count": 1,
   "metadata": {},
   "outputs": [],
   "source": [
    "import pandas as pd\n",
    "import os"
   ]
  },
  {
   "cell_type": "code",
   "execution_count": 2,
   "metadata": {},
   "outputs": [],
   "source": [
    "df = pd.read_csv('/home/max/stayahead/analysis/datasets/final_variant_scores.csv')"
   ]
  },
  {
   "cell_type": "code",
   "execution_count": 3,
   "metadata": {},
   "outputs": [],
   "source": [
    "df_ba1 = pd.read_csv('/home/max/stayahead/analysis/datasets/references/bloomlab/full/omicron_ba1.csv')\n",
    "df_ba2 = pd.read_csv('/home/max/stayahead/analysis/datasets/references/bloomlab/full/omicron_ba2.csv')"
   ]
  },
  {
   "cell_type": "code",
   "execution_count": 26,
   "metadata": {},
   "outputs": [],
   "source": [
    "df_ba1.to_csv('/home/max/stayahead/analysis/datasets/references/bloomlab/omicron_ba1.csv', index=False)\n",
    "df_ba2.to_csv('/home/max/stayahead/analysis/datasets/references/bloomlab/omicron_ba2.csv', index=False)"
   ]
  },
  {
   "cell_type": "code",
   "execution_count": 4,
   "metadata": {},
   "outputs": [],
   "source": [
    "random_ba1 = pd.read_csv('/home/max/stayahead/analysis/datasets/references/bloomlab/random/omicron_ba1_100.csv')\n",
    "random_ba2 = pd.read_csv('/home/max/stayahead/analysis/datasets/references/bloomlab/random/omicron_ba2_100.csv')"
   ]
  },
  {
   "cell_type": "code",
   "execution_count": 5,
   "metadata": {},
   "outputs": [],
   "source": [
    "random_ba1_seq_ids = random_ba1.apply(lambda row: f\"{row['wildtype']}{row['site']}{row['mutant']}\", axis=1).tolist()\n",
    "random_ba2_seq_ids = random_ba2.apply(lambda row: f\"{row['wildtype']}{row['site']}{row['mutant']}\", axis=1).tolist()"
   ]
  },
  {
   "cell_type": "code",
   "execution_count": 6,
   "metadata": {},
   "outputs": [
    {
     "name": "stdout",
     "output_type": "stream",
     "text": [
      "['G99N', 'Y169I', 'F183W', 'F154D', 'A40Y', 'H173D', 'F158I', 'N38S', 'L185G', 'Y64N', 'A188T', 'Y163I', 'A40D', 'G99M', 'K92F', 'V50T', 'S106R', 'C59P', 'R161T', 'R166F', 'P80G', 'G72Y', 'F43R', 'Y163K', 'A190Q', 'T191H', 'E133E', 'L109K', 'E8K', 'Y163R', 'Y117K', 'K130E', 'N22K', 'C156V', 'Q77I', 'Y121F', 'V151S', 'G170H', 'V9P', 'Y48L', 'L36W', 'N2T', 'K24K', 'W104G', 'I140E', 'Y64H', 'T138P', 'V63P', 'P41M', 'L120I', 'I140K', 'S67N', 'P189L', 'K24S', 'N2G', 'L160C', 'Y121Q', 'P195M', 'C156Y', 'R166D', 'S34D', 'F68A', 'P80W', 'N85A', 'Y91K', 'Y169W', 'A190N', 'V18V', 'A188D', 'P94A', 'P94H', 'V113N', 'P189R', 'P94G', 'S127P', 'T191N', 'N62V', 'P131Q', 'I78P', 'T1N', 'S34A', 'N38F', 'N11R', 'K126M', 'S182V', 'V178W', 'D73F', 'D57C', 'A152Q', 'L181M', 'A103S', 'N11H', 'F10G', 'N38T', 'N90M', 'Y37H', 'K92S', 'S114L', 'A65S', 'R14L']\n"
     ]
    }
   ],
   "source": [
    "print(random_ba1_seq_ids)"
   ]
  },
  {
   "cell_type": "code",
   "execution_count": 8,
   "metadata": {},
   "outputs": [
    {
     "name": "stdout",
     "output_type": "stream",
     "text": [
      "File /home/max/stayahead/analysis/datasets/references/bloomlab/random/fastas_100/ba2/txt/ba1-G115N.txt created with content: G115N\n",
      "File /home/max/stayahead/analysis/datasets/references/bloomlab/random/fastas_100/ba2/txt/ba1-Y176K.txt created with content: Y176K\n",
      "File /home/max/stayahead/analysis/datasets/references/bloomlab/random/fastas_100/ba2/txt/ba1-V180E.txt created with content: V180E\n",
      "File /home/max/stayahead/analysis/datasets/references/bloomlab/random/fastas_100/ba2/txt/ba1-V192S.txt created with content: V192S\n",
      "File /home/max/stayahead/analysis/datasets/references/bloomlab/random/fastas_100/ba2/txt/ba1-Y89R.txt created with content: Y89R\n",
      "File /home/max/stayahead/analysis/datasets/references/bloomlab/random/fastas_100/ba2/txt/ba1-F15M.txt created with content: F15M\n",
      "File /home/max/stayahead/analysis/datasets/references/bloomlab/random/fastas_100/ba2/txt/ba1-F154P.txt created with content: F154P\n",
      "File /home/max/stayahead/analysis/datasets/references/bloomlab/random/fastas_100/ba2/txt/ba1-K130A.txt created with content: K130A\n",
      "File /home/max/stayahead/analysis/datasets/references/bloomlab/random/fastas_100/ba2/txt/ba1-N118N.txt created with content: N118N\n",
      "File /home/max/stayahead/analysis/datasets/references/bloomlab/random/fastas_100/ba2/txt/ba1-G144P.txt created with content: G144P\n",
      "File /home/max/stayahead/analysis/datasets/references/bloomlab/random/fastas_100/ba2/txt/ba1-V18L.txt created with content: V18L\n",
      "File /home/max/stayahead/analysis/datasets/references/bloomlab/random/fastas_100/ba2/txt/ba1-F97M.txt created with content: F97M\n",
      "File /home/max/stayahead/analysis/datasets/references/bloomlab/random/fastas_100/ba2/txt/ba1-G150S.txt created with content: G150S\n",
      "File /home/max/stayahead/analysis/datasets/references/bloomlab/random/fastas_100/ba2/txt/ba1-V151D.txt created with content: V151D\n",
      "File /home/max/stayahead/analysis/datasets/references/bloomlab/random/fastas_100/ba2/txt/ba1-G164N.txt created with content: G164N\n",
      "File /home/max/stayahead/analysis/datasets/references/bloomlab/random/fastas_100/ba2/txt/ba1-Y91D.txt created with content: Y91D\n",
      "File /home/max/stayahead/analysis/datasets/references/bloomlab/random/fastas_100/ba2/txt/ba1-V50K.txt created with content: V50K\n",
      "File /home/max/stayahead/analysis/datasets/references/bloomlab/random/fastas_100/ba2/txt/ba1-A190F.txt created with content: A190F\n",
      "File /home/max/stayahead/analysis/datasets/references/bloomlab/random/fastas_100/ba2/txt/ba1-I70L.txt created with content: I70L\n",
      "File /home/max/stayahead/analysis/datasets/references/bloomlab/random/fastas_100/ba2/txt/ba1-K92S.txt created with content: K92S\n",
      "File /home/max/stayahead/analysis/datasets/references/bloomlab/random/fastas_100/ba2/txt/ba1-I140M.txt created with content: I140M\n",
      "File /home/max/stayahead/analysis/datasets/references/bloomlab/random/fastas_100/ba2/txt/ba1-N90A.txt created with content: N90A\n",
      "File /home/max/stayahead/analysis/datasets/references/bloomlab/random/fastas_100/ba2/txt/ba1-F45Y.txt created with content: F45Y\n",
      "File /home/max/stayahead/analysis/datasets/references/bloomlab/random/fastas_100/ba2/txt/ba1-N90D.txt created with content: N90D\n",
      "File /home/max/stayahead/analysis/datasets/references/bloomlab/random/fastas_100/ba2/txt/ba1-L58Q.txt created with content: L58Q\n",
      "File /home/max/stayahead/analysis/datasets/references/bloomlab/random/fastas_100/ba2/txt/ba1-T13W.txt created with content: T13W\n",
      "File /home/max/stayahead/analysis/datasets/references/bloomlab/random/fastas_100/ba2/txt/ba1-L181Q.txt created with content: L181Q\n",
      "File /home/max/stayahead/analysis/datasets/references/bloomlab/random/fastas_100/ba2/txt/ba1-A143E.txt created with content: A143E\n",
      "File /home/max/stayahead/analysis/datasets/references/bloomlab/random/fastas_100/ba2/txt/ba1-N107E.txt created with content: N107E\n",
      "File /home/max/stayahead/analysis/datasets/references/bloomlab/random/fastas_100/ba2/txt/ba1-P94N.txt created with content: P94N\n",
      "File /home/max/stayahead/analysis/datasets/references/bloomlab/random/fastas_100/ba2/txt/ba1-D96D.txt created with content: D96D\n",
      "File /home/max/stayahead/analysis/datasets/references/bloomlab/random/fastas_100/ba2/txt/ba1-V75D.txt created with content: V75D\n",
      "File /home/max/stayahead/analysis/datasets/references/bloomlab/random/fastas_100/ba2/txt/ba1-G194Q.txt created with content: G194Q\n",
      "File /home/max/stayahead/analysis/datasets/references/bloomlab/random/fastas_100/ba2/txt/ba1-E133N.txt created with content: E133N\n",
      "File /home/max/stayahead/analysis/datasets/references/bloomlab/random/fastas_100/ba2/txt/ba1-L109M.txt created with content: L109M\n",
      "File /home/max/stayahead/analysis/datasets/references/bloomlab/random/fastas_100/ba2/txt/ba1-N2I.txt created with content: N2I\n",
      "File /home/max/stayahead/analysis/datasets/references/bloomlab/random/fastas_100/ba2/txt/ba1-F183D.txt created with content: F183D\n",
      "File /home/max/stayahead/analysis/datasets/references/bloomlab/random/fastas_100/ba2/txt/ba1-C29G.txt created with content: C29G\n",
      "File /home/max/stayahead/analysis/datasets/references/bloomlab/random/fastas_100/ba2/txt/ba1-Y117Q.txt created with content: Y117Q\n",
      "File /home/max/stayahead/analysis/datasets/references/bloomlab/random/fastas_100/ba2/txt/ba1-D7W.txt created with content: D7W\n",
      "File /home/max/stayahead/analysis/datasets/references/bloomlab/random/fastas_100/ba2/txt/ba1-P159H.txt created with content: P159H\n",
      "File /home/max/stayahead/analysis/datasets/references/bloomlab/random/fastas_100/ba2/txt/ba1-N128H.txt created with content: N128H\n",
      "File /home/max/stayahead/analysis/datasets/references/bloomlab/random/fastas_100/ba2/txt/ba1-F158Q.txt created with content: F158Q\n",
      "File /home/max/stayahead/analysis/datasets/references/bloomlab/random/fastas_100/ba2/txt/ba1-Y163C.txt created with content: Y163C\n",
      "File /home/max/stayahead/analysis/datasets/references/bloomlab/random/fastas_100/ba2/txt/ba1-N107C.txt created with content: N107C\n",
      "File /home/max/stayahead/analysis/datasets/references/bloomlab/random/fastas_100/ba2/txt/ba1-L93T.txt created with content: L93T\n",
      "File /home/max/stayahead/analysis/datasets/references/bloomlab/random/fastas_100/ba2/txt/ba1-F45I.txt created with content: F45I\n",
      "File /home/max/stayahead/analysis/datasets/references/bloomlab/random/fastas_100/ba2/txt/ba1-S182Y.txt created with content: S182Y\n",
      "File /home/max/stayahead/analysis/datasets/references/bloomlab/random/fastas_100/ba2/txt/ba1-V69E.txt created with content: V69E\n",
      "File /home/max/stayahead/analysis/datasets/references/bloomlab/random/fastas_100/ba2/txt/ba1-L120N.txt created with content: L120N\n",
      "File /home/max/stayahead/analysis/datasets/references/bloomlab/random/fastas_100/ba2/txt/ba1-N85S.txt created with content: N85S\n",
      "File /home/max/stayahead/analysis/datasets/references/bloomlab/random/fastas_100/ba2/txt/ba1-F132Q.txt created with content: F132Q\n",
      "File /home/max/stayahead/analysis/datasets/references/bloomlab/random/fastas_100/ba2/txt/ba1-S106S.txt created with content: S106S\n",
      "File /home/max/stayahead/analysis/datasets/references/bloomlab/random/fastas_100/ba2/txt/ba1-F10D.txt created with content: F10D\n",
      "File /home/max/stayahead/analysis/datasets/references/bloomlab/random/fastas_100/ba2/txt/ba1-L181S.txt created with content: L181S\n",
      "File /home/max/stayahead/analysis/datasets/references/bloomlab/random/fastas_100/ba2/txt/ba1-C156L.txt created with content: C156L\n",
      "File /home/max/stayahead/analysis/datasets/references/bloomlab/random/fastas_100/ba2/txt/ba1-Y157C.txt created with content: Y157C\n",
      "File /home/max/stayahead/analysis/datasets/references/bloomlab/random/fastas_100/ba2/txt/ba1-F132F.txt created with content: F132F\n",
      "File /home/max/stayahead/analysis/datasets/references/bloomlab/random/fastas_100/ba2/txt/ba1-N128M.txt created with content: N128M\n",
      "File /home/max/stayahead/analysis/datasets/references/bloomlab/random/fastas_100/ba2/txt/ba1-N90F.txt created with content: N90F\n",
      "File /home/max/stayahead/analysis/datasets/references/bloomlab/random/fastas_100/ba2/txt/ba1-K112D.txt created with content: K112D\n",
      "File /home/max/stayahead/analysis/datasets/references/bloomlab/random/fastas_100/ba2/txt/ba1-F43E.txt created with content: F43E\n",
      "File /home/max/stayahead/analysis/datasets/references/bloomlab/random/fastas_100/ba2/txt/ba1-A44V.txt created with content: A44V\n",
      "File /home/max/stayahead/analysis/datasets/references/bloomlab/random/fastas_100/ba2/txt/ba1-N56H.txt created with content: N56H\n",
      "File /home/max/stayahead/analysis/datasets/references/bloomlab/random/fastas_100/ba2/txt/ba1-D110N.txt created with content: D110N\n",
      "File /home/max/stayahead/analysis/datasets/references/bloomlab/random/fastas_100/ba2/txt/ba1-D32P.txt created with content: D32P\n",
      "File /home/max/stayahead/analysis/datasets/references/bloomlab/random/fastas_100/ba2/txt/ba1-C4A.txt created with content: C4A\n",
      "File /home/max/stayahead/analysis/datasets/references/bloomlab/random/fastas_100/ba2/txt/ba1-E74L.txt created with content: E74L\n",
      "File /home/max/stayahead/analysis/datasets/references/bloomlab/random/fastas_100/ba2/txt/ba1-L186A.txt created with content: L186A\n",
      "File /home/max/stayahead/analysis/datasets/references/bloomlab/random/fastas_100/ba2/txt/ba1-F154Q.txt created with content: F154Q\n",
      "File /home/max/stayahead/analysis/datasets/references/bloomlab/random/fastas_100/ba2/txt/ba1-V180Q.txt created with content: V180Q\n",
      "File /home/max/stayahead/analysis/datasets/references/bloomlab/random/fastas_100/ba2/txt/ba1-G144F.txt created with content: G144F\n",
      "File /home/max/stayahead/analysis/datasets/references/bloomlab/random/fastas_100/ba2/txt/ba1-I26E.txt created with content: I26E\n",
      "File /home/max/stayahead/analysis/datasets/references/bloomlab/random/fastas_100/ba2/txt/ba1-S106F.txt created with content: S106F\n",
      "File /home/max/stayahead/analysis/datasets/references/bloomlab/random/fastas_100/ba2/txt/ba1-R23C.txt created with content: R23C\n",
      "File /home/max/stayahead/analysis/datasets/references/bloomlab/random/fastas_100/ba2/txt/ba1-N22V.txt created with content: N22V\n",
      "File /home/max/stayahead/analysis/datasets/references/bloomlab/random/fastas_100/ba2/txt/ba1-F60N.txt created with content: F60N\n",
      "File /home/max/stayahead/analysis/datasets/references/bloomlab/random/fastas_100/ba2/txt/ba1-Q142C.txt created with content: Q142C\n",
      "File /home/max/stayahead/analysis/datasets/references/bloomlab/random/fastas_100/ba2/txt/ba1-G84V.txt created with content: G84V\n",
      "File /home/max/stayahead/analysis/datasets/references/bloomlab/random/fastas_100/ba2/txt/ba1-S182S.txt created with content: S182S\n",
      "File /home/max/stayahead/analysis/datasets/references/bloomlab/random/fastas_100/ba2/txt/ba1-K92C.txt created with content: K92C\n",
      "File /home/max/stayahead/analysis/datasets/references/bloomlab/random/fastas_100/ba2/txt/ba1-E139A.txt created with content: E139A\n",
      "File /home/max/stayahead/analysis/datasets/references/bloomlab/random/fastas_100/ba2/txt/ba1-S182M.txt created with content: S182M\n",
      "File /home/max/stayahead/analysis/datasets/references/bloomlab/random/fastas_100/ba2/txt/ba1-Y169C.txt created with content: Y169C\n",
      "File /home/max/stayahead/analysis/datasets/references/bloomlab/random/fastas_100/ba2/txt/ba1-N62S.txt created with content: N62S\n",
      "File /home/max/stayahead/analysis/datasets/references/bloomlab/random/fastas_100/ba2/txt/ba1-L160S.txt created with content: L160S\n",
      "File /home/max/stayahead/analysis/datasets/references/bloomlab/random/fastas_100/ba2/txt/ba1-N145K.txt created with content: N145K\n",
      "File /home/max/stayahead/analysis/datasets/references/bloomlab/random/fastas_100/ba2/txt/ba1-L36D.txt created with content: L36D\n",
      "File /home/max/stayahead/analysis/datasets/references/bloomlab/random/fastas_100/ba2/txt/ba1-Y33V.txt created with content: Y33V\n",
      "File /home/max/stayahead/analysis/datasets/references/bloomlab/random/fastas_100/ba2/txt/ba1-L3K.txt created with content: L3K\n",
      "File /home/max/stayahead/analysis/datasets/references/bloomlab/random/fastas_100/ba2/txt/ba1-N28L.txt created with content: N28L\n",
      "File /home/max/stayahead/analysis/datasets/references/bloomlab/random/fastas_100/ba2/txt/ba1-S17A.txt created with content: S17A\n",
      "File /home/max/stayahead/analysis/datasets/references/bloomlab/random/fastas_100/ba2/txt/ba1-A65S.txt created with content: A65S\n",
      "File /home/max/stayahead/analysis/datasets/references/bloomlab/random/fastas_100/ba2/txt/ba1-T138V.txt created with content: T138V\n",
      "File /home/max/stayahead/analysis/datasets/references/bloomlab/random/fastas_100/ba2/txt/ba1-S127Q.txt created with content: S127Q\n",
      "File /home/max/stayahead/analysis/datasets/references/bloomlab/random/fastas_100/ba2/txt/ba1-G114R.txt created with content: G114R\n",
      "File /home/max/stayahead/analysis/datasets/references/bloomlab/random/fastas_100/ba2/txt/ba1-I86S.txt created with content: I86S\n",
      "File /home/max/stayahead/analysis/datasets/references/bloomlab/random/fastas_100/ba2/txt/ba1-C100D.txt created with content: C100D\n",
      "File /home/max/stayahead/analysis/datasets/references/bloomlab/random/fastas_100/ba2/txt/ba1-F43R.txt created with content: F43R\n",
      "File /home/max/stayahead/analysis/datasets/references/bloomlab/random/fastas_100/ba2/txt/ba1-T83P.txt created with content: T83P\n"
     ]
    }
   ],
   "source": [
    "# Iterate through each ID in the list\n",
    "for seq_id in random_ba2_seq_ids:\n",
    "    # Define the filename with the required format\n",
    "    filename = os.path.join('/home/max/stayahead/analysis/datasets/references/bloomlab/random/fastas_100/ba2/txt', f'ba1-{seq_id}.txt')\n",
    "    \n",
    "    # Write the ID to the file\n",
    "    with open(filename, 'w') as file:\n",
    "        file.write(seq_id)\n",
    "\n",
    "    print(f'File {filename} created with content: {seq_id}')"
   ]
  },
  {
   "cell_type": "code",
   "execution_count": null,
   "metadata": {},
   "outputs": [],
   "source": []
  }
 ],
 "metadata": {
  "kernelspec": {
   "display_name": "analysis",
   "language": "python",
   "name": "python3"
  },
  "language_info": {
   "codemirror_mode": {
    "name": "ipython",
    "version": 3
   },
   "file_extension": ".py",
   "mimetype": "text/x-python",
   "name": "python",
   "nbconvert_exporter": "python",
   "pygments_lexer": "ipython3",
   "version": "3.10.14"
  }
 },
 "nbformat": 4,
 "nbformat_minor": 2
}
