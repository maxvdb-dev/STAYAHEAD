{
 "cells": [
  {
   "cell_type": "code",
   "execution_count": 2,
   "metadata": {},
   "outputs": [],
   "source": [
    "import joblib\n",
    "import xgboost as xgb\n",
    "import pandas as pd\n",
    "import numpy as np\n",
    "from sklearn.model_selection import train_test_split, RandomizedSearchCV, GridSearchCV, cross_val_score, KFold\n",
    "from sklearn.multioutput import MultiOutputRegressor\n",
    "from sklearn.metrics import mean_squared_error, r2_score\n",
    "import matplotlib.pyplot as plt\n",
    "from sklearn.preprocessing import StandardScaler, MinMaxScaler"
   ]
  },
  {
   "cell_type": "markdown",
   "metadata": {},
   "source": [
    "Linux"
   ]
  },
  {
   "cell_type": "code",
   "execution_count": null,
   "metadata": {},
   "outputs": [],
   "source": [
    "data_af_pd_v1_b2b = pd.read_csv('/home/max/stayahead/analysis_old/AF_1step_pred_wuhan_v1_b2b_parse.csv')\n",
    "data_af_5_bits = pd.read_csv('/home/max/stayahead/analysis/datasets/complexity/AF/PARSE_EPC/AF_1step_pred_wuhan_v1_b2b_5_Bits.csv')\n",
    "data_af_16_bits = pd.read_csv('/home/max/stayahead/analysis/datasets/complexity/AF/PARSE_EPC/AF_1step_pred_wuhan_v1_b2b_16_Bits.csv')\n",
    "data_af_1H_6_bits = pd.read_csv('/home/max/stayahead/analysis/datasets/complexity/AF/PARSE_EPC/AF_1step_pred_wuhan_v1_b2b_1_Hot_6_Bits.csv')\n",
    "data_af_1H_20_bits = pd.read_csv('/home/max/stayahead/analysis/datasets/complexity/AF/PARSE_EPC/AF_1step_pred_wuhan_v1_b2b_1_Hot_20_Bits.csv')"
   ]
  },
  {
   "cell_type": "markdown",
   "metadata": {},
   "source": [
    "MAC"
   ]
  },
  {
   "cell_type": "code",
   "execution_count": null,
   "metadata": {},
   "outputs": [],
   "source": []
  },
  {
   "cell_type": "markdown",
   "metadata": {},
   "source": [
    "XGBoost Regressor"
   ]
  },
  {
   "cell_type": "markdown",
   "metadata": {},
   "source": [
    "Hyperparameters"
   ]
  },
  {
   "cell_type": "code",
   "execution_count": null,
   "metadata": {},
   "outputs": [],
   "source": [
    "# Define the parameter grid for XGBRegressor\n",
    "param_dist = {\n",
    "    'n_estimators': [200, 300, 400, 500, 600, 650, 700, 750, 800, 850, 900, 950, 1000],\n",
    "    'learning_rate': [0.01, 0.02, 0.03, 0.035, 0.04],\n",
    "    'max_depth': [7, 8, 9, 10, 11],\n",
    "    'min_child_weight': [1, 2, 3, 4, 5, 6, 7, 8, 9, 10],\n",
    "    'gamma': [0, 0.1, 0.2, 0.3, 0.4, 0.5],\n",
    "    'subsample': [0.6, 0.7, 0.8, 0.9, 1.0],\n",
    "    'colsample_bytree': [0.3, 0.4, 0.5, 0.6, 0.7, 0.8, 0.9, 1.0],\n",
    "    'reg_alpha': [0, 0.1, 0.5],\n",
    "    'reg_lambda': [1, 1.5, 2]\n",
    "}"
   ]
  },
  {
   "cell_type": "code",
   "execution_count": null,
   "metadata": {},
   "outputs": [],
   "source": [
    "def gboost_regressor(df, param_dist, random_search, model_save_path):\n",
    "    # Preprocessing\n",
    "    df = data_af_16_bits.dropna(subset=['bind', 'delta_bind', 'expr', 'delta_expr', 'confidence_bind', 'confidence_expr'])\n",
    "    df['pi_score'] = pd.to_numeric(df['pi_score'], errors='coerce')\n",
    "\n",
    "    # Separate features and target variables\n",
    "    # X = df.drop(columns=['seq_id', 'wildtype', 'site', 'mutation', 'bind', 'delta_bind', 'expr', 'delta_expr', 'confidence_bind', 'confidence_expr', 'sb', 'global_net_energy', 'total_hydro', 'Num_intf_residues', 'contact_pairs', 'hb', 'Hydrophobhic', 'Polar', 'Charged', 'iptm', 'iptm_ptm'])\n",
    "    X = df.drop(columns=['seq_id', 'wildtype', 'mutation', 'bind', 'delta_bind', 'expr', 'delta_expr', 'confidence_bind', 'confidence_expr', 'global_net_energy', 'total_hydro'])\n",
    "    y = df[['bind', 'delta_bind', 'expr', 'delta_expr']]\n",
    "\n",
    "    # Train-test split\n",
    "    X_train, X_test, y_train, y_test = train_test_split(X, y, test_size=0.2, random_state=42)\n",
    "\n",
    "    # Standardization\n",
    "    scaler = StandardScaler()\n",
    "    X_train_scaled = scaler.fit_transform(X_train)\n",
    "    X_test_scaled = scaler.transform(X_test)\n",
    "\n",
    "    # Scale the target variables\n",
    "    y_scaler = StandardScaler()\n",
    "    y_train_scaled = y_scaler.fit_transform(y_train)\n",
    "    y_test_scaled = y_scaler.transform(y_test)\n",
    "\n",
    "    # Initialize XGBoost model\n",
    "    model = xgb.XGBRegressor(objective='reg:squarederror', random_state=42)\n",
    "\n",
    "    if random_search:\n",
    "        # Initialize RandomizedSearchCV for the base XGBRegressor\n",
    "        random_search = RandomizedSearchCV(estimator=model, param_distributions=param_dist, \n",
    "                                        n_iter=600, scoring='neg_mean_squared_error', \n",
    "                                        cv=5, verbose=2, random_state=42, n_jobs=-1)\n",
    "\n",
    "        # Fit the random search model for the base XGBRegressor\n",
    "        random_search.fit(X_train_scaled, y_train_scaled[:, 0])  # Fit using the first target variable to get the best params\n",
    "\n",
    "        # Print the best parameters and best score\n",
    "        print(f'Best Parameters: {random_search.best_params_}')\n",
    "        print(f'Best Score: {random_search.best_score_}')\n",
    "\n",
    "        # Train the MultiOutputRegressor with the best parameters\n",
    "        best_params = random_search.best_params_\n",
    "    else:\n",
    "        # Initialize GridSearchCV\n",
    "        grid_search = GridSearchCV(estimator=model, param_grid=param_dist, \n",
    "                                   scoring='neg_mean_squared_error', \n",
    "                                   cv=5, verbose=2, n_jobs=-1)\n",
    "\n",
    "        # Fit the grid search model\n",
    "        grid_search.fit(X_train_scaled, y_train_scaled[:, 0])\n",
    "\n",
    "        # Print the best parameters and best score\n",
    "        print(f'Best Parameters: {grid_search.best_params_}')\n",
    "        print(f'Best Score: {grid_search.best_score_}')\n",
    "\n",
    "        # Train the model with best parameters\n",
    "        best_params = grid_search.best_params_\n",
    "        \n",
    "    base_model = xgb.XGBRegressor(**best_params, objective='reg:squarederror', random_state=42)\n",
    "    multi_output_model = MultiOutputRegressor(base_model)\n",
    "\n",
    "    # Cross-validation setup\n",
    "    kf = KFold(n_splits=5, shuffle=True, random_state=42)\n",
    "    cv_results = cross_val_score(multi_output_model, X_train_scaled, y_train_scaled, cv=kf, scoring='neg_mean_squared_error')\n",
    "\n",
    "    # Fit the multi-output model\n",
    "    multi_output_model.fit(X_train_scaled, y_train_scaled)\n",
    "\n",
    "    # # Save the model\n",
    "    # joblib.dump(multi_output_model, model_save_path)\n",
    "    # print(f'Model saved to {model_save_path}')\n",
    "\n",
    "    # Make predictions\n",
    "    y_pred_scaled = multi_output_model.predict(X_test_scaled)\n",
    "\n",
    "    # Rescale predictions back to original scale\n",
    "    y_pred_rescaled = y_scaler.inverse_transform(y_pred_scaled)\n",
    "\n",
    "    # Evaluate the model for each target variable\n",
    "    for i, col in enumerate(y.columns):\n",
    "        mse = mean_squared_error(y_test.iloc[:, i], y_pred_rescaled[:, i])\n",
    "        r2 = r2_score(y_test.iloc[:, i], y_pred_rescaled[:, i])\n",
    "        print(f'{col} - Mean Squared Error: {mse}')\n",
    "        print(f'{col} - R-squared: {r2}')\n",
    "\n",
    "    # Print cross-validation results\n",
    "    print(f'Cross-Validation MSE Scores: {-cv_results}')\n",
    "    print(f'Cross-Validation Mean MSE: {-cv_results.mean()}')\n",
    "    print(f'Cross-Validation Standard Deviation of MSE: {cv_results.std()}')\n",
    "\n",
    "    # Feature importance (using the first model in the MultiOutputRegressor)\n",
    "    importance = multi_output_model.estimators_[0].get_booster().get_score(importance_type='weight')\n",
    "    importance = {X.columns[int(k[1:])]: v for k, v in importance.items()}\n",
    "    sorted_importance = dict(sorted(importance.items(), key=lambda item: item[1], reverse=True))\n",
    "\n",
    "    plt.figure(figsize=(10, 8))\n",
    "    plt.barh(range(len(sorted_importance)), list(sorted_importance.values()), align='center')\n",
    "    plt.yticks(range(len(sorted_importance)), list(sorted_importance.keys()))\n",
    "    plt.xlabel('F score')\n",
    "    plt.ylabel('Features')\n",
    "    plt.title('Feature importance')\n",
    "    plt.show()"
   ]
  }
 ],
 "metadata": {
  "kernelspec": {
   "display_name": "analysis",
   "language": "python",
   "name": "python3"
  },
  "language_info": {
   "codemirror_mode": {
    "name": "ipython",
    "version": 3
   },
   "file_extension": ".py",
   "mimetype": "text/x-python",
   "name": "python",
   "nbconvert_exporter": "python",
   "pygments_lexer": "ipython3",
   "version": "3.10.14"
  }
 },
 "nbformat": 4,
 "nbformat_minor": 2
}
