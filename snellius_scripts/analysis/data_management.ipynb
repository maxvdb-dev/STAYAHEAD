{
 "cells": [
  {
   "cell_type": "code",
   "execution_count": 2,
   "metadata": {},
   "outputs": [],
   "source": [
    "import os\n",
    "import shutil"
   ]
  },
  {
   "cell_type": "code",
   "execution_count": 1,
   "metadata": {},
   "outputs": [],
   "source": [
    "file_path = '/home/max/stayahead/mutations/sequence_datasets/1/comp_performance.fasta'"
   ]
  },
  {
   "cell_type": "code",
   "execution_count": 4,
   "metadata": {},
   "outputs": [
    {
     "name": "stdout",
     "output_type": "stream",
     "text": [
      "Merging complete. All fasta files have been combined into 'baits.fasta'.\n"
     ]
    }
   ],
   "source": [
    "directory_path = '/home/max/stayahead/out_tmp/alphafold/batch1'\n",
    "output_file_path = '/home/max/stayahead/out_tmp/alphafold/candidates.fasta'\n",
    "\n",
    "fasta_files = [f for f in os.listdir(directory_path) if f.endswith('.fasta')]\n",
    "\n",
    "with open(output_file_path, 'w') as outfile:\n",
    "    # Iterate over each file and append its contents to the output file\n",
    "    for file_name in fasta_files:\n",
    "        file_path = os.path.join(directory_path, file_name)\n",
    "        with open(file_path, 'r') as infile:\n",
    "            sequence = ''\n",
    "            for line in infile:\n",
    "                if line.startswith('>'):\n",
    "                    # If there is an existing sequence, write it before starting a new header\n",
    "                    if sequence:\n",
    "                        outfile.write(sequence + '\\n')\n",
    "                    # Write the header\n",
    "                    outfile.write(line)\n",
    "                    sequence = ''\n",
    "                else:\n",
    "                    # Remove newline and concatenate sequence parts\n",
    "                    sequence += line.strip()\n",
    "            # Don't forget to write the last sequence if the file ends\n",
    "            if sequence:\n",
    "                outfile.write(sequence + '\\n')\n",
    "\n",
    "print(\"Merging complete. All fasta files have been combined into 'baits.fasta'.\")"
   ]
  },
  {
   "cell_type": "code",
   "execution_count": 11,
   "metadata": {},
   "outputs": [],
   "source": [
    "with open(file_path, 'r') as f:\n",
    "    lines = f.readlines()\n",
    "    for i in range(140, 280, 2):\n",
    "        description = lines[i].strip()\n",
    "        name = description[1:]\n",
    "        with open (f'/home/max/stayahead/mutations/sequence_datasets/1/sep_files/{name}.fasta', 'w') as out:\n",
    "            out.write(description + '\\n')\n",
    "            out.write(lines[i+1])"
   ]
  },
  {
   "cell_type": "code",
   "execution_count": 2,
   "metadata": {},
   "outputs": [],
   "source": [
    "def split_fasta(input_file):\n",
    "    with open(input_file, 'r') as file:\n",
    "        sequence = ''\n",
    "        header = ''\n",
    "        for line in file:\n",
    "            if line.startswith('>'):\n",
    "                if sequence:\n",
    "                    # Write the previous sequence to a file\n",
    "                    with open(f'{header}.fasta', 'w') as output_file:\n",
    "                        output_file.write(f'>{header}\\n{sequence}')\n",
    "                    sequence = ''\n",
    "                header = line[1:].strip()  # Remove '>' and newline character\n",
    "            else:\n",
    "                sequence += line.strip()  # Add sequence lines\n",
    "        # Write the last sequence to a file\n",
    "        if sequence:\n",
    "            with open(f'{header}.fasta', 'w') as output_file:\n",
    "                output_file.write(f'>{header}\\n{sequence}')\n",
    "\n",
    "# Call the function with the path to your FASTA file\n",
    "split_fasta('/home/max/stayahead/mutations/sequence_datasets/3/ACE2_1step.fasta')"
   ]
  },
  {
   "cell_type": "code",
   "execution_count": 2,
   "metadata": {},
   "outputs": [],
   "source": [
    "def split_fasta(input_file, output_dir):\n",
    "    # Extract the base name of the file without the .fasta extension\n",
    "    base_name = os.path.basename(input_file)\n",
    "    if base_name.endswith('.fasta'):\n",
    "        base_name = base_name[:-6]\n",
    "    \n",
    "    # Create a new directory based on the base name inside the specified output directory\n",
    "    target_dir = os.path.join(output_dir, base_name)\n",
    "    os.makedirs(target_dir, exist_ok=True)\n",
    "    \n",
    "    with open(input_file, 'r') as file:\n",
    "        sequence = ''\n",
    "        header = ''\n",
    "        for line in file:\n",
    "            if line.startswith('>'):\n",
    "                if sequence:\n",
    "                    # Write the previous sequence to a file in the new directory\n",
    "                    with open(os.path.join(target_dir, f'{header}.fasta'), 'w') as output_file:\n",
    "                        output_file.write(f'>{header}\\n{sequence}')\n",
    "                    sequence = ''\n",
    "                header = line[1:].strip()  # Remove '>' and newline character\n",
    "            else:\n",
    "                sequence += line.strip()  # Add sequence lines\n",
    "        # Write the last sequence to a file in the new directory\n",
    "        if sequence:\n",
    "            with open(os.path.join(target_dir, f'{header}.fasta'), 'w') as output_file:\n",
    "                output_file.write(f'>{header}\\n{sequence}')\n"
   ]
  },
  {
   "cell_type": "code",
   "execution_count": 5,
   "metadata": {},
   "outputs": [],
   "source": [
    "def process_directory(input_dir, output_dir):\n",
    "    # Loop through all files in the input directory\n",
    "    for file_name in os.listdir(input_dir):\n",
    "        if file_name.endswith('.fasta'):\n",
    "            file_path = os.path.join(input_dir, file_name)\n",
    "            split_fasta(file_path, output_dir)"
   ]
  },
  {
   "cell_type": "code",
   "execution_count": 6,
   "metadata": {},
   "outputs": [],
   "source": [
    "process_directory('/home/max/stayahead/mutations/sequence_datasets/3/alt_variants', '/home/max/stayahead/mutations/sequence_datasets/3/sep_files')"
   ]
  },
  {
   "cell_type": "code",
   "execution_count": 2,
   "metadata": {},
   "outputs": [],
   "source": [
    "def move_fasta_files(input_dir, output_dir):\n",
    "    # Ensure the output directory exists\n",
    "    os.makedirs(output_dir, exist_ok=True)\n",
    "    \n",
    "    # Walk through all directories and subdirectories in the input directory\n",
    "    for root, dirs, files in os.walk(input_dir):\n",
    "        for file in files:\n",
    "            if file.endswith('.fasta'):\n",
    "                # Construct the full file path\n",
    "                file_path = os.path.join(root, file)\n",
    "                # Move the file to the output directory\n",
    "                shutil.move(file_path, os.path.join(output_dir, file))\n"
   ]
  },
  {
   "cell_type": "code",
   "execution_count": 3,
   "metadata": {},
   "outputs": [],
   "source": [
    "move_fasta_files('/home/max/stayahead/mutations/sequence_datasets/3/alt_variants/sep_files', '/home/max/stayahead/mutations/sequence_datasets/3/alt_variants/sep_alt_variants')"
   ]
  },
  {
   "cell_type": "code",
   "execution_count": 2,
   "metadata": {},
   "outputs": [],
   "source": [
    "import pandas as pd\n",
    "import os\n",
    "\n",
    "def merge_csv_files(directory, output_file):\n",
    "    # List to hold data from each file\n",
    "    data_frames = []\n",
    "\n",
    "    # Iterate through each file in the directory\n",
    "    for file in os.listdir(directory):\n",
    "        # Check if the file is a CSV\n",
    "        if file.endswith('.csv'):\n",
    "            file_path = os.path.join(directory, file)\n",
    "            # Read the CSV file and append to the list\n",
    "            df = pd.read_csv(file_path)\n",
    "            data_frames.append(df)\n",
    "\n",
    "    # Concatenate all data frames into a single one\n",
    "    merged_df = pd.concat(data_frames, ignore_index=True)\n",
    "\n",
    "    # Save the merged data frame to a new CSV file\n",
    "    merged_df.to_csv(output_file, index=False)\n",
    "\n",
    "# Example usage\n",
    "directory = '/home/max/stayahead/snellius2/outputs/analysis/alphafold/all_batches'  # Update this path to the directory containing your CSV files\n",
    "output_file = '/home/max/stayahead/snellius2/outputs/analysis/alphafold/all_batches/results_1step_AF_15_05.csv'\n",
    "merge_csv_files(directory, output_file)"
   ]
  },
  {
   "cell_type": "code",
   "execution_count": 5,
   "metadata": {},
   "outputs": [
    {
     "name": "stdout",
     "output_type": "stream",
     "text": [
      "Updated file created as /home/max/stayahead/snellius2/outputs/apbs/esm/epc_1step_esm_clean.csv\n"
     ]
    }
   ],
   "source": [
    "def remove_prefix_from_seq_id(input_filename, output_filename):\n",
    "    # Read the CSV file\n",
    "    df = pd.read_csv(input_filename)\n",
    "    \n",
    "    # Remove 'ACE2-' prefix from each entry in the 'seq_id' column\n",
    "    df['seq_id'] = df['seq_id'].str.replace('ACE2-', '')\n",
    "    \n",
    "    # Write the modified DataFrame back to a new CSV file\n",
    "    df.to_csv(output_filename, index=False)\n",
    "    print(f\"Updated file created as {output_filename}\")\n",
    "\n",
    "input_file = '/home/max/stayahead/snellius2/outputs/apbs/esm/epc_1step_esm.csv'\n",
    "output_file = '/home/max/stayahead/snellius2/outputs/apbs/esm/epc_1step_esm_clean.csv'\n",
    "remove_prefix_from_seq_id(input_file, output_file)"
   ]
  },
  {
   "cell_type": "code",
   "execution_count": 12,
   "metadata": {},
   "outputs": [
    {
     "name": "stdout",
     "output_type": "stream",
     "text": [
      "Merged file saved as /home/max/stayahead/snellius2/outputs/analysis/dataset/1step_esm_ablink.csv\n"
     ]
    }
   ],
   "source": [
    "def merge_csv_on_seq_id(file1, file2, output_file):\n",
    "    # Load the two CSV files into pandas DataFrames\n",
    "    df1 = pd.read_csv(file1)\n",
    "    df2 = pd.read_csv(file2)\n",
    "    \n",
    "    # Merge the DataFrames on the 'seq_id' column\n",
    "    merged_df = pd.merge(df1, df2, on='seq_id', how='left')\n",
    "    \n",
    "    # Save the merged DataFrame to a new CSV file\n",
    "    merged_df.to_csv(output_file, index=False)\n",
    "    print(f\"Merged file saved as {output_file}\")\n",
    "\n",
    "file1 = '/home/max/stayahead/snellius2/outputs/analysis/dataset/tmp/merged_1step_esm.csv'\n",
    "file2 = '/home/max/stayahead/evolution/data/escape_all_formatted.csv'\n",
    "output_file = '/home/max/stayahead/snellius2/outputs/analysis/dataset/1step_esm_ablink.csv'\n",
    "merge_csv_on_seq_id(file1, file2, output_file)"
   ]
  },
  {
   "cell_type": "code",
   "execution_count": 4,
   "metadata": {},
   "outputs": [],
   "source": [
    "import csv\n",
    "import pandas as pd\n",
    "\n",
    "df = pd.read_csv('/home/max/stayahead/analysis/AF_1step_pred_wuhan_v1_15-06.csv')\n",
    "ids = df['seq_id'].tolist()"
   ]
  },
  {
   "cell_type": "code",
   "execution_count": 7,
   "metadata": {},
   "outputs": [
    {
     "name": "stdout",
     "output_type": "stream",
     "text": [
      "['P5N', 'V75A', 'T146A', 'R25F', 'Y141K', 'Q166D', 'F154G', 'E74P', 'V179Q', 'N155A', 'G49Y', 'S67W', 'L186P', 'F183H', 'D66M', 'S51Q', 'V171N', 'C47A', 'C59M', 'E139G', 'K130G', 'G84H', 'S145A', 'S182W', 'V171R', 'G153L', 'V30L', 'S43F', 'V9F', 'P195R', 'V179F', 'P94D', 'A31M', 'F60V', 'K24S', 'G170F', 'Y64G', 'C47N', 'F183S', 'R25Y', 'S162H', 'S67D', 'L181K', 'G170E', 'T44I', 'K85N', 'S106H', 'C4S', 'N2F', 'G99T', 'S34G', 'A143F', 'V178N', 'R14A', 'I70G', 'R177C', 'A79I', 'S145V', 'Q166S', 'N28M', 'F158V', 'C193F', 'S41P', 'L120E', 'A87I', 'G7A', 'Y91T', 'G153D', 'C4V', 'K112C', 'K24M', 'G99L', 'Y163T', 'L55I', 'C100F', 'W21Q', 'E133P', 'N38L', 'G72D', 'L109W', 'R23T', 'G81Q', 'P94L', 'L93D', 'L123Q', 'D32Y', 'N169H', 'P52L', 'Q174L', 'G194Y', 'Q166R', 'I86S', 'R25Q', 'Y157E', 'A40D', 'N169L', 'T1L', 'L93I', 'G7T', 'T98A', 'Y173L', 'N155K', 'N2L', 'L160A', 'F60C', 'L185M', 'N90R', 'T44Q', 'P52M', 'V113P', 'K85R', 'Q77I', 'R122P', 'G7Y', 'V9T', 'I26Q', 'Y37C', 'N169K', 'R14N', 'N38S', 'N22R', 'L3K', 'A31T', 'P159V', 'K130A', 'C148L', 'Y141F', 'K130N', 'E152H', 'L58Y', 'R122E', 'L58W', 'S111K', 'D66C', 'G194I', 'T83E', 'V18E', 'S41G', 'F60K', 'F124Q', 'R71S', 'S106C', 'N116Q', 'N22A', 'S39W', 'Y173H', 'R71I', 'L160E', 'K92R', 'I70M', 'F154I', 'N149H', 'F15P', 'P189G', 'N108P', 'C47T', 'G114K', 'G170A', 'D32S', 'S51A', 'V63S', 'T13C', 'P80M', 'T44F', 'V171S', 'K85D', 'G144W', 'L123S', 'Y157S', 'L129M', 'D88I', 'V192C', 'A40T', 'Q174G', 'Q142F', 'N128D', 'T44Y', 'L186D', 'R177K', 'F42K', 'Q142R', 'Y37A', 'N107C', 'F132P', 'Y176D', 'N11I', 'V192E', 'N38W', 'V101N', 'Y173W', 'G164I', 'D57S', 'L181P', 'E74R', 'V178P', 'A143Q', 'R177L', 'F15D', 'T1R', 'T61I', 'Y64R', 'C59D', 'K92I', 'A31W', 'Y64Q', 'T83A', 'T83D', 'P159L', 'L160R', 'N128A', 'N2D', 'N128Q', 'V151I', 'L186V', 'R134M', 'C59T', 'Y19R', 'G144E', 'F60P', 'K46Q', 'A65I', 'V171E', 'F158E', 'Y119L', 'S39C', 'S162E', 'R134W', 'S34M', 'T83P', 'F158R', 'Y89F', 'G115T', 'V30G', 'F165L', 'G49F', 'C59S', 'N28L', 'G72Q', 'R177S', 'C4A', 'Y157G', 'P147S', 'V171D', 'F132L', 'A188D', 'L185F', 'A87K', 'R125M', 'K126T', 'R14E', 'R134P', 'V18N', 'G164E', 'S182T', 'F158N', 'N107E', 'Q82G', 'N155Q', 'N105F', 'G72T', 'N107Y', 'Y119E', 'G72W', 'S127F', 'I136R', 'C4Q', 'N11H', 'A16D', 'D135S', 'A87D', 'F15H', 'Y173C', 'N2S', 'V35S', 'G172Y', 'Y119W', 'G172M', 'I86M', 'A65L', 'G72P', 'Y64H', 'F183Y', 'P195W', 'K112T', 'G49I', 'Y91H', 'A103N', 'P167F', 'G84F', 'F15L', 'V35A', 'G115S', 'R76F', 'N105D', 'S145H', 'N90G', 'T61P', 'G115K', 'S182M', 'V171P', 'V75I', 'P5K', 'D96H', 'N90Q', 'F10W', 'R134Y', 'G99I', 'F132Q', 'S182H', 'F154C', 'F183Q', 'G81R', 'R76D', 'F154W', 'E184R', 'P94Y', 'R122N', 'N56G', 'W104G', 'K54R', 'L123T', 'L129V', 'P147T', 'Q82L', 'T13L', 'R25S', 'Q82T', 'R76T', 'Y89G', 'N2R', 'P195K', 'A87C', 'Y37F', 'W21F', 'L160S', 'L123M', 'L129N', 'N116C', 'N118V', 'P167T', 'H187I', 'C59V', 'E152D', 'Q82R', 'L55H', 'V180Q', 'C156I', 'A16Q', 'Y157W', 'T138Y', 'I102L', 'E139F', 'T1E', 'Q142P', 'F6H', 'G115I', 'A103C', 'T168L', 'G7V', 'N155M', 'N2I', 'W104M', 'G172D', 'F165I', 'G150N', 'Y89P', 'Y173D', 'P167N', 'L120K', 'Q174R', 'C100K', 'R134C', 'V113L', 'N22E', 'P5R', 'Y141M', 'R125C', 'I78K', 'Y37R', 'G114N', 'V113S', 'Q166T', 'P189K', 'C4N', 'F42T', 'Y163C', 'C148Y', 'D88A', 'A40W', 'V178K', 'S137Y', 'S17M', 'K54C', 'F97N', 'Q77L', 'T1D', 'R23N', 'P52Y', 'F68M', 'G81I', 'G7W', 'N28E', 'L58C', 'I86W', 'I136H', 'D110H', 'P80C', 'I70R', 'R122K', 'V50F', 'V50Y', 'T83Y', 'E8H', 'N149Y', 'D88E', 'A12C', 'D95L', 'P175Y', 'T53R', 'Q166M', 'N118W', 'N107F', 'S39V', 'P175R', 'F154K', 'P159E', 'A40G', 'V180A', 'F15T', 'V18T', 'A103D', 'R177N', 'S106N', 'I136P', 'Y117T', 'F60I', 'P189I', 'T168R', 'R76A', 'P131W', 'T44D', 'L185W', 'T83S', 'Q174Y', 'C47F', 'R177F', 'A16F', 'I78E', 'G72M', 'G72C', 'P167H', 'S34R', 'C148E', 'P167C', 'G150R', 'S67R', 'I26A', 'Y33Q', 'A40E', 'V192K', 'S162L', 'N11W', 'N11F', 'L109A', 'I26N', 'D57A', 'G150T', 'I78R', 'A188E', 'E74F', 'V178W', 'L36A', 'Y91V', 'S17E', 'C29N', 'P94I', 'S43H', 'A79E', 'Y19P', 'T168W', 'Q161T', 'N105V', 'K85P', 'V35R', 'H187D', 'V30S', 'H187T', 'D57V', 'Y141A', 'L3Y', 'N118T', 'N11K', 'A12I', 'G164C', 'G144A', 'N116I', 'N149E', 'I78W', 'N38M', 'V113T', 'K54F', 'K24V', 'P147C', 'L186Q', 'Y141E', 'G170Q', 'T98N', 'Y64M', 'P159R', 'S106D', 'F6P', 'N105Q', 'S162A', 'Y37L', 'C29K', 'S145Y', 'L160Y', 'V113R', 'E74S', 'E139S', 'P189M', 'P131T', 'C59K', 'P159N', 'A79D', 'K46S', 'Q166G', 'T61V', 'K85E', 'D66E', 'S17H', 'S127W', 'Y48R', 'P167Y', 'Y89V', 'A143H', 'V151Y', 'A31E', 'T44W', 'L120R', 'N149K', 'I86Q', 'E139M', 'S127P', 'A143T', 'S145E', 'P52N', 'Q77E', 'D96E', 'S106F', 'D95G', 'L120D', 'N108G', 'T168P', 'C100T', 'E133T', 'I136E', 'T61S', 'T191C', 'N90T', 'G81M', 'Q142L', 'F158L', 'V151L', 'F42Y', 'V30Y', 'F154E', 'L36K', 'I70E', 'Y89I', 'G164S', 'W104R', 'N128C', 'T98F', 'D32K', 'K54E', 'N107S', 'V179G', 'N22S', 'D73L', 'Y19E', 'A188I', 'L109Y', 'S41A', 'L58N', 'D95V', 'T168D', 'N38Y', 'N11L', 'S162D', 'Q82P', 'Y163D', 'Y117G', 'F45A', 'I26M', 'Y37D', 'Y163E', 'N149I', 'N105M', 'I102N', 'K126D', 'T146Y', 'G170V', 'V30E', 'N108I', 'F15M', 'V151W', 'N108L', 'P94K', 'T138G', 'G81K', 'F158A', 'V18P', 'A40N', 'R125Q', 'V69S', 'V18S', 'Y141N', 'S34W', 'S17C', 'G84N', 'Y91K', 'K130S', 'C29D', 'S137W', 'K130T', 'A31R', 'S27M', 'V113D', 'N118S', 'E8Q', 'A65P', 'G114E', 'N2Y', 'Y157P', 'I102D', 'K130V', 'S162P', 'I86E', 'V151H', 'V9Y', 'N11Y', 'D57E', 'P159M', 'K46T', 'S27F', 'G7L', 'Q174P', 'R125H', 'N108E', 'Y141T', 'L123K', 'T13R', 'N128E', 'F42H', 'E184V', 'D95M', 'V171K', 'N118H', 'T61F', 'Q166I', 'N62Q', 'Y48C', 'G115D', 'G72A', 'Q82A', 'F154P', 'A79R', 'A40S', 'C193Q', 'T53P', 'S182N', 'S127Y', 'L93M', 'G170W', 'H187K', 'I26C', 'C59N', 'T98H', 'F183L', 'D32L', 'F183C', 'G115N', 'K126A', 'D135E', 'N107I', 'L3D', 'Q142T', 'V151E', 'T53N', 'A20V', 'S67Y', 'R23Q', 'S27K', 'I136S', 'V69R', 'E152M', 'P189V', 'F183K', 'S41V', 'I140Y', 'F132N', 'Q174C', 'G164T', 'L186R', 'P131K', 'A79L', 'V63C', 'A65T', 'N90C', 'V69E', 'D96V', 'T53C', 'V63D', 'A188R', 'Y141P', 'K85Q', 'F124Y', 'F158I', 'L120W', 'S39G', 'C47I', 'V101K', 'F124G', 'F15E', 'S27H', 'P189Y', 'Y19C', 'N107M', 'S111E', 'R134E', 'R177M', 'L120P', 'P147M', 'S51C', 'T13M', 'T44M', 'V179D', 'F6Y', 'V50H', 'I78L', 'P167V', 'N2M', 'V18F', 'S111T', 'A143D', 'K24R', 'F42E', 'P52V', 'A143I', 'K85W', 'E152K', 'N2G', 'V113H', 'L58H', 'C59H', 'G114M', 'P131A', 'N116V', 'S127T', 'G72E', 'F15C', 'S34H', 'V178D', 'T13Y', 'E184M', 'R177D', 'C148N', 'R23V', 'T53V', 'P175T', 'A16M', 'Y33N', 'K46R', 'S137V', 'F45D', 'S137G', 'Y121T', 'Y89E', 'N56R', 'Y37N', 'L109R', 'Q82N', 'T53W', 'N116R', 'W104Q', 'T53I', 'D135A', 'K92T', 'L93G', 'K54Q', 'V63G', 'L186M', 'G72I', 'D66R', 'T53S', 'T138K', 'C156W', 'L109K', 'G164Q', 'D95R', 'C59G', 'A12G', 'K92P', 'T53K', 'N2E', 'L181Q', 'G194L', 'R71A', 'V101W', 'I136L', 'V35D', 'L186W', 'V180S', 'Y141C', 'V50L', 'C29E', 'K126G', 'E74T', 'V18C', 'F97P', 'G84D', 'V69D', 'F97A', 'A16N', 'C4G', 'S41Y', 'S182Y', 'A20T', 'R125T', 'P167I', 'Y121G', 'Y64S', 'G170K', 'K92N', 'N28Y', 'C148T', 'V101D', 'A79Q', 'V50G', 'E133I', 'F10M', 'F183R', 'S51D', 'R14L', 'I26Y', 'H187V', 'P5C', 'N11G', 'Q161N', 'K24T', 'Y91W', 'R177Y', 'G194K', 'V69C', 'F10Q', 'Y37K', 'D57C', 'G114Q', 'L185D', 'G114V', 'D110V', 'T13P', 'F60E', 'P94R', 'T1Q', 'F10P', 'T168Q', 'I78F', 'R23F', 'K85S', 'F158C', 'K92L', 'V9I', 'V151R', 'Y163G', 'I70K', 'C156K', 'N62A', 'T146Q', 'S106P', 'Q142I', 'Y119Q', 'N105Y', 'G99M', 'F45S', 'E139A', 'F183M', 'K112E', 'V18H', 'V178C', 'Q142Y', 'L129T', 'F60G', 'R76W', 'C193V', 'Q161P', 'V113Q', 'Y48V', 'S182P', 'Q161A', 'F45L', 'K112G', 'N169V', 'V101P', 'N108V', 'P147Y', 'Y141I', 'D73K', 'A143M', 'S145K', 'S17A', 'P80G', 'V178A', 'C100N', 'G194W', 'R14F', 'D95K', 'G84W', 'T44L', 'C193D', 'P175Q', 'G72R', 'P189E', 'T61R', 'F10N', 'A87W', 'P195D', 'R122S', 'A31V', 'R177P', 'N38T', 'S182L', 'N62Y', 'S43I', 'P131Y', 'A87P', 'A87F', 'P159G', 'V50T', 'P167G', 'S27D', 'K112W', 'V101F', 'D66N', 'E74V', 'Q82K', 'V171L', 'F42V', 'V75D', 'V35G', 'N155H', 'Y33K', 'Y48F', 'G72H', 'T138N', 'D57H', 'R177Q', 'I140V', 'Y19N', 'A20N', 'G115W', 'F10C', 'P195C', 'C148H', 'T61W', 'D57Y', 'S27Q', 'Y37Q', 'S43P', 'C148P', 'F68W', 'G153N', 'L123P', 'G81N', 'R25K', 'D135T', 'V18G', 'S182V', 'A20L', 'Y163H', 'S127G', 'V151A', 'P80W', 'R25H', 'T146D', 'S106T', 'S182A', 'S127N', 'K126S', 'N108M', 'F124M', 'S111A', 'G84K', 'S162R', 'Y119T', 'N105E', 'S41D', 'A79C', 'Y121P', 'G172Q', 'E139W', 'F132E', 'L36Y', 'I26R', 'N108S', 'N105P', 'V69P', 'V101Y', 'K46N', 'I70V', 'T191E', 'S127K', 'I78N', 'R122A', 'P167D', 'Y64I', 'L93A', 'F158M', 'C29R', 'N90K', 'Y33W', 'F165Y', 'Q161E', 'R14W', 'Y121C', 'G49K', 'G194Q', 'F15G', 'K112S', 'V30R', 'D32R', 'K54D', 'K46V', 'G153W', 'T98Q', 'A20R', 'G170D', 'T146K', 'Y163Q', 'A190I', 'G49L', 'A188K', 'Y121N', 'N28Q', 'V101R', 'V69M', 'Q166L', 'P175G', 'S41W', 'L58V', 'R76C', 'D73S', 'L129G', 'Q174A', 'G194D', 'P167S', 'G7I', 'A143C', 'K85V', 'V30Q', 'E133A', 'Y64K', 'N155S', 'L109I', 'I26K', 'T61H', 'I102W', 'V63M', 'S39Y', 'F132Y', 'V63N', 'K130L', 'S34A', 'Q161S', 'L160C', 'A20F', 'N11D', 'N11S', 'F6T', 'S145N', 'Y91E', 'Y33G', 'Y19H', 'P5T', 'S137M', 'V63H', 'E8I', 'E8N', 'G99W', 'V9A', 'T1G', 'T191D', 'N118M', 'N38Q', 'I102R', 'V151M', 'S41H', 'L109G', 'L109V', 'C193N', 'F97S', 'K126N', 'E152S', 'G170R', 'S39L', 'A143W', 'Y163S', 'A31Q', 'V69L', 'S43G', 'G150M', 'G81F', 'P189Q', 'L109P', 'I86K', 'F6A', 'I78M', 'V101C', 'S127M', 'S27N', 'G194E', 'R76H', 'Y173R', 'G172T', 'Y19V', 'V101H', 'C47E', 'C4K', 'G84L', 'S27V', 'S111F', 'A188N', 'P159Y', 'W21K', 'D135I', 'K54H', 'H187A', 'P80Q', 'D135F', 'P159I', 'D66T', 'R23G', 'G170M', 'R76V', 'G153K', 'P195E', 'F60S', 'G150H', 'A16R', 'A65Y', 'G144N', 'L120H', 'F165V', 'L109C', 'N155P', 'A20E', 'G114P', 'K24Q', 'A12M', 'N116H', 'F15S', 'T1M', 'Q82E', 'D88R', 'V101A', 'G115H', 'A12V', 'G170S', 'A31K', 'K92C', 'A188G', 'V75F', 'P80T', 'N169R', 'S106E', 'W104F', 'N62I', 'T53Q', 'E8K', 'A103H', 'G114F', 'Y33M', 'L185K', 'A12D', 'T53F', 'V50E', 'Y173V', 'Y19I', 'R134A', 'G194F', 'S111G', 'D66H', 'V69F', 'F15W', 'G172H', 'D88H', 'Q77P', 'A31P', 'N2Q', 'N107K', 'A143E', 'D88T', 'K112D', 'N108A', 'I140T', 'Y141H', 'P167K', 'E139D', 'K130F', 'F60M', 'T168S', 'N169F', 'F97L', 'P94C', 'C148M', 'I140W', 'W21V', 'D73Y', 'S43E', 'R25P', 'Y119D', 'S17V', 'V75C', 'S106Q', 'S39F', 'T168F', 'S51V', 'T138M', 'Y19M', 'L160F', 'Y117H', 'I136M', 'V113N', 'Q166F', 'P189H', 'A143P', 'A16Y', 'A188S', 'R125I', 'G170Y', 'F158G', 'S162N', 'R125P', 'S67A', 'V101E', 'R177W', 'H187S', 'F132V', 'Q174H', 'F68R', 'I102F', 'V192F', 'L120I', 'V171Q', 'L129Q', 'S34P', 'N108Y', 'S162K', 'S41I', 'N56M', 'G170L', 'W21M', 'C148R', 'S137H', 'S39A', 'P5E', 'Q166Y', 'G81C', 'S51K', 'A190D', 'S51W', 'C29F', 'F42W', 'Y173Q', 'T83C', 'S127I', 'Y89S', 'P195I', 'I86N', 'G172A', 'Y48L', 'Y33V', 'R125W', 'H187Q', 'A31C', 'V30W', 'V75L', 'K126R', 'G81L', 'G153H', 'A188Y', 'C193L', 'A12F', 'C100A', 'L58M', 'P80K', 'G194R', 'C193T', 'S27G', 'N2T', 'D73W', 'A190C', 'N22L', 'N90V', 'R71E', 'L93Q', 'E74I', 'N118A', 'D135M', 'N169P', 'A190W', 'V30M', 'Y121A', 'L36H', 'F97Y', 'D88K', 'N22M', 'F132R', 'Y157T', 'N169T', 'N38E', 'K85A', 'L55Q', 'V151N', 'F165E', 'D95N', 'G84M', 'A103G', 'N38V', 'Q142D', 'V179L', 'T98Y', 'V9L', 'I78Y', 'C47P', 'T138D', 'Q174E', 'G144F', 'A103P', 'I26W', 'V50K', 'Y117A', 'P189C', 'D32H', 'V9K', 'S182Q', 'L160N', 'H187C', 'K112R', 'F45H', 'A79H', 'L36T', 'P175K', 'P80L', 'P195Q', 'Y176S', 'D32W', 'C59I', 'Q82D', 'Q161V', 'T191N', 'Y176N', 'G7Q', 'A20Y', 'C193R', 'L186Y', 'D32M', 'D73G', 'F42M', 'N169I', 'P147L', 'K85Y', 'F6R', 'C148I', 'S111P', 'A79T', 'A103T', 'C47K', 'P167M', 'N105W', 'D88M', 'E184P', 'F10H', 'L129R', 'I70A', 'C100S', 'D88P', 'I102T', 'R76I', 'G144R', 'D110Q', 'S27T', 'R71F', 'D96N', 'I136C', 'K54V', 'A190Y', 'L55D', 'L58R', 'T191W', 'L109Q', 'L3C', 'P189R', 'K54N', 'A190K', 'K85C', 'V9C', 'R14S', 'D96M', 'Q174F', 'P175W', 'V151S', 'E152G', 'A12W', 'P195Y', 'G150Y', 'E152Y', 'R71P', 'E133V', 'G115V', 'S111C', 'A190N', 'L181I', 'Y117Q', 'D135N', 'L93Y', 'G153M', 'Y163A', 'C47Y', 'E184D', 'D135G', 'N105S', 'D88G', 'L55C', 'L55E', 'T13I', 'T61Q', 'P94T', 'Y119M', 'F158Q', 'R125Y', 'R71N', 'S34I', 'D95I', 'S111V', 'Y33I', 'T44K', 'S137T', 'L160K', 'K112F', 'A12T', 'F68A', 'V113W', 'L93K', 'C4E', 'S34E', 'P5G', 'R71H', 'A31L', 'S27Y', 'F45K', 'K92M', 'V63I', 'Y121H', 'I26P', 'L181F', 'G84T', 'G172W', 'F6L', 'K126V', 'N90D', 'F6D', 'F132C', 'I140F', 'L129E', 'T98K', 'A79F', 'L129H', 'C29L', 'V30P', 'L93S', 'G114W', 'Y33H', 'V18L', 'L109F', 'V178S', 'K130W', 'L58T', 'V178L', 'S17G', 'P131H', 'Y119H', 'I102Q', 'Y91P', 'Y64T', 'L185I', 'G170T', 'S17R', 'S162I', 'Y91M', 'D66F', 'Q174I', 'F6G', 'N62G', 'N116T', 'L3E', 'L123W', 'G150K', 'N169Y', 'N2P', 'N128K', 'S67M', 'T138Q', 'T44P', 'F124D', 'A103E', 'K46A', 'A190P', 'G84P', 'G81P', 'K126W', 'D57I', 'C29Q', 'C156Q', 'N107P', 'T13D', 'D96F', 'N128G', 'Y48A', 'P52H', 'A40H', 'D110C', 'K130R', 'P131G', 'G99F', 'I70F', 'T61N', 'Y119V', 'Q82F', 'G84I', 'Y176K', 'G114I', 'A143V', 'I78Q', 'V50R', 'S17W', 'L93N', 'R23A', 'A188W', 'N128M', 'Y173N', 'R122I', 'S41T', 'V178M', 'I86G', 'Y157F', 'R23Y', 'S127R', 'L181M', 'V30D', 'Q161Y', 'Y64D', 'F10T', 'I102S', 'P52E', 'V180I', 'K24C', 'Q142N', 'Y37W', 'L36G', 'G81W', 'N90L', 'K54I', 'S106Y', 'S67P', 'A79G', 'D95W', 'F6C', 'C47H', 'P195L', 'G114Y', 'K130E', 'F45I', 'N56E', 'R125L', 'S27A', 'G7N', 'F124C', 'S17Q', 'T13G', 'V180F', 'R14T', 'L55G', 'K126I', 'S43W', 'C4R', 'F97W', 'L181R', 'L160D', 'Q161M', 'S41L', 'R122C', 'G150Q', 'E139R', 'F10G', 'P147I', 'E8A', 'G7C', 'F68T', 'Y157N', 'V75Y', 'P52I', 'N107G', 'V113C', 'C148Q', 'Y48G', 'C156N', 'K54W', 'C148S', 'I140A', 'S39E', 'N28H', 'I70W', 'S111N', 'N2V', 'G99S', 'R71M', 'L185Q', 'F60D', 'L160G', 'R71T', 'E184S', 'T1V', 'Y89T', 'G153A', 'G115C', 'I136G', 'R125V', 'Y19W', 'K24A', 'E8T', 'T53A', 'Q77N', 'A190R', 'G164R', 'G84V', 'G172C', 'E184K', 'N56W', 'S17F', 'F45W', 'D96L', 'W21L', 'Q77Y', 'S67E', 'P159Q', 'F124P', 'N62L', 'Y141S', 'R23C', 'Y121K', 'K126Y', 'E139K', 'F42I', 'Y157Q', 'S145I', 'L3N', 'D110E', 'Y37G', 'D95P', 'S67I', 'A12L', 'W21I', 'F97G', 'S34Q', 'N38C', 'G144K', 'A65Q', 'I86Y', 'F154Y', 'A16I', 'P195A', 'A20S', 'K92V', 'I136W', 'Y48D', 'G81S', 'L129C', 'P131D', 'V179E', 'A20H', 'V50Q', 'T13F', 'S182C', 'I86V', 'Y91A', 'P52C', 'A12K', 'V50A', 'A20W', 'S51F', 'G114D', 'E152F', 'T191I', 'R14G', 'Y173E', 'T13E', 'N128P', 'L160H', 'E184W', 'Y121M', 'N22K', 'D73I', 'Y119S', 'Q166C', 'P94G', 'G84S', 'G81D', 'T191G', 'Q77F', 'L55F', 'D110K', 'D96A', 'E139Y', 'R23E', 'G164A', 'L160M', 'Y141D', 'R125G', 'N128T', 'I136F', 'G164Y', 'N56Q', 'N116W', 'S39I', 'L55R', 'N155Y', 'N107Q', 'K85F', 'E74L', 'N116Y', 'V18M', 'Y117K', 'K130Q', 'G99V', 'G164N', 'G72Y', 'V179A', 'A16K', 'R122T', 'V50D', 'R134K', 'L123E', 'V75M', 'C47W', 'E133N', 'K24Y', 'T13K', 'V9N', 'N149T', 'V69W', 'R71C', 'P52G', 'K46W', 'Y48S', 'P159S', 'T138V', 'G150P', 'F124W', 'N118G', 'S111L', 'R25W', 'V30H', 'T168C', 'D73V', 'N118C', 'L120F', 'V35W', 'S41C', 'I86F', 'F60A', 'S111D', 'T146R', 'P175C', 'Q166N', 'E74Y', 'T1F', 'T1I', 'P189F', 'V151K', 'L160Q', 'L3M', 'E133Y', 'L181G', 'T1W', 'A31Y', 'S145M', 'Y37S', 'L58D', 'D32T', 'V179S', 'V69A', 'Q142S', 'D66I', 'K54A', 'V192Q', 'G144H', 'Y91F', 'Y19T', 'Y119F', 'N116G', 'Y64A', 'W21E', 'N155C', 'K126C', 'Y173T', 'N118F', 'F6E', 'D88S', 'Q166K', 'A16H', 'N108W', 'P52Q', 'S67V', 'G194V', 'Y91R', 'N22H', 'N107V', 'K130D', 'Y48E', 'V151Q', 'T138E', 'G7S', 'W104V', 'V171A', 'S51P', 'V113I', 'V35P', 'Q77M', 'C100W', 'F10Y', 'Y176M', 'K54S', 'G114H', 'C100R', 'P80E', 'P94S', 'T138I', 'S182R', 'T98C', 'K112P', 'P147G', 'Y173S', 'L123Y', 'V30T', 'E152T', 'V75R', 'Y157K', 'A79M', 'S43V', 'Q161H', 'G150L', 'V69G', 'A65V', 'A79Y', 'F154V', 'V30C', 'Q174W', 'L58P', 'E133H', 'W104E', 'T61M', 'Y89R', 'C59A', 'T13S', 'A40M', 'T1Y', 'R125D', 'D96Q', 'F165W', 'R14C', 'C193E', 'F154T', 'G164F', 'F60H', 'S145C', 'A188Q', 'L129W', 'W104H', 'A188M', 'R71D', 'T191F', 'G115E', 'D88Y', 'D57R', 'G194T', 'G99A', 'N169S', 'G164H', 'F165M', 'R71W', 'S34K', 'S106R', 'I102Y', 'F68S', 'G99C', 'L185V', 'H187P', 'A79S', 'N107D', 'G115R', 'L93T', 'Q142W', 'V9R', 'T138L', 'T44C', 'N149Q', 'V35Q', 'K112I', 'T44E', 'A16C', 'P80F', 'N62E', 'S17P', 'L129D', 'S137P', 'S39R', 'S27E', 'F183G', 'W104N', 'G99K', 'R14P', 'V18A', 'V18D', 'S145Q', 'D135H', 'R76G', 'Q174V', 'G172I', 'A188L', 'A103M', 'K46P', 'V35K', 'L160T', 'Y173I', 'D95Y', 'G150W', 'R76S', 'T146S', 'F45V', 'Y64V', 'F183N', 'R134Q', 'K130M', 'I70Q', 'N22T', 'S162V', 'F124N', 'L93H', 'C148W', 'F45R', 'K46E', 'N107T', 'F97K', 'V151D', 'F183I', 'G84E', 'T146E', 'F165C', 'T191M', 'E8D', 'D73Q', 'L123G', 'L181V', 'L185G', 'L58F', 'L185Y', 'T83H', 'A103R', 'L58I', 'T44V', 'T168I', 'G84C', 'A188C', 'D66P', 'C193S', 'Q82S', 'N56P', 'N62T', 'D32E', 'C59E', 'G49N', 'P147V', 'G170P', 'V9D', 'V151G', 'S43K', 'S34C', 'A190H', 'N2K', 'K54P', 'E133G', 'G172F', 'L181E', 'V75Q', 'S51M', 'V9H', 'L185A', 'S162G', 'V192W', 'T191S', 'K92Y', 'G170C', 'G114C', 'P131R', 'F60L', 'G49A', 'V113E', 'D57T', 'N56A', 'Y176C', 'Y117N', 'R125S', 'E139N', 'P5L', 'F154D', 'D110A', 'S51R', 'Y176E', 'I86A', 'V180H', 'N28V', 'P175V', 'N116A', 'A20Q', 'S39Q', 'F132K', 'A190T', 'L36S', 'N149P', 'Q77V', 'Y157R', 'N149F', 'K24G', 'G7D', 'A12S', 'G172V', 'Q174N', 'N62H', 'D96R', 'E133C', 'F15A', 'L93W', 'F183P', 'Y19F', 'G164K', 'N38G', 'A188V', 'D32A', 'A65H', 'V171H', 'T98V', 'Y64E', 'F45M', 'N11M', 'D96S', 'D73A', 'Q77T', 'G170H', 'Y48I', 'A65S', 'Y121I', 'I70L', 'G72S', 'A65R', 'F60W', 'L186K', 'N118I', 'N169Q', 'V75K', 'Y163F', 'T83I', 'H187E', 'C47V', 'Q166H', 'N56D', 'E74K', 'L109D', 'V178E', 'Y37V', 'R122L', 'S41K', 'E184T', 'R71V', 'E133W', 'N108T', 'K46D', 'R177I', 'G194C', 'F60Q', 'A188F', 'L185T', 'A143K', 'P131Q', 'G49E', 'G81V', 'C29P', 'Y141Q', 'Y37I', 'A16S', 'N11A', 'I136Y', 'A65E', 'E139Q', 'D66V', 'N118R', 'A103L', 'S111I', 'A143Y', 'E8S', 'F45Q', 'N62K', 'E74H', 'F68C', 'Q77H', 'S17T', 'Y37E', 'V9W', 'Y141G', 'R14M', 'F60N', 'I140E', 'G81E', 'S67K', 'N90F', 'F97T', 'F45Y', 'Y157L', 'A31D', 'L123V', 'K112V', 'N118D', 'L123D', 'T98E', 'P175H', 'W104Y', 'T53L', 'V9G', 'A65K', 'L3W', 'V69Q', 'V30A', 'S39D', 'R134I', 'S27L', 'V151F', 'G153V', 'Y176I', 'F15K', 'S137R', 'N56H', 'Y89C', 'E184G', 'V180W', 'T138W', 'A87V', 'G49R', 'N155D', 'T146N', 'A65W', 'L129F', 'W104L', 'Q161W', 'Q161I', 'N28S', 'T191A', 'D66K', 'L181W', 'I140K', 'F154A', 'C156M', 'A12Q', 'A79W', 'P5V', 'A40Q', 'E74M', 'R177V', 'N38H', 'A190Q', 'D32C', 'N105C', 'C59F', 'G49Q', 'A188T', 'P195V', 'N118K', 'K92S', 'A16L', 'V192Y', 'G172K', 'P52T', 'V113G', 'W21R', 'R76N', 'V192S', 'D57G', 'V75S', 'R125A', 'N155I', 'T13N', 'P5W', 'Y176R', 'F10V', 'R122M', 'L3Q', 'R14Q', 'S162F', 'Y89D', 'S127H', 'G84Y', 'D57M', 'E8F', 'I70S', 'A65G', 'V18R', 'A40F', 'Y64F', 'C47Q', 'V113K', 'D66S', 'F158W', 'S27R', 'S106M', 'E74G', 'L36M', 'I136N', 'F158Y', 'Y141V', 'E133K', 'V69Y', 'G150I', 'P167R', 'L58K', 'V18Q', 'Q166E', 'R23P', 'K112Y', 'Y163W', 'K46F', 'K92F', 'Y19Q', 'N105K', 'Y48K', 'N38P', 'Y141R', 'H187G', 'Q82M', 'Y173F', 'C100V', 'Y119I', 'L186F', 'Y89Q', 'F60T', 'Y121Q', 'I136A', 'L109H', 'D66G', 'F165D', 'V101G', 'P131C', 'V9S', 'K130P', 'Y37P', 'D88Q', 'Y64W', 'P94E', 'C148V', 'F97H', 'T138F', 'R76Y', 'Q82Y', 'S111H', 'N155F', 'S137E', 'L3S', 'P167A', 'A31F', 'K24F', 'Q174M', 'Y48M', 'D32N', 'E8G', 'D57Q', 'P167Q', 'V35N', 'W104I', 'A87G', 'C4P', 'N22F', 'E139I', 'E184A', 'P5Q', 'T83F', 'N107L', 'Y119C', 'L181N', 'N11C', 'T83R', 'Y89W', 'I140Q', 'T168V', 'I102K', 'V30K', 'N28P', 'N28R', 'K92H', 'P147F', 'N155T', 'Y121D', 'N155G', 'V179M', 'S67L', 'N62C', 'L129P', 'K85T', 'S41R', 'Y176Q', 'S17N', 'L181A', 'N90Y', 'E152V', 'W104K', 'F154H', 'S43T', 'P147R', 'V63A', 'S162Y', 'R122D', 'S182D', 'A65M', 'A103F', 'A143L', 'T44R', 'K24I', 'N56Y', 'F15Q', 'I86P', 'V178I', 'T83L', 'R122Q', 'R25I', 'L55T', 'C4Y', 'G153F', 'Y163P', 'A79V', 'G153P', 'E8C', 'N149A', 'R23K', 'Y176P', 'N155V', 'K46Y', 'C29I', 'N56V', 'G153Q', 'C156R', 'T83Q', 'V179W', 'Q174T', 'L93P', 'V35C', 'R125F', 'Q174K', 'A65C', 'L160P', 'P159H', 'Y176A', 'S145T', 'T191P', 'A103K', 'S137A', 'N116P', 'F45E', 'V101M', 'G84R', 'T53D', 'A143R', 'Q142V', 'G194S', 'A87R', 'N28G', 'G172R', 'Y48T', 'E8P', 'T191Y', 'R23M', 'Y48Q', 'Y163I', 'C4D', 'Y117S', 'Y33R', 'N105L', 'C156F', 'Y37M', 'A188H', 'D96P', 'F132G', 'L36Q', 'L3F', 'E74Q', 'G150D', 'N169D', 'C29M', 'F6K', 'P94A', 'V171I', 'F60Y', 'Q77C', 'N90W', 'K126M', 'S127E', 'G81H', 'F6S', 'Q142C', 'D135Q', 'E152R', 'N149V', 'S145G', 'N62M', 'E152N', 'G164M', 'E184L', 'P147W', 'L3A', 'Y157A', 'L55K', 'C193I', 'N22P', 'F124L', 'S39T', 'N11E', 'T1S', 'R23D', 'I102A', 'F68V', 'N108F', 'T146H', 'D73N', 'D96W', 'C148A', 'E184C', 'C193A', 'P131V', 'G172E', 'V75T', 'R76E', 'P94H', 'T53E', 'I70D', 'N22I', 'P131I', 'F42D', 'V75P', 'L181H', 'Y117D', 'F68K', 'L120S', 'V63E', 'F165T', 'P195F', 'D95F', 'G153I', 'A20I', 'V30I', 'Y119G', 'G49C', 'T191R', 'N108C', 'D135K', 'I70Y', 'V35L', 'A65D', 'F15I', 'L109S', 'E152W', 'A87T', 'P80V', 'C193W', 'F6W', 'V180N', 'V151C', 'T168G', 'Y48P', 'C29H', 'P147D', 'A20C', 'D110G', 'P175S', 'R25V', 'V171G', 'A190M', 'D57K', 'R125N', 'C156L', 'F42S', 'R134L', 'F97I', 'G164W', 'V18W', 'L93C', 'Y64P', 'G49D', 'L55N', 'T138P', 'V192D', 'S162W', 'Y163V', 'P5A', 'N149S', 'L160W', 'D135W', 'C59Y', 'T168K', 'A16P', 'S27P', 'C4M', 'R71Q', 'F132T', 'N22W', 'A40V', 'G150E', 'P175F', 'D73M', 'P159C', 'I102M', 'W21T', 'V192L', 'C156T', 'C193M', 'A12R', 'P80N', 'P5I', 'F165G', 'E8W', 'C4L', 'F10A', 'V101L', 'A12E', 'E133R', 'F68I', 'V63R', 'Y19S', 'N62W', 'W21G', 'P175A', 'G150C', 'T98P', 'F68D', 'S34Y', 'I70T', 'A12N', 'F68G', 'P189D', 'E133F', 'W21N', 'F124E', 'L36C', 'E139V', 'Y176T', 'F183E', 'C100L', 'V192I', 'C156E', 'N62D', 'A188P', 'F154L', 'N116E', 'W104D', 'R71Y', 'Q161G', 'N22D', 'N38K', 'N107W', 'E74N', 'D95E', 'Q161C', 'V180C', 'A143S', 'I70C', 'I26T', 'N90A', 'G144L', 'L129K', 'E8L', 'V101T', 'E8M', 'Q77A', 'V178Y', 'C59R', 'I102E', 'A103Q', 'N169M', 'K46H', 'T61C', 'G115Q', 'S106L', 'F165P', 'L93F', 'A40P', 'P159T', 'S67H', 'C156S', 'G99Y', 'P5M', 'I140S', 'S51L', 'S43R', 'S43M', 'L120C', 'Y163N', 'S145P', 'T191H', 'S39H', 'V113F', 'V63K', 'E139H', 'F97Q', 'E152A', 'K54T', 'T168A', 'V171M', 'L185N', 'V180T', 'T53G', 'Y119P', 'A31I', 'A87S', 'R134D', 'T146G', 'A143G', 'L186S', 'I70P', 'S43Y', 'N62S', 'P52A', 'P94W', 'I140M', 'Q82H', 'E8R', 'G49M', 'C193K', 'R14Y', 'D57W', 'G144P', 'S43D', 'C100Y', 'K85I', 'F42A', 'F97R', 'G99H', 'S127V', 'N38A', 'F132S', 'F154M', 'Y33L', 'W21D', 'N149C', 'I102V', 'Y117I', 'L181C', 'D110L', 'A190E', 'Y119N', 'P147K', 'N118P', 'E139T', 'P159K', 'A87H', 'F15Y', 'Y33D', 'S106K', 'V113Y', 'Y119A', 'V178G', 'N149G', 'N11V', 'Y33E', 'I140P', 'T53H', 'V179K', 'F183D', 'S145W', 'N11P', 'D73H', 'D57P', 'N28A', 'G115A', 'L36E', 'I78G', 'P147E', 'W21P', 'G153R', 'P159W', 'T53Y', 'S34T', 'D88L', 'E184Y', 'Q166W', 'Y119R', 'Q174S', 'T83G', 'I26G', 'C59Q', 'A190S', 'T44G', 'N22G', 'D32V', 'V30N', 'F124S', 'V179P', 'A40I', 'V101Q', 'C100D', 'T98M', 'G114S', 'F6I', 'Q161R', 'E152Q', 'N28K', 'V69K', 'F68P', 'S127C', 'S41N', 'R134V', 'V63P', 'Y173A', 'F10S', 'T191V', 'V9Q', 'G170N', 'T53M', 'C100Q', 'D135P', 'N38F', 'T1K', 'Y33S', 'F132D', 'G153E', 'V35H', 'V179R', 'P52R', 'R23S', 'Y157C', 'S111Q', 'G194P', 'Q82W', 'K24H', 'L55W', 'V18K', 'T44H', 'Y163R', 'I26S', 'T83V', 'N169A', 'F158K', 'I26D', 'F15R', 'V180R', 'D95T', 'L186A', 'Y117L', 'D32Q', 'S43L', 'G49H', 'P80A', 'F68N', 'E8Y', 'Y33F', 'V171T', 'A79K', 'C47D', 'G170I', 'P195T', 'S162Q', 'S27C', 'N128I', 'K92Q', 'L109M', 'L186G', 'V63W', 'N105R', 'K24N', 'T146V', 'S39K', 'S51N', 'F15N', 'I26H', 'Y176L', 'T146M', 'F183V', 'N62P', 'T83K', 'T168N', 'T44N', 'R25T', 'D110N', 'D96I', 'Y121R', 'A20G', 'G115M', 'S34D', 'N56T', 'T146I', 'C47S', 'Y89M', 'I136V', 'S137K', 'F124R', 'N11T', 'T146P', 'K126L', 'A12P', 'C100E', 'S182F', 'F154N', 'N56S', 'H187W', 'G99Q', 'L55V', 'S34F', 'L185P', 'S145R', 'Q142G', 'Q77D', 'S34L', 'E74C', 'K130I', 'E133L', 'N22Y', 'N38I', 'L185R', 'R14D', 'Y173K', 'Y91D', 'V178H', 'I136D', 'N90I', 'T13V', 'C29Y', 'S39M', 'I86T', 'V101S', 'R23H', 'A31H', 'R25M', 'L123N', 'D110T', 'S67N', 'V69H', 'T138H', 'R76L', 'N118L', 'F132M', 'A65N', 'Y91N', 'S106G', 'Y121W', 'N108K', 'S182E', 'P5S', 'R177G', 'F10I', 'T61E', 'G194M', 'C29S', 'L36W', 'G99N', 'V171W', 'V50P', 'Q142H', 'F154Q', 'I78H', 'Y89K', 'Q142A', 'P52D', 'C29W', 'L93V', 'Y121V', 'A12H', 'P131L', 'A16W', 'Y176W', 'G164V', 'C29T', 'R125K', 'L58Q', 'L55Y', 'N116L', 'L36V', 'P94V', 'P195H', 'K130H', 'T138S', 'Y91C', 'E133S', 'Y121S', 'D88C', 'C156D', 'C4W', 'Y157I', 'W104S', 'Y64L', 'I86D', 'E133M', 'L185C', 'A16E', 'N28W', 'R125E', 'T98D', 'G144T', 'E8V', 'S39P', 'G49W', 'A12Y', 'R25L', 'V9E', 'Y117C', 'R23L', 'N105G', 'D135L', 'P159D', 'Y91G', 'K24E', 'I26L', 'Q77G', 'V63Y', 'D73E', 'G144V', 'P189T', 'S67T', 'F158D', 'S41E', 'L181T', 'L3H', 'S182K', 'S127D', 'N56F', 'K46M', 'L160V', 'K130C', 'R76P', 'I136Q', 'D110P', 'N128S', 'I86C', 'A31S', 'N128F', 'A103W', 'S137N', 'V18Y', 'W104C', 'P195G', 'K92A', 'D73R', 'I140G', 'Q82I', 'C59P', 'S137I', 'K126Q', 'L36R', 'N155R', 'G194H', 'A79P', 'S111W', 'K54G', 'Y157D', 'R177E', 'F154S', 'Y141L', 'K85L', 'C29A', 'V192G', 'F158H', 'K112A', 'R134T', 'G7H', 'F68H', 'G144C', 'L186T', 'F6M', 'T1N', 'V179Y', 'N108Q', 'V69N', 'P80H', 'C156H', 'F10K', 'E184F', 'S43A', 'N116F', 'T98G', 'T13A', 'D95S', 'I26F', 'T146C', 'L55A', 'D32I', 'S106A', 'F132A', 'Y48N', 'A79N', 'T98R', 'S182G', 'S162T', 'F10D', 'Q77R', 'G72K', 'Y163L', 'T61D', 'K126E', 'A190L', 'G7M', 'N149W', 'V63F', 'C29V', 'S127A', 'D95Q', 'A40L', 'N128V', 'V63L', 'D57L', 'Y117R', 'L123H', 'N128Y', 'G115Y', 'H187L', 'F68Y', 'N38D', 'I86H', 'F183W', 'V35Y', 'N62V', 'A40K', 'V179I', 'G164P', 'H187R', 'D96T', 'A103V', 'Y33P', 'P167E', 'N2C', 'Y19D', 'L185S', 'R134S', 'L120Q', 'Y117F', 'N128L', 'G72F', 'L3R', 'L93E', 'L109T', 'G99R', 'G81T', 'G150A', 'I102C', 'W21A', 'A87E', 'Y64N', 'P189N', 'Y173P', 'H187Y', 'P94M', 'D135V', 'S51E', 'S145D', 'L58E', 'P131M', 'D135Y', 'D95A', 'V35T', 'A87Q', 'H187M', 'P195N', 'Q142M', 'Y117E', 'D57N', 'Y176F', 'G150F', 'P147H', 'P175M', 'P147A', 'P175N', 'W104A', 'D95C', 'P175L', 'L181Y', 'R122G', 'G49P', 'V50C', 'D66Y', 'I140C', 'H187F', 'K24L', 'F124V', 'N149D', 'L129S', 'S34V', 'R71G', 'G164D', 'K112Q', 'C156Y', 'P131N', 'C148G', 'R23W', 'S162M', 'A103S', 'N128H', 'V179N', 'N22V', 'S51H', 'N2W', 'S145F', 'K46L', 'D135C', 'N108H', 'S39N', 'L93R', 'V178R', 'N56K', 'Y89L', 'V50M', 'L58G', 'Q166V', 'F42R', 'N28I', 'P5F', 'D73T', 'Y89N', 'E133D', 'W104P', 'A20M', 'N22Q', 'V180K', 'E184I', 'D88W', 'G114T', 'V75W', 'R122F', 'N108D', 'I78P', 'C193Y', 'N118Y', 'R14I', 'D73C', 'P5H', 'S106I', 'N22C', 'S51I', 'F132I', 'L160I', 'Y121F', 'S111R', 'P94Q', 'S43C', 'L55M', 'F10R', 'F165Q', 'F165S', 'A87Y', 'Y91S', 'I86L', 'G144I', 'F158T', 'F165H', 'C47L', 'E152P', 'N105H', 'I78S', 'K92G', 'V30F', 'G7P', 'S137L', 'C47M', 'I140N', 'R134F', 'C148F', 'D88N', 'K46I', 'T13H', 'A31G', 'F183T', 'N107R', 'V35M', 'F6N', 'F97C', 'G81A', 'N11Q', 'C156V', 'Y89H', 'D32P', 'N116D', 'Q77K', 'G84Q', 'F45P', 'I102H', 'E152L', 'I26V', 'K24W', 'S17D', 'G49T', 'D110M', 'F165R', 'K112M', 'L120A', 'T83W', 'Y19L', 'S51G', 'N105A', 'Q142K', 'F165N', 'T138A', 'D66A', 'V69T', 'Y176V', 'C156A', 'Q82V', 'S41F', 'V63Q', 'D110W', 'T61K', 'T138C', 'Y173G', 'L36F', 'Q82C', 'V35F', 'S182I', 'T44S', 'V113A', 'Q161D', 'T138R', 'T13W', 'E139P', 'F45C', 'T61A', 'A65F', 'L123F', 'G115P', 'Y91L', 'P52F', 'G153Y', 'A16V', 'Q161K', 'A20K', 'F68Q', 'R177A', 'G150V', 'F158S', 'G172L', 'G72V', 'P52S', 'C148D', 'D66W', 'V50W', 'I102P', 'I26E', 'R14K', 'S67C', 'N149R', 'C47R', 'G7R', 'V180D', 'V50I', 'V151T', 'V50S', 'F10E', 'Y157H', 'T61G', 'V63T', 'T168E', 'L3G', 'A31N', 'C4T', 'G144S', 'L181S', 'Y48H', 'N149L', 'C193G', 'T1H', 'D96G', 'R71K', 'G144D', 'G144Q', 'T61L', 'L58A', 'Y91I', 'F124H', 'N28D', 'E74A', 'N116K', 'K92D', 'S106W', 'L109E', 'Y117P', 'S137D', 'I102G', 'L120V', 'K92W', 'S67F', 'F6V', 'V192N', 'R134G', 'K112N', 'N105I', 'S67G', 'R177H', 'G153S', 'Y117M', 'L3I', 'K46G', 'P80S', 'V9P', 'A20P', 'K24D', 'K85G', 'L55P', 'R71L', 'N108R', 'N56C', 'I140H', 'K54L', 'V35E', 'K54M', 'T98L', 'T98I', 'R25E', 'S51T', 'F60R', 'L123R', 'R122W', 'K112H', 'Y33C', 'K46C', 'I78C', 'S43N', 'V178Q', 'H187N', 'N28C', 'G72L', 'T168Y', 'L181D', 'R25G', 'V192P', 'N38R', 'Y176G', 'E152I', 'G153T', 'L36P', 'I136T', 'V180E', 'N169C', 'F132H', 'T83M', 'S17Y', 'I140L', 'F68E', 'F42Q', 'Q142E', 'P147Q', 'G172N', 'Y163M', 'A87M', 'V171C', 'C4F', 'T191L', 'Y37H', 'C4H', 'F6Q', 'L36N', 'L186N', 'R25D', 'Y157M', 'P195S', 'F158P', 'N169W', 'N90H', 'W104T', 'Y176H', 'S17K', 'F154R', 'T146F', 'R134H', 'P94F', 'C29G', 'V178T', 'Q161F', 'N11R', 'Y33A', 'F68L', 'K85H', 'V50N', 'S111Y', 'N116S', 'P189S', 'N2A', 'V151P', 'F42P', 'N62R', 'F97D', 'F165A', 'L186H', 'A20D', 'V180G', 'D96Y', 'N149M', 'P131F', 'K92E', 'Y163K', 'W21S', 'V180P', 'F132W', 'S41M', 'F124I', 'A190F', 'N155L', 'N128R', 'L36I', 'G99P', 'K112L', 'N107H', 'G7E', 'Y121E', 'G194A', 'G150S', 'E133Q', 'G49S', 'F45T', 'S17I', 'R122V', 'G72N', 'I136K', 'G84A', 'Y64C', 'L129Y', 'G144M', 'G172P', 'N90E', 'V179H', 'P131S', 'Y19K', 'D66L', 'D32G', 'P80R', 'R76Q', 'P80Y', 'N56I', 'F124A', 'F42G', 'Y117V', 'V179T', 'T98S', 'S27I', 'T61Y', 'V113M', 'F124K', 'D135R', 'V35I', 'C100P', 'R177T', 'R76K', 'S127Q', 'V180L', 'E74D', 'P175D', 'G115L', 'N107A', 'L120N', 'L3P', 'C193P', 'G7K', 'S162C', 'P52K', 'R14H', 'D110F', 'F10L', 'P175I', 'N118Q', 'G99E', 'F97E', 'C156G', 'T191Q', 'N105T', 'L3V', 'L55S', 'Y33T', 'G144Y', 'F45G', 'L123C', 'L185H', 'A40Y', 'I78V', 'S127L', 'F42L', 'E139C', 'S17L', 'P189W', 'F183A', 'V180M', 'K126F', 'S41Q', 'V192R', 'I140R', 'Y157V', 'A103I', 'T146W', 'E152C', 'G114L', 'T13Q', 'N90S', 'T83N', 'F124T', 'R14V', 'S67Q', 'Y91Q', 'D66Q', 'F45N', 'L120M', 'C47G', 'V180Y', 'L120Y', 'E74W', 'T1C', 'P52W', 'N90M', 'I78A', 'P175E', 'C100M', 'V179C', 'D110R', 'Y173M', 'K54Y', 'F42N', 'F165K', 'S137Q', 'F97V', 'N118E', 'P189A', 'A143N', 'T146L', 'V69I', 'L185E', 'T168M', 'L129I', 'K126H', 'V75N', 'D96K', 'N169E', 'R122H', 'K85M', 'N28F', 'S106V', 'Y19A', 'G172S', 'S111M', 'L36D', 'Q174D', 'Q166A', 'N56L', 'Y89A', 'D96C', 'D88F', 'Y48W', 'R134N', 'P195M', 'K126P', 'E184Q', 'C4I', 'I70H', 'Y37T', 'C156P', 'T191K', 'C59L', 'V101I', 'A190V', 'Y119K', 'P131E', 'N28T', 'D57F', 'K130Y', 'I86R', 'L186E', 'V75E', 'T1P', 'P5D', 'D88V', 'L186I', 'C100H', 'P80I', 'V18I', 'C100I', 'S34N', 'G164L', 'T44A', 'Q77S', 'A16T', 'N155W', 'A87N', 'G7F', 'A103Y', 'N128W', 'D110I', 'F42C', 'L186C', 'C148K', 'D73F', 'L120T', 'N62F', 'P147N', 'Q77W', 'T98W', 'V75G', 'P94N', 'S27W', 'Y141W', 'P80D', 'R25N', 'Q161L', 'D110S', 'L109N', 'S145L', 'R122Y', 'V75H', 'P159F', 'A40R', 'V192M', 'V192A', 'N155E', 'W21H', 'E184N', 'Y121L', 'Q166P', 'G115F', 'V171Y', 'L123A', 'W21C', 'I78T', 'N169G', 'G81Y', 'D110Y', 'F15V', 'P159A', 'S43Q', 'G99D', 'P167W', 'D32F', 'K24P', 'V171F', 'A40C', 'D73P', 'L3T', 'G114R', 'T1A', 'W21Y', 'E139L', 'P5Y', 'N90P', 'L58S', 'S51Y', 'D95H', 'Y117W', 'A16G', 'G153C', 'S137C', 'R76M', 'E184H', 'V192H', 'R25C', 'N116M', 'I140D', 'A87L', 'R25A', 'C100G', 'V192T', 'V9M', 'P189L', 'G194N', 'C193H', 'C59W', 'L129A', 'R23I', 'N2H', 'P167L', 'G49V', 'T168H', 'F97M', 'V178F', 'L123I', 'I78D', 'S137F', 'L120G', 'I70N', 'Y19G']\n"
     ]
    }
   ],
   "source": [
    "print(ids)"
   ]
  },
  {
   "cell_type": "code",
   "execution_count": 12,
   "metadata": {},
   "outputs": [
    {
     "name": "stdout",
     "output_type": "stream",
     "text": [
      "{'C156T', 'N118H', 'G49R', 'S39E', 'A20N', 'S43C', 'R71Y', 'L181V', 'N107D', 'L120E', 'R177I', 'L109N', 'R122S', 'V151F', 'Q174M', 'V35M', 'F68M', 'N22Q', 'G144L', 'T44H', 'A143Q', 'V192D', 'V151G', 'V101F', 'V75R', 'V171N', 'P195I', 'C193F', 'E8I', 'S43Y', 'V151W', 'G150Q', 'T53W', 'R14C', 'V63I', 'C193D', 'F60H', 'L181S', 'G194W', 'N149D', 'G72A', 'G172T', 'N116I', 'L123R', 'S106E', 'S137H', 'C59E', 'Y64S', 'D57K', 'T61H', 'F60A', 'F154C', 'Y173A', 'G115Y', 'N118K', 'C156N', 'P175I', 'L181W', 'V63W', 'N108A', 'V192F', 'E133W', 'T98W', 'K130F', 'S67D', 'A40G', 'R23D', 'S41V', 'T13G', 'C193E', 'V179C', 'V178W', 'F97Y', 'R122K', 'G194A', 'A20M', 'P175Y', 'N28E', 'S111F', 'L186V', 'L58Y', 'N2V', 'Y121S', 'F124H', 'C156K', 'V50C', 'I140R', 'D32C', 'F183W', 'G170Y', 'P189Y', 'G81N', 'L58V', 'R125A', 'V69D', 'D66M', 'G49D', 'V50M', 'V192G', 'P189N', 'D135P', 'K130Q', 'D95W', 'V35L', 'F132E', 'S43D', 'N105V', 'A65H', 'A143P', 'D95I', 'Y37G', 'Q161V', 'T53S', 'F10K', 'S41T', 'S67W', 'F124C', 'K126S', 'F154K', 'F15I', 'V35T', 'N107C', 'A40K', 'N2R', 'S127M', 'N149P', 'P189V', 'F68Q', 'P80T', 'C29F', 'P189Q', 'S41H', 'A12Y', 'R14M', 'V75K', 'I78Q', 'N28M', 'T53C', 'G84H', 'G84E', 'S17F', 'S34M', 'L36I', 'N22H', 'S111Y', 'A16D', 'A65R', 'L58P', 'N22K', 'L160H', 'A20G', 'V101G', 'P80S', 'V18F', 'G115Q', 'D32F', 'N169S', 'E139A', 'S67H', 'T44K', 'E133V', 'D32L', 'A87I', 'D88P', 'Q82I', 'P5W', 'G150M', 'D96G', 'L3F', 'L109K', 'F45S', 'L93W', 'Y48F', 'A103T', 'S39F', 'D96T', 'S27G', 'L120H', 'A87W', 'G49W', 'Y33L', 'Y37R', 'S145Q', 'Y141C', 'F124I', 'Q82A', 'C29E', 'F10E', 'E74Y', 'L3M', 'R23I', 'K85Y', 'V35Q', 'R23E', 'D135A', 'R25N', 'N105C', 'F165W', 'S41Y', 'V151A', 'T1G', 'V101R', 'N149H', 'N38V', 'V18L', 'C59T', 'F154V', 'G114F', 'N11P', 'A16T', 'S182K', 'E184L', 'S137P', 'Y119A', 'Y19P', 'C148L', 'F158A', 'D110E', 'L58N', 'E139S', 'W104C', 'A16M', 'D110I', 'S137C', 'P94S', 'R76G', 'L123T', 'I136Y', 'T98I', 'G49S', 'C193H', 'V180S', 'F45E', 'R23L', 'K24V', 'T13P', 'V171W', 'R14K', 'R177Q', 'G153V', 'L109I', 'Y117D', 'K126Y', 'T83I', 'V179W', 'R177K', 'N11I', 'F42K', 'R134F', 'V178Q', 'A40E', 'K130M', 'Y121F', 'E8K', 'N116V', 'R122Y', 'Y91I', 'V69Q', 'R76Q', 'R125E', 'G114H', 'N56E', 'G115D', 'G7R', 'D57C', 'F60P', 'F154D', 'N38A', 'K46T', 'S137Q', 'F165H', 'Y176S', 'N107T', 'T138R', 'G194Y', 'F60R', 'R25K', 'G115T', 'S67A', 'A40C', 'P159W', 'I140W', 'H187T', 'C156G', 'F15N', 'G170A', 'A188I', 'L160F', 'S106H', 'R14Q', 'K85C', 'F132L', 'K85W', 'I26P', 'L55W', 'K54A', 'G72F', 'I70V', 'G84C', 'Y157W', 'P80F', 'A31W', 'C59S', 'F45H', 'S106P', 'G194Q', 'N22A', 'Y117A', 'D96Y', 'L93V', 'F158H', 'Y117E', 'V151H', 'K126L', 'Q142A', 'L123I', 'Q82R', 'N118T', 'R76H', 'N105Q', 'Y89V', 'A16Y', 'T191K', 'F165S', 'C47A', 'I86V', 'P175E', 'N169W', 'F15M', 'F68S', 'N107Q', 'V18Y', 'A79E', 'T191S', 'G194R', 'Y121C', 'F132Y', 'V180N', 'F45W', 'K85S', 'D57M', 'F6Y', 'N38F', 'K130C', 'L181D', 'C148N', 'L120C', 'G114C', 'K112W', 'D57N', 'N28Q', 'F158E', 'C156S', 'V179Y', 'S137A', 'Q174G', 'P94L', 'E74K', 'A65E', 'W104E', 'F132N', 'G81Y', 'F132Q', 'P195H', 'S162K', 'L58D', 'F60Y', 'F15C', 'Y141T', 'N28F', 'L93H', 'R23G', 'E133K', 'S162C', 'L123A', 'A40M', 'S127H', 'F45Q', 'N90P', 'D73G', 'V178C', 'Y89N', 'R125T', 'T138C', 'L36M', 'L58C', 'P167R', 'P52V', 'T61K', 'N105D', 'V75I', 'Y173N', 'L58T', 'F42E', 'Y157G', 'F6Q', 'P5F', 'Y176I', 'S137K', 'P147E', 'F42M', 'W104F', 'D66G', 'I136C', 'C193L', 'V151M', 'L123Y', 'V179Q', 'N105R', 'A143T', 'V101M', 'A40I', 'R134Y', 'P147C', 'N128H', 'V50N', 'V9W', 'I70S', 'F154N', 'V18D', 'T44Y', 'T168N', 'F165V', 'N90R', 'P80E', 'D96F', 'A103D', 'F15P', 'G170N', 'W21P', 'S51Q', 'S106N', 'I70T', 'F158T', 'L129G', 'W21F', 'G194P', 'C59K', 'N90D', 'N128G', 'A87D', 'R122P', 'P52Y', 'D66K', 'T44R', 'G164Q', 'K126V', 'F183G', 'C100G', 'E184Q', 'R134C', 'D73Q', 'P159G', 'K24W', 'V101Y', 'P94E', 'P167A', 'P52K', 'I26G', 'T83D', 'N38E', 'V50A', 'C100A', 'S39P', 'R122T', 'T1S', 'S41K', 'P167I', 'T61N', 'P94H', 'S17W', 'E152R', 'N38D', 'S137D', 'R177C', 'G150I', 'N22C', 'L3Q', 'S67N', 'K130A', 'D57L', 'Q82Y', 'L160C', 'N62P', 'S111D', 'C156R', 'V180H', 'F42N', 'S162D', 'C156H', 'F158G', 'Y117M', 'C59D', 'Y33T', 'Q82T', 'A31D', 'T83S', 'L185P', 'N2M', 'L129S', 'R23S', 'F183N', 'T168G', 'A20H', 'L58G', 'P195V', 'V69F', 'H187Q', 'G7F', 'L3V', 'N2I', 'F15W', 'G164Y', 'A143N', 'L181M', 'S51R', 'D88L', 'V35W', 'T61L', 'I78M', 'E152Q', 'A20Y', 'S111P', 'I70D', 'E139M', 'P5S', 'I78G', 'S17C', 'Y37M', 'G150A', 'A103I', 'C29Y', 'V69K', 'L185G', 'L186R', 'N149Q', 'G194T', 'L93I', 'A188G', 'I26F', 'K24M', 'Q82V', 'G84W', 'F45N', 'R25W', 'S137T', 'F6R', 'R76K', 'S39K', 'A16N', 'S182N', 'G81E', 'K126P', 'F97H', 'E184V', 'I136D', 'N105A', 'E152A', 'V171Y', 'T44V', 'L181C', 'L55H', 'N169I', 'D110C', 'V113L', 'G170D', 'N149R', 'L55G', 'V9G', 'Y173E', 'V113A', 'A188S', 'S27A', 'L181R', 'D95M', 'N2W', 'V192K', 'T13A', 'I102A', 'F124Q', 'V35I', 'L181K', 'N62Q', 'S17G', 'F132H', 'A87F', 'T98K', 'F42S', 'N108S', 'P131Q', 'D96P', 'F68L', 'V113S', 'T1W', 'L129Y', 'Y119D', 'S27Q', 'Q142S', 'A12G', 'I102F', 'W21E', 'Y48M', 'G81Q', 'V101K', 'G164T', 'D66P', 'V35S', 'N118E', 'N28W', 'G194K', 'Y141M', 'G114W', 'P175K', 'L129R', 'G72E', 'L129D', 'V151L', 'F15K', 'S34D', 'F165R', 'L109P', 'G164D', 'G72W', 'F45A', 'V50R', 'S27H', 'L36V', 'Y141G', 'V75S', 'N28Y', 'A188P', 'N105M', 'G115K', 'I136E', 'C47V', 'A65F', 'G150D', 'R134K', 'T191A', 'T138I', 'F154Y', 'K112Y', 'P5I', 'A12M', 'N38W', 'V151Q', 'I26A', 'D88M', 'L58M', 'T98H', 'Q166H', 'K46E', 'Y91C', 'K54C', 'H187W', 'V63Y', 'A79K', 'N90G', 'G150R', 'K112R', 'A87C', 'N105E', 'G49E', 'G164F', 'W104L', 'T44F', 'L3R', 'Y141S', 'S34V', 'G172P', 'G114V', 'S39Y', 'A188W', 'V69W', 'N107M', 'K112P', 'V9T', 'E184D', 'Y173G', 'Y33M', 'G7L', 'G170W', 'P167Q', 'T146R', 'T146V', 'Q166E', 'R76C', 'T53Q', 'Y91L', 'N11G', 'I136G', 'Y173M', 'N169A', 'N128D', 'T191G', 'G172V', 'Y91A', 'V151Y', 'T146N', 'L36E', 'G164I', 'D57F', 'Y157D', 'K54P', 'N62V', 'G194E', 'A31L', 'D66I', 'I136P', 'R122G', 'P175R', 'A79N', 'P147K', 'N149C', 'C148E', 'S51W', 'N149W', 'I86W', 'G84S', 'F45L', 'Q77N', 'D95Y', 'T44E', 'G164C', 'A65I', 'Y33S', 'F6T', 'R71K', 'S145W', 'N56W', 'V179K', 'T13C', 'Y19D', 'R76S', 'T61F', 'K126T', 'A87R', 'I70R', 'F6I', 'C4E', 'L181A', 'K24Y', 'V179A', 'N118S', 'G115W', 'N155P', 'Y173R', 'V151P', 'C59V', 'N22V', 'F10Q', 'L185Y', 'N28D', 'A79M', 'V178N', 'P167C', 'K46Y', 'S162G', 'D88K', 'R14D', 'F10R', 'Q142M', 'V113Q', 'P131K', 'L3W', 'N62S', 'A143V', 'Y176D', 'P5D', 'R134W', 'A190V', 'D88N', 'S51T', 'G172R', 'A65T', 'C59H', 'N11R', 'A103P', 'L55R', 'S162L', 'C47T', 'D66T', 'S41E', 'D135L', 'T146P', 'R71E', 'D135R', 'N149K', 'C59N', 'S162Q', 'V180F', 'I70P', 'D110Q', 'L160N', 'T53L', 'S17I', 'S162E', 'R14Y', 'Y37V', 'R177P', 'Y176R', 'Y173Q', 'L186S', 'T138E', 'I86C', 'R134E', 'L3T', 'S43N', 'S137L', 'G194I', 'E152C', 'K46L', 'D96E', 'F60C', 'V63F', 'C47W', 'V75F', 'W21N', 'G144S', 'D66E', 'V113M', 'Y173V', 'N155L', 'C29R', 'D110T', 'P167S', 'C4F', 'S17T', 'L55P', 'V192T', 'V50D', 'F154T', 'G164W', 'R125F', 'N169G', 'A143M', 'D95T', 'F124E', 'Q82D', 'S67P', 'C100N', 'N90V', 'S111H', 'R122D', 'A143G', 'D66F', 'T138A', 'R25Q', 'L185D', 'K130L', 'S127N', 'S137R', 'L36K', 'G84K', 'T1Y', 'D88H', 'F165Q', 'V192Y', 'F124P', 'E184C', 'P189L', 'V113C', 'S51L', 'A79D', 'N155A', 'Y64E', 'Q142D', 'N22R', 'L109M', 'F42P', 'Q166V', 'N11F', 'I86R', 'R177N', 'T138P', 'E8T', 'P195L', 'N107R', 'S43W', 'K85M', 'A87Q', 'L55K', 'S39H', 'I102L', 'G84V', 'L129Q', 'S127C', 'R134D', 'W104N', 'R125Y', 'S127V', 'A65V', 'Q77S', 'I86M', 'G81R', 'K24I', 'N107L', 'Y64H', 'C4Q', 'K126D', 'S17V', 'F158N', 'I140H', 'S182Y', 'F6V', 'V63E', 'G150P', 'F132V', 'Q77P', 'K126E', 'D57A', 'R177T', 'Y121D', 'N11Y', 'L36D', 'G164P', 'Y64W', 'K85N', 'N118W', 'Y119H', 'F42I', 'N105P', 'Y173T', 'C47P', 'N116L', 'C100R', 'V18P', 'N11C', 'F42R', 'S145F', 'I140M', 'Y176K', 'D73S', 'S43Q', 'S51H', 'Q82E', 'Y48R', 'G115M', 'N2Y', 'K24Q', 'L36G', 'Q82M', 'T168F', 'T168V', 'I140F', 'H187F', 'Y121V', 'V69S', 'Q77V', 'D110G', 'I78V', 'Y19G', 'N90A', 'Y141R', 'V35C', 'Q161D', 'T168Q', 'R122E', 'A103C', 'C100W', 'A31H', 'D32E', 'T53H', 'N107E', 'L123E', 'Y64T', 'F60E', 'K46A', 'R71A', 'D96V', 'S106L', 'S39M', 'P5Y', 'P167W', 'V101N', 'S51F', 'G84T', 'P5G', 'Y37A', 'F124S', 'Y117V', 'S106T', 'F68P', 'G153Q', 'R125K', 'V18H', 'P175Q', 'N62M', 'K92M', 'S39W', 'A87N', 'Y89A', 'G49L', 'G84P', 'T61M', 'E8D', 'P195F', 'E152D', 'G170S', 'S182G', 'E152N', 'T146H', 'S34A', 'N28L', 'E139D', 'K85G', 'L185V', 'H187V', 'F132M', 'S51I', 'E139P', 'A12S', 'Y176E', 'C156I', 'Y117L', 'G114Y', 'L55C', 'R71T', 'I78K', 'W104D', 'Q174S', 'V171F', 'V113K', 'F183P', 'S127W', 'F154I', 'V192R', 'G84R', 'N105H', 'S145R', 'N116G', 'L129H', 'K92C', 'P5C', 'A20T', 'L160R', 'V50Q', 'G170Q', 'Y48T', 'D66Y', 'E133I', 'F97K', 'F6P', 'R134L', 'F97M', 'Y117H', 'L3H', 'Q82W', 'Y119Q', 'G144W', 'S27K', 'C59Q', 'V63D', 'N169E', 'T61E', 'F45Y', 'P80A', 'S67G', 'R134V', 'N149F', 'D32I', 'N11V', 'F132G', 'L185N', 'Y48P', 'V180K', 'F45R', 'L3Y', 'T53I', 'N128V', 'K54D', 'C47R', 'L129P', 'F124G', 'G99R', 'N22E', 'Y91S', 'V113N', 'D96N', 'I102R', 'A143L', 'N108F', 'S39T', 'L160M', 'D73E', 'L120I', 'S182F', 'L36F', 'G49N', 'V151T', 'Q166N', 'Q174V', 'N169D', 'L186T', 'A87V', 'V18C', 'I102G', 'L123V', 'Q142N', 'Q82S', 'P94M', 'P147L', 'S145C', 'T146D', 'N56K', 'P80H', 'Y176H', 'R76V', 'E152P', 'C47Y', 'C47G', 'A143K', 'G164S', 'D95N', 'I136K', 'C156A', 'N155K', 'V30E', 'R14E', 'Y121W', 'T44G', 'W104G', 'P175H', 'R177Y', 'K85D', 'G172I', 'D96Q', 'V180I', 'T83M', 'I86L', 'G114R', 'Q161I', 'A87M', 'V101L', 'Y89T', 'E74M', 'G99A', 'F154G', 'F154L', 'G72M', 'T1A', 'A190M', 'G172C', 'I102E', 'A79C', 'G172E', 'Y173H', 'D73A', 'A20E', 'Q161C', 'L123F', 'K54I', 'C59G', 'Y176P', 'L186K', 'Y117S', 'A12W', 'H187C', 'I78W', 'S67F', 'T61V', 'Y48E', 'A79P', 'L181Y', 'E152T', 'I136Q', 'R23Q', 'T83W', 'G115H', 'V69P', 'G114L', 'I86H', 'Y64D', 'Y19C', 'C59M', 'Y173S', 'N2E', 'T191L', 'G170C', 'E8Q', 'I26Q', 'C148P', 'V178P', 'V113I', 'Y119F', 'K24N', 'G49K', 'G84M', 'N56A', 'L123N', 'V63A', 'A16F', 'F60Q', 'I102H', 'K130G', 'N118C', 'T53G', 'T138Q', 'P175L', 'E139Q', 'Y19R', 'L36Q', 'S182A', 'A65S', 'N116E', 'D110W', 'Y19T', 'V178A', 'H187Y', 'D57W', 'D73F', 'G172F', 'V18T', 'C100I', 'Q174K', 'P80D', 'R14S', 'I136H', 'Q77R', 'Y163L', 'V179R', 'F68I', 'Y64Q', 'E8Y', 'D57P', 'L129T', 'E74G', 'N28P', 'D66S', 'A65D', 'G99Q', 'V179M', 'L160I', 'F60T', 'N2F', 'F68N', 'W21Y', 'R76E', 'L55I', 'A40N', 'Y33W', 'I140L', 'F97A', 'E8H', 'C4N', 'A12R', 'L36W', 'A16H', 'C100P', 'Y121Q', 'N11H', 'F6A', 'I26Y', 'Y163P', 'N128I', 'T168C', 'V63P', 'G7K', 'L120Y', 'F68H', 'L55V', 'K24F', 'A65C', 'Y117T', 'T168I', 'A188N', 'S41C', 'V35N', 'V30L', 'Q174W', 'L129W', 'Y33I', 'C4G', 'Y37L', 'T83N', 'L93K', 'Q142T', 'V63Q', 'Q77F', 'G170L', 'T83E', 'F6W', 'E74Q', 'P167N', 'L55D', 'T44N', 'D66A', 'T53K', 'E74V', 'Y119S', 'R122C', 'W104K', 'A190K', 'S182C', 'N62A', 'Q77D', 'P195Y', 'Q82F', 'L120F', 'P131E', 'Y48K', 'F60N', 'R122W', 'A12K', 'V101Q', 'C59A', 'I26H', 'S41I', 'S43F', 'V75G', 'S27E', 'P147Y', 'V30R', 'V192P', 'A12D', 'P147H', 'S127Q', 'G7H', 'G99C', 'G172S', 'V69M', 'P80W', 'V113W', 'G84D', 'F10I', 'N56L', 'S41N', 'L186M', 'N107A', 'C156V', 'T1I', 'Y37K', 'I26D', 'I26V', 'C29Q', 'S17P', 'C100V', 'A188F', 'A103M', 'T98S', 'F183L', 'K130W', 'C59F', 'T83C', 'R125M', 'Y117I', 'C100L', 'D135K', 'K92E', 'R23N', 'K46N', 'Q82K', 'T44A', 'K92H', 'F183Y', 'N108E', 'N128A', 'R71V', 'D96R', 'K92D', 'Y19H', 'G115P', 'T61C', 'C59Y', 'D57Q', 'V63L', 'Q161Y', 'A12C', 'T13D', 'L36R', 'N118F', 'V178L', 'T44L', 'E133T', 'S111W', 'V192N', 'I78L', 'R125C', 'G144M', 'D135C', 'F97Q', 'L93F', 'G170F', 'N28K', 'V192Q', 'I86N', 'K112M', 'A79Q', 'R23P', 'N2Q', 'Q174D', 'S127A', 'F97T', 'V9E', 'I140D', 'R134A', 'P80R', 'A20Q', 'A40V', 'N38P', 'G144D', 'G153N', 'N116M', 'S111L', 'V50F', 'D95H', 'S41G', 'R71I', 'N2A', 'V18Q', 'Q161W', 'Y176F', 'T168Y', 'S27L', 'D32T', 'G49P', 'N38R', 'P80Y', 'T191C', 'S34N', 'E152W', 'Y64A', 'T168L', 'N90I', 'Y48S', 'R76A', 'V192L', 'A190G', 'E8N', 'S51G', 'G172Q', 'L55S', 'D73R', 'N105Y', 'V179S', 'S51A', 'F97E', 'S106F', 'C29L', 'R23M', 'V178K', 'K130T', 'S111I', 'P159D', 'E152L', 'Y157N', 'V101C', 'N62E', 'T53M', 'R23T', 'F42T', 'N128L', 'N149A', 'Y19V', 'Y121L', 'A31T', 'T61S', 'G72H', 'W21T', 'R71N', 'G144T', 'N28V', 'Q166K', 'G115E', 'C47F', 'N155I', 'F183K', 'F15T', 'S111M', 'P159C', 'K92Y', 'R177H', 'V179F', 'P5L', 'Y119T', 'V171T', 'C4L', 'C4V', 'F45I', 'P5A', 'L186A', 'Q166C', 'K46F', 'Q161N', 'I86E', 'C148R', 'T1Q', 'L129C', 'N118G', 'A188H', 'K24L', 'Y89I', 'N38Q', 'K85A', 'S27V', 'V101P', 'K54M', 'L58Q', 'V192I', 'F10L', 'C4A', 'F124M', 'L109Q', 'A40H', 'P175M', 'K46P', 'L109A', 'A79F', 'P189D', 'V9H', 'P175W', 'L129A', 'G99M', 'A79R', 'D135T', 'A103K', 'G150V', 'Y121T', 'K85E', 'E152V', 'T83P', 'H187K', 'T44I', 'R125D', 'R177G', 'S162N', 'Y48V', 'D135I', 'Q161G', 'Y121R', 'E133S', 'R125G', 'N108W', 'P189A', 'I136N', 'Y91H', 'L123G', 'T13W', 'R14T', 'Y119G', 'A16G', 'S41F', 'S41A', 'T138K', 'N108K', 'A16C', 'V180A', 'N38H', 'C100E', 'N56D', 'I86D', 'Q166L', 'A40T', 'N90L', 'A16P', 'G7I', 'S182W', 'C29I', 'T61W', 'L58R', 'F165E', 'N107P', 'T61Y', 'S43L', 'N128M', 'F154E', 'C100D', 'R134T', 'T53D', 'P131S', 'T98D', 'K92A', 'N107S', 'N149M', 'D95F', 'D32Y', 'A87H', 'S162I', 'L36N', 'I86S', 'R25P', 'Y91G', 'A190T', 'Y121A', 'N116W', 'T44C', 'E139R', 'V50L', 'N62L', 'N116T', 'P5H', 'L120Q', 'I86T', 'C148Q', 'A31P', 'D135Y', 'A103W', 'E184N', 'D110F', 'I140G', 'Q166I', 'N169C', 'V178E', 'A188Y', 'Y91E', 'A143I', 'Q82P', 'G84Y', 'F132W', 'G164M', 'Y157R', 'Q142V', 'N128C', 'K92V', 'T98Y', 'R14A', 'S34R', 'V179T', 'L186E', 'V180L', 'G99F', 'C29G', 'V179E', 'N116K', 'P195A', 'G194M', 'F97P', 'P167L', 'L160V', 'P189K', 'G164K', 'S127G', 'I78A', 'L185C', 'P195E', 'K126H', 'G7Q', 'V171S', 'N105W', 'S106Q', 'D88Q', 'L3A', 'C47D', 'S27D', 'Q166P', 'F6C', 'V63R', 'Y89W', 'G7P', 'F10C', 'H187I', 'N2C', 'G7M', 'A103E', 'Y176V', 'G153E', 'V50G', 'Y33P', 'R14F', 'S182R', 'A79T', 'G194C', 'S162M', 'G114E', 'V179L', 'T13H', 'E139F', 'E139W', 'F60W', 'Q161E', 'S67E', 'E74R', 'A190S', 'K54G', 'Q161M', 'A103N', 'L36Y', 'R134Q', 'V113R', 'R25T', 'Y141L', 'K24P', 'Q161R', 'F158K', 'Y48C', 'Q142I', 'Y157E', 'F60S', 'Q82G', 'N11K', 'S67Y', 'L160T', 'I70W', 'R71G', 'L185E', 'Y48D', 'I70F', 'Y119R', 'P147G', 'E152S', 'G114T', 'N105S', 'L36A', 'V69L', 'A31I', 'Y176M', 'N11W', 'L185K', 'C29M', 'Y173P', 'L186W', 'V101E', 'L186H', 'Y33V', 'D95S', 'S51C', 'Y176G', 'N108G', 'C100Q', 'T83Q', 'A40W', 'R71Q', 'A143F', 'Y121P', 'C148Y', 'N28G', 'K92P', 'V35F', 'Y176L', 'N155R', 'S41P', 'P131H', 'I86G', 'G144F', 'G164E', 'P52S', 'F132S', 'S34K', 'W21H', 'N107I', 'Y33F', 'K112V', 'G84Q', 'S162T', 'K85L', 'Y173K', 'A65K', 'R25H', 'F42Q', 'T98N', 'V69H', 'A65L', 'C100F', 'T13E', 'S162F', 'L160W', 'T1D', 'F132C', 'W104A', 'V63T', 'W21M', 'C29P', 'Y173L', 'F132I', 'S137N', 'S67L', 'I102W', 'Y37E', 'K46S', 'D110P', 'E74C', 'C47M', 'P159L', 'D73T', 'F154Q', 'V180D', 'S137I', 'P189C', 'P195N', 'E139K', 'D32A', 'R25D', 'Y163G', 'L123H', 'R76F', 'P131A', 'D95K', 'N22W', 'V9N', 'R14H', 'E133G', 'S145T', 'E184T', 'G115V', 'F124Y', 'R177E', 'V178Y', 'P131I', 'Y157L', 'L129E', 'A143D', 'S145D', 'C47E', 'V192C', 'C193Y', 'Y48Q', 'S39C', 'N118L', 'G49C', 'K54R', 'D32G', 'L120N', 'T146S', 'P94W', 'Q77K', 'V75E', 'C29W', 'T98V', 'F158D', 'P52Q', 'S51P', 'Q77T', 'A87K', 'P5V', 'V151S', 'T61D', 'T138D', 'Y157C', 'S162V', 'S17K', 'F132K', 'R14N', 'V30I', 'V75T', 'D110L', 'S34H', 'L93M', 'T146I', 'A16R', 'T191R', 'P195W', 'Y121E', 'N56R', 'G170T', 'F165Y', 'G72Y', 'T13L', 'R14W', 'L109D', 'Y91F', 'Y48G', 'C4K', 'A20R', 'G114D', 'R122V', 'E74L', 'L123Q', 'Y33G', 'C148V', 'P159Y', 'E133Y', 'R25L', 'F6H', 'G170K', 'G81H', 'L109W', 'A188C', 'G49Q', 'A79S', 'Y37Q', 'S127R', 'Y173W', 'N105F', 'K92N', 'I102T', 'Q166G', 'I136V', 'R122H', 'A103H', 'F10A', 'V50I', 'V50P', 'N107K', 'P189H', 'S39L', 'P175A', 'N169V', 'T138V', 'L120V', 'R25C', 'F183R', 'F42G', 'R122I', 'G144N', 'D110A', 'S17M', 'V151D', 'R25S', 'P175T', 'H187L', 'G114A', 'G172H', 'Y173C', 'E133R', 'Y119M', 'N128K', 'T98C', 'S111A', 'K130R', 'D57R', 'G172Y', 'F165N', 'K112H', 'F132D', 'S111V', 'Y173I', 'I78S', 'V180M', 'V180P', 'T44W', 'Y64C', 'P52T', 'S17Y', 'C47H', 'N62K', 'R134G', 'A20I', 'T98L', 'S182V', 'Q161H', 'S106R', 'G172N', 'Y176N', 'V50H', 'V30Q', 'Y157S', 'L3D', 'N38Y', 'G153W', 'Y89H', 'V171M', 'G144K', 'D96C', 'T138G', 'V18M', 'C47K', 'Q166M', 'A65P', 'D135G', 'V171C', 'V69I', 'V171G', 'H187G', 'P80C', 'P80L', 'G99L', 'N108T', 'S43E', 'S34I', 'K85F', 'Q142L', 'T98Q', 'T1V', 'V179H', 'L129F', 'H187R', 'C148F', 'E133D', 'T53V', 'S51D', 'E8A', 'V69C', 'N116R', 'V178F', 'V50W', 'Q77A', 'T53R', 'P52C', 'F97C', 'D135S', 'P189W', 'G150H', 'K112G', 'S162H', 'T191Q', 'Y117N', 'S137F', 'Y117C', 'E184W', 'F158I', 'N38T', 'Y64G', 'K112S', 'Y117R', 'G72L', 'N149S', 'V9C', 'A40L', 'G7W', 'F60M', 'S111Q', 'I136F', 'F10M', 'L3K', 'T146F', 'C4S', 'F124L', 'N108I', 'F60L', 'V192M', 'A79Y', 'C4T', 'T191H', 'G72C', 'S43H', 'C47L', 'Y48W', 'A190F', 'F158L', 'C29K', 'G7S', 'D88R', 'F183H', 'N62T', 'F15Y', 'F10W', 'V113F', 'S106K', 'G99W', 'S137Y', 'G72I', 'N169R', 'S27R', 'K112E', 'D73I', 'V30S', 'E184F', 'V9S', 'N116Q', 'G72D', 'Y157K', 'V50E', 'P52E', 'L186D', 'N90M', 'G153D', 'N107V', 'R122A', 'F42V', 'V63C', 'L181Q', 'Q166D', 'Y163A', 'L181F', 'R76M', 'Q77G', 'Y163T', 'L185F', 'G153K', 'S41R', 'W104P', 'S137W', 'N62W', 'A190C', 'P147R', 'A103G', 'G153Y', 'L55N', 'K24E', 'Y163S', 'R23Y', 'S162W', 'S111N', 'S17A', 'T191D', 'V75Q', 'V178S', 'R134M', 'L109G', 'V69R', 'E152G', 'Q174F', 'Y48A', 'N56P', 'F68R', 'G172K', 'E74I', 'K92Q', 'Q161F', 'V50T', 'N108C', 'N116A', 'K54S', 'F158V', 'N38L', 'R122F', 'P159K', 'V69G', 'T138N', 'S182T', 'C29A', 'L3I', 'E74W', 'N169L', 'Y157I', 'G84A', 'G144Q', 'S34L', 'V101W', 'E184Y', 'G81K', 'N11D', 'L120T', 'P80K', 'L123P', 'K46G', 'V30K', 'F6G', 'C29D', 'V192A', 'F15G', 'C47S', 'Y157H', 'A40D', 'Y19I', 'F124N', 'C156D', 'K24D', 'N2S', 'V192S', 'G81D', 'S41L', 'A16V', 'F60K', 'F42Y', 'A12L', 'A12E', 'A16L', 'A31F', 'I140T', 'G49H', 'L129M', 'G99V', 'V178M', 'V113P', 'F68V', 'C4D', 'S162A', 'I140A', 'F45P', 'L109Y', 'F158S', 'F10S', 'D88E', 'A188D', 'T44P', 'Y19K', 'G150Y', 'V18I', 'P175C', 'E133F', 'V63K', 'V18S', 'E152I', 'N56C', 'E74A', 'S27P', 'A31R', 'A31Q', 'P147W', 'T13V', 'L185H', 'V18W', 'Y141D', 'T98A', 'E8F', 'V9A', 'A12F', 'N116D', 'Y89K', 'P189S', 'S17L', 'L3N', 'G81I', 'Y141F', 'Y91Q', 'N90Q', 'N118P', 'A12I', 'C193P', 'G114M', 'T168M', 'F10D', 'A20D', 'N128P', 'A188V', 'L123S', 'V75M', 'K92G', 'F158Y', 'R14L', 'V180G', 'T83K', 'D135N', 'K24G', 'L120K', 'C193M', 'F154S', 'G81S', 'R76I', 'G194L', 'I86Y', 'V180T', 'Y119N', 'A31M', 'Y89S', 'A79W', 'W104T', 'R14V', 'P189F', 'L185Q', 'P5M', 'P167V', 'D32N', 'N107F', 'L160D', 'E152K', 'A87T', 'S27Y', 'N11Q', 'Y121N', 'I26N', 'C4I', 'I70Y', 'C148G', 'V151I', 'L186Q', 'R125V', 'K126F', 'R122M', 'G99Y', 'P94N', 'G49Y', 'N116S', 'P52R', 'V178G', 'E8W', 'P159H', 'C148T', 'F154H', 'L58A', 'C29T', 'Y163M', 'C156F', 'K92F', 'Q82L', 'Y163I', 'G150W', 'A65M', 'V171P', 'K92L', 'I26W', 'R177L', 'C148D', 'R134I', 'C148I', 'T44M', 'A103L', 'S27N', 'T13S', 'G164N', 'V35A', 'P94T', 'I78P', 'L3S', 'V50Y', 'T44Q', 'L58H', 'R23F', 'N118Q', 'I136S', 'R125I', 'S106A', 'L160E', 'V30H', 'Y33E', 'G7C', 'C193A', 'Q142C', 'A31K', 'D88I', 'F183V', 'F124W', 'L58F', 'F158Q', 'R134P', 'Q77C', 'C193K', 'E74D', 'C156W', 'R134H', 'N128R', 'E74T', 'K54Q', 'G99S', 'S67I', 'L129N', 'D88A', 'F15H', 'S39V', 'K54W', 'T61G', 'Y33R', 'C148A', 'A143H', 'I78R', 'G194S', 'K85Q', 'I140C', 'L120R', 'Y89E', 'V35Y', 'C4Y', 'N105K', 'F45D', 'K54N', 'F97W', 'S182M', 'T146L', 'N155E', 'F165T', 'S111R', 'Q161P', 'T53P', 'P175V', 'L93Y', 'S162R', 'A143C', 'F165D', 'N11M', 'P159F', 'V35K', 'G7A', 'V63M', 'D135E', 'S182D', 'T168H', 'T146Q', 'S137V', 'S34W', 'T1N', 'N116H', 'N62R', 'D95R', 'D110H', 'A31G', 'R71C', 'T44S', 'Q77W', 'R76P', 'S27I', 'L120D', 'A87P', 'Y121G', 'F68K', 'P5Q', 'Q166R', 'K130S', 'S162P', 'G72K', 'P167T', 'Y163N', 'V9Y', 'Y19S', 'D88S', 'Q142Y', 'T191V', 'L93S', 'G153A', 'Y163W', 'G7T', 'K46C', 'C100S', 'K85R', 'V30F', 'N108Y', 'R125Q', 'V179N', 'I70L', 'N28H', 'V50S', 'T98P', 'V192W', 'C100Y', 'L3C', 'T83G', 'R23C', 'Q161T', 'Q161L', 'S145G', 'K54F', 'P52A', 'N118A', 'P159A', 'V75L', 'S34Y', 'G194D', 'K85H', 'Y163C', 'W21S', 'N38K', 'L123W', 'G144V', 'Q174L', 'L160A', 'F15V', 'W21G', 'N22P', 'N90T', 'D95A', 'Y37H', 'R122L', 'E184R', 'F6E', 'C59P', 'D73M', 'G115R', 'G153M', 'G194F', 'Y37I', 'F15Q', 'G115S', 'P131L', 'P52G', 'D88T', 'V30T', 'S182E', 'Y91D', 'W104Y', 'L186G', 'G164L', 'Y37C', 'R23H', 'I26K', 'L160K', 'A143Y', 'F68Y', 'D66H', 'F10T', 'A190D', 'Y117P', 'G72Q', 'E184P', 'Y91K', 'D57T', 'S27M', 'V63N', 'Y19A', 'L181N', 'F42W', 'D57E', 'V9F', 'E139G', 'G99K', 'R122Q', 'W104Q', 'Y163D', 'T13Y', 'D95L', 'Q142R', 'K130D', 'T146C', 'I70G', 'N28A', 'I102Y', 'S145E', 'R71W', 'S182L', 'D66W', 'E139Y', 'R71S', 'F10Y', 'P131T', 'Y119W', 'C100M', 'S41Q', 'N22G', 'P189R', 'S34E', 'N2D', 'S127Y', 'V30A', 'I102N', 'A12Q', 'S43V', 'L58E', 'L123D', 'Y141N', 'N28C', 'P131D', 'S137E', 'R76D', 'I136L', 'Y64P', 'Y89M', 'R76T', 'Y89D', 'N155Q', 'S51K', 'Y119I', 'H187A', 'N155Y', 'Q174C', 'T138L', 'P147F', 'T13M', 'E8L', 'F132R', 'E133C', 'S145M', 'G150L', 'D32W', 'T1C', 'Y157P', 'K130N', 'A188R', 'N169Q', 'R177F', 'V9R', 'T13Q', 'C156P', 'A103R', 'T146M', 'V151E', 'V178H', 'N56I', 'Y37S', 'G81C', 'R125N', 'C148H', 'C47I', 'S111T', 'A190I', 'C29V', 'Y89L', 'F165C', 'L186Y', 'Y119V', 'N169P', 'F132A', 'D66C', 'N149G', 'P131N', 'N11T', 'A16E', 'S27T', 'L58W', 'Y48L', 'G49F', 'F97L', 'L3E', 'P175D', 'A79I', 'F165P', 'Y117G', 'T61A', 'V35H', 'V69N', 'Y121K', 'T53A', 'T83V', 'A188T', 'H187M', 'Y19F', 'N107W', 'N105T', 'N22T', 'S162Y', 'F154W', 'G194H', 'Y119E', 'P195D', 'N62Y', 'S106V', 'V101A', 'F42A', 'F165L', 'L93Q', 'F10V', 'T98M', 'V75N', 'A31N', 'R71H', 'I140Y', 'S127L', 'K112L', 'Q174Y', 'R25M', 'K46R', 'V30P', 'Q142G', 'N108L', 'N56F', 'S27W', 'K130H', 'E152H', 'T168D', 'C100K', 'H187D', 'Y176Q', 'P189T', 'V30M', 'I78E', 'V75H', 'A103S', 'D66L', 'L109T', 'F6N', 'N149L', 'V69E', 'T146E', 'Q77Y', 'N155S', 'F165A', 'R177D', 'Q142P', 'R177V', 'A40Q', 'V171K', 'V101S', 'N56M', 'G172W', 'K112Q', 'P167D', 'D95E', 'G84N', 'Q174H', 'D57G', 'V151K', 'K112I', 'G194N', 'T191I', 'K126G', 'Y121M', 'G194V', 'R125L', 'F45T', 'V35E', 'N56H', 'C156M', 'F132P', 'Y91T', 'S67M', 'E184G', 'N169M', 'A87Y', 'Y141Q', 'D88G', 'S67K', 'S67V', 'E152F', 'S182Q', 'P147M', 'E133P', 'A20P', 'P80M', 'T138F', 'T191M', 'E152Y', 'R177A', 'H187N', 'L185S', 'L3G', 'S127K', 'K130E', 'V180Q', 'N169T', 'C156E', 'T98F', 'K46M', 'G144C', 'F124V', 'Y176C', 'S34Q', 'L185M', 'V75D', 'N90F', 'D88Y', 'N149T', 'N62F', 'A31V', 'L93G', 'L93T', 'A188E', 'N22D', 'F154A', 'P131G', 'L123C', 'E74H', 'R25Y', 'V171E', 'L160P', 'T1K', 'K24H', 'A188Q', 'R125P', 'I70C', 'A65G', 'I26L', 'T138S', 'P52H', 'D135F', 'N155W', 'S111G', 'Y121I', 'P131C', 'R71P', 'L186N', 'Y37W', 'S127T', 'Y89F', 'R125W', 'Y117W', 'G144R', 'Y19E', 'D32H', 'N149V', 'Y48N', 'N118R', 'Y117F', 'V101T', 'Q174E', 'G150F', 'W21V', 'E74F', 'G164V', 'A143E', 'P131V', 'S145Y', 'A190E', 'G72S', 'N56S', 'L58K', 'D57H', 'S182I', 'N118D', 'I86Q', 'A65W', 'S51E', 'V9D', 'P80N', 'G114N', 'N118M', 'D135M', 'N118V', 'V50K', 'E133N', 'A65Y', 'G150T', 'S106W', 'N2G', 'P159S', 'N149I', 'R25A', 'K92W', 'G7V', 'T146G', 'A40R', 'D32S', 'Q174N', 'H187S', 'P94V', 'P94A', 'G84F', 'P189E', 'V69Y', 'L181H', 'K92R', 'F42L', 'H187E', 'S182P', 'L109H', 'N2T', 'Y33Q', 'Y64N', 'G99P', 'Y157Q', 'P94K', 'Q166W', 'G172L', 'F165G', 'I78N', 'L120G', 'G153H', 'T168E', 'P189I', 'L120W', 'S41W', 'Y37N', 'N108M', 'S145A', 'L55T', 'F6M', 'I140S', 'A188M', 'A188L', 'P159Q', 'K54E', 'S67Q', 'R76W', 'G7E', 'N38I', 'A79V', 'N56V', 'I102S', 'S145L', 'V113D', 'P52F', 'T13I', 'R177M', 'G99H', 'E74N', 'Y91W', 'P94Q', 'D110M', 'F42H', 'K85V', 'S17H', 'Y157T', 'A143W', 'S106G', 'F124K', 'Y163V', 'S17D', 'D66Q', 'F60V', 'C193Q', 'Q77I', 'F183S', 'Q142E', 'V35R', 'P195R', 'S43T', 'E133L', 'G114I', 'P195T', 'Q77L', 'R76N', 'E184I', 'V30G', 'R71L', 'I86K', 'P52N', 'Y176W', 'N38M', 'D110N', 'P159V', 'D73P', 'F154R', 'C156L', 'K112T', 'S17E', 'C193I', 'F68W', 'F97S', 'G164R', 'V18N', 'L185W', 'N116Y', 'F183C', 'C193V', 'D73V', 'D110R', 'V180R', 'G170H', 'G150C', 'F45G', 'R23K', 'S34C', 'N128Q', 'L36H', 'F97D', 'D32P', 'Q174T', 'L186I', 'R71D', 'V180C', 'Y141P', 'P94Y', 'A190H', 'V178D', 'P195S', 'N28R', 'L109S', 'N155F', 'I140V', 'Q174R', 'L185R', 'K130V', 'T61R', 'F158P', 'P80G', 'Y33D', 'Y141I', 'N149E', 'Q82N', 'S127I', 'K130P', 'L93N', 'D96A', 'T98R', 'G115L', 'Y141H', 'I78C', 'F6K', 'N22F', 'K46V', 'V151N', 'Q174I', 'I102M', 'A16W', 'N155M', 'P167F', 'R25E', 'C100T', 'G81L', 'P80V', 'G81P', 'D110S', 'L93D', 'L129I', 'V101I', 'Y157V', 'L120A', 'F15R', 'L55A', 'R25V', 'N149Y', 'E133A', 'R177S', 'E8C', 'Y141A', 'D110Y', 'S145V', 'E139H', 'S145N', 'A31S', 'W21I', 'W104I', 'E139C', 'Y64F', 'K54T', 'V69A', 'P159N', 'Y173D', 'T191E', 'C148K', 'I102Q', 'N22L', 'Y173F', 'P131F', 'Y141E', 'T61P', 'F158C', 'G150K', 'Q82C', 'G81A', 'V171A', 'G114K', 'C29N', 'K24C', 'K126C', 'T53E', 'G49T', 'A190W', 'N56Y', 'F97R', 'Y19M', 'S51N', 'T168K', 'Y141V', 'V113Y', 'V101H', 'V9L', 'V30C', 'A40Y', 'T138H', 'V113G', 'V69T', 'L109R', 'A79H', 'N128F', 'R125H', 'G72T', 'Y33C', 'Y48I', 'N56T', 'I86F', 'T1M', 'F45M', 'L160S', 'T1R', 'I140P', 'G150N', 'F6L', 'G153S', 'I70E', 'F6S', 'R25G', 'A190R', 'W104R', 'I70A', 'L36S', 'I70Q', 'C59W', 'N108R', 'A12T', 'A16S', 'T1E', 'L55M', 'D73Y', 'A190Y', 'A16K', 'F68D', 'V75A', 'F10P', 'T83R', 'Y64K', 'G153I', 'F183Q', 'Y176A', 'S41D', 'A20W', 'C47N', 'D73L', 'D88F', 'N169Y', 'L186F', 'Q77M', 'I140Q', 'P189G', 'V9M', 'C193S', 'P5N', 'N22I', 'V18E', 'T1P', 'S106D', 'N90W', 'S34P', 'I26C', 'N90K', 'T191N', 'P52L', 'G170R', 'L185A', 'D73N', 'P94C', 'C4H', 'Y157M', 'I26R', 'T138Y', 'Y117Q', 'W21A', 'R14I', 'Y48H', 'P167G', 'N108V', 'A16Q', 'D95C', 'I136A', 'P175F', 'L123K', 'R177W', 'C193G', 'V63S', 'Y33A', 'T1L', 'R134N', 'F183A', 'G150E', 'P94G', 'G49M', 'T191F', 'F183I', 'S51M', 'L109F', 'V171I', 'G99E', 'F15A', 'L109V', 'D96S', 'D66V', 'I70H', 'C29H', 'N62C', 'P189M', 'P167M', 'D57V', 'N62I', 'G153T', 'C193T', 'L58I', 'T1H', 'G144H', 'L181E', 'G81F', 'R14G', 'F15E', 'S127F', 'V178T', 'S43G', 'F15L', 'R71F', 'G170E', 'G115F', 'I136M', 'P159E', 'E152M', 'D88C', 'G81V', 'Y117K', 'S39D', 'P147A', 'G72R', 'S43P', 'D96L', 'W104H', 'P195Q', 'G153F', 'P52D', 'C4M', 'T83Y', 'T146K', 'F183D', 'D88W', 'G114P', 'F183T', 'N118Y', 'S27F', 'Y119K', 'Y33N', 'N22S', 'V35G', 'N28I', 'P52W', 'N107H', 'E184A', 'E133Q', 'T168S', 'Y163E', 'V63G', 'V18R', 'F132T', 'D96H', 'I26T', 'N107Y', 'F68G', 'N11S', 'G150S', 'W104S', 'F124T', 'N155T', 'A190N', 'Y64R', 'V30W', 'K126N', 'D135W', 'N128Y', 'C148S', 'L186C', 'L160Q', 'V179D', 'W21R', 'D96W', 'G99D', 'Y33H', 'K126R', 'S145K', 'R125S', 'D88V', 'Y157F', 'C4W', 'L181P', 'F183E', 'C29S', 'F60G', 'K46I', 'S17Q', 'A87G', 'W21D', 'S39R', 'K126Q', 'T168W', 'V18K', 'F68C', 'L129K', 'G170M', 'Q77E', 'E8P', 'T83H', 'G172A', 'E139V', 'G72P', 'S106C', 'T44D', 'N128T', 'D57I', 'S43I', 'N169K', 'Q82H', 'F124A', 'R25I', 'Y19L', 'T191P', 'A103F', 'E139I', 'S127E', 'S39N', 'P147S', 'G99N', 'L181I', 'L185I', 'K85T', 'S43K', 'F10G', 'R76L', 'Y91R', 'A143S', 'T83F', 'Y19N', 'F42D', 'A40F', 'N155H', 'V179G', 'A87L', 'V75C', 'W21L', 'N62G', 'A20V', 'L58S', 'A190P', 'Q174P', 'G115N', 'A31C', 'V9Q', 'V30Y', 'T61I', 'N155D', 'N2H', 'I78F', 'A87E', 'A190Q', 'K24S', 'N90C', 'G7D', 'A40S', 'V35D', 'P159I', 'W104V', 'R134S', 'D66N', 'V192H', 'A40P', 'G114S', 'L109C', 'D135V', 'S17R', 'F68A', 'N11L', 'F10N', 'L93P', 'C156Q', 'K112C', 'V180E', 'Y64I', 'V63H', 'L93E', 'V18G', 'S41M', 'N11A', 'V178I', 'G7Y', 'D73H', 'S39A', 'I102C', 'Q142W', 'S67R', 'P94D', 'G172D', 'T138M', 'G170P', 'N155C', 'P131W', 'G81W', 'S34T', 'P94I', 'V179I', 'G115I', 'I136T', 'G81T', 'Q166F', 'R23A', 'T13F', 'D95G', 'G164H', 'Q166Y', 'G84L', 'P195M', 'S111E', 'P94F', 'V35P', 'G144A', 'L186P', 'V179P', 'G153R', 'K54Y', 'E8S', 'N2L', 'G153P', 'L120S', 'G99T', 'W21C', 'S39G', 'Y141K', 'I102D', 'S51Y', 'D32V', 'N116F', 'I26E', 'G72V', 'W104M', 'V9K', 'V18A', 'Q161S', 'Q161A', 'V30N', 'D135Q', 'P94R', 'Y141W', 'F154P', 'T53Y', 'H187P', 'N108D', 'D73C', 'F45V', 'G115C', 'V30D', 'N56G', 'P80Q', 'Y163Q', 'A103Y', 'V9I', 'N38G', 'Y89G', 'L36T', 'P175G', 'E139T', 'C59I', 'S145I', 'G84I', 'G7N', 'L3P', 'I136W', 'L123M', 'G72N', 'C59R', 'A20L', 'L181T', 'E74P', 'F97V', 'Y37F', 'N22Y', 'F6D', 'G144I', 'N62H', 'F60D', 'N28S', 'I136R', 'K92I', 'S127D', 'P147T', 'P5E', 'D96K', 'A188K', 'S106M', 'G115A', 'L185T', 'I140E', 'D57S', 'D110K', 'K112N', 'Y163K', 'K24A', 'Y89Q', 'A103V', 'Y163R', 'L120P', 'F60I', 'K130I', 'C59L', 'Y19W', 'L160G', 'K126A', 'Q142H', 'T83L', 'I102V', 'D32Q', 'C148M', 'P167H', 'N108Q', 'N38C', 'N155V', 'T13R', 'K126M', 'E184K', 'A103Q', 'G170V', 'K130Y', 'I26M', 'G144E', 'P131R', 'F154M', 'I140K', 'E74S', 'G99I', 'A20F', 'G170I', 'Q77H', 'D95P', 'F42C', 'E139L', 'F15D', 'R14P', 'K92T', 'P147D', 'D73W', 'E184H', 'G49V', 'P52M', 'L160Y', 'D32M', 'S39Q', 'C148W', 'P159T', 'N90S', 'A12H', 'S106I', 'Y176T', 'I78H', 'N169H', 'G49A', 'V180Y', 'V171D', 'L109E', 'N107G', 'T61Q', 'F97N', 'N105L', 'A65N', 'L55F', 'S145P', 'S67T', 'A20S', 'S43R', 'W21K', 'F165K', 'S127P', 'D95Q', 'C193N', 'C4R', 'P167K', 'D32R', 'F165I', 'F45C', 'K54V', 'L181G', 'N28T', 'V113T', 'K85P', 'N128W', 'F183M', 'N56Q', 'A79L', 'S34G', 'E133M', 'P195K', 'S17N', 'I78T', 'T1F', 'E133H', 'Q174A', 'T146W', 'L120M', 'D73K', 'V180W', 'K46W', 'N128S', 'A31E', 'S43A', 'Y64V', 'E184M', 'Y121H', 'S51V', 'F97I', 'Y119P', 'L36P', 'P52I', 'Q166A', 'Y89P', 'P175S', 'T98G', 'P5K', 'N169F', 'S34F', 'A65Q', 'Y37T', 'A20K', 'K46Q', 'T138W', 'P131Y', 'T191W', 'N90Y', 'P147I', 'D135H', 'E8G', 'T53N', 'T146A', 'Q166T', 'N108H', 'G172M', 'K46D', 'G153C', 'I102P', 'Y91N', 'I86P', 'Y37P', 'T53F', 'A12N', 'S27C', 'Y91M', 'V113H', 'A87S', 'N22M', 'Y157A', 'F158M', 'L55Y', 'C193R', 'P131M', 'Y19Q', 'L93R', 'I70N', 'N155G', 'N38S', 'F165M', 'K85I', 'T13K', 'P147V', 'Y163H', 'P175N', 'G144Y', 'R76Y', 'G153L', 'T168P', 'D66R', 'K46H', 'T168R', 'V75P', 'Q142F', 'S137G', 'R122N', 'P5T', 'I86A', 'P167E', 'I140N', 'T191Y', 'S145H', 'F158R', 'I70M', 'C156Y', 'K126I', 'N11E', 'P5R', 'V171Q', 'G114Q', 'S111C', 'I78Y', 'C100H', 'V151C', 'S106Y', 'R23V', 'A190L', 'R71M', 'Y37D', 'N2K', 'P159R', 'D96I', 'V171L', 'F68E', 'Y91V', 'P80I', 'D96M', 'T13N', 'K112A', 'L36C', 'S182H', 'K24R', 'T98E', 'Y119L', 'S39I', 'T146Y', 'A12V', 'F10H', 'V178R', 'V192E', 'D57Y', 'Q166S', 'N128E', 'P147Q', 'F15S', 'I78D', 'E8V', 'P195C', 'K92S', 'L93A', 'N118I', 'Y64L', 'E8M', 'N90E', 'A20C', 'R25F', 'D95V', 'G144P', 'A12P', 'P167Y', 'K112F', 'A143R', 'G164A', 'F124R', 'F124D', 'S137M', 'E139N', 'K24T', 'S43M', 'N62D', 'D110V', 'N90H', 'V171H', 'D32K', 'L129V', 'E8R', 'I70K', 'A79G', 'F97G', 'P147N', 'Y163F', 'N105G', 'V9P', 'Y119C', 'P159M', 'W21Q', 'Q142K', 'Y89R', 'G49I', 'S67C', 'K54H', 'V171R', 'Y89C', 'P195G', 'L93C', 'T168A', 'N116P', 'N2P', 'A31Y', 'I26S', 'S111K', 'I102K', 'L55Q', 'K54L', 'R23W', 'V75W', 'V101D', 'V113E', 'F45K', 'K126W', 'A16I', 'F68T', 'C4P', 'E184S', 'G81M', 'Y64M', 'Y91P', 'T83A', 'V151R', 'C47Q', 'N108P', 'K112D', 'N116C', 'V75Y', 'L55E', 'N105I', 'Y33K', 'Q161K', 'F158W', 'C193W'}\n",
      "Missing directories:\n",
      "2\n",
      "{'A190G', 'G114A'}\n"
     ]
    }
   ],
   "source": [
    "import os\n",
    "\n",
    "# Paths to the directories\n",
    "directory_1 = '/home/max/stayahead/out_tmp/pd_output'\n",
    "directory_2 = '/home/max/stayahead/out_tmp/alphafold/1step_all'\n",
    "\n",
    "# Get the set of directory names in directory_1\n",
    "dir1_names = {os.path.splitext(f)[0] for f in os.listdir(directory_1)}\n",
    "dir1_seq_ids = {f.split('_')[-1] for f in dir1_names}\n",
    "dir1_ids = set(ids)\n",
    "\n",
    "# dir2_names = {name for name in os.listdir(directory_2) if os.path.isdir(os.path.join(directory_2, name))}\n",
    "dir2_names = {f.split('.')[0] for f in os.listdir(directory_2)}\n",
    "dir2_ids = {f.split('-')[-1] for f in dir2_names}\n",
    "print(dir2_ids)\n",
    "\n",
    "# Find the missing directories based on partial matches\n",
    "missing_dirs = {name for name in dir2_names if not any(d1_name.startswith(name) for d1_name in dir1_seq_ids)}\n",
    "missing_dirs = {name for name in dir2_ids if not any(d1_name.startswith(name) for d1_name in dir1_ids)}\n",
    "\n",
    "# Print the missing directories\n",
    "print(\"Missing directories:\")\n",
    "print(len(missing_dirs))\n",
    "print(missing_dirs)"
   ]
  },
  {
   "cell_type": "code",
   "execution_count": 37,
   "metadata": {},
   "outputs": [
    {
     "name": "stdout",
     "output_type": "stream",
     "text": [
      "Directory 1 names: {'ACE2-N90S', 'ACE2-N149Y', 'ACE2-G81V', 'ACE2-N105W', 'ACE2-G115D', 'ACE2-T138N', 'ACE2-N105C', 'ACE2-N118S', 'ACE2-A103Q', 'ACE2-P189H', 'ACE2-C156H', 'ACE2-E139I', 'ACE2-P80Q', 'ACE2-W104R', 'ACE2-Q82F', 'ACE2-T168G', 'ACE2-Y141W', 'ACE2-L120W', 'ACE2-G99K', 'ACE2-Y91T', 'ACE2-E152S', 'ACE2-A143M', 'ACE2-L123C', 'ACE2-L185W', 'ACE2-F124Q', 'ACE2-G81A', 'ACE2-L129A', 'ACE2-Q174T', 'ACE2-D135Y', 'ACE2-A188V', 'ACE2-G114I', 'ACE2-S162L', 'ACE2-S162R', 'ACE2-Q174E', 'ACE2-Q166C', 'ACE2-S106A', 'ACE2-E184W', 'ACE2-G150Q', 'ACE2-V151D', 'ACE2-G153N', 'ACE2-P80A', 'ACE2-S162M', 'ACE2-F165K', 'ACE2-D135M', 'ACE2-I140V', 'ACE2-C148V', 'ACE2-K112T', 'ACE2-Y121I', 'ACE2-G99R', 'ACE2-C193S', 'ACE2-K112I', 'ACE2-D96I', 'ACE2-G150A', 'ACE2-G150Y', 'ACE2-A143Y', 'ACE2-L181A', 'ACE2-A190H', 'ACE2-L186E', 'ACE2-P131T', 'ACE2-G144C', 'ACE2-S145E', 'ACE2-T83V', 'ACE2-G114P', 'ACE2-D88F', 'ACE2-Y163M', 'ACE2-K92P', 'ACE2-F183Y', 'ACE2-F154P', 'ACE2-N169Y', 'ACE2-R125D', 'ACE2-C193W', 'ACE2-I102W', 'ACE2-G144I', 'ACE2-D95F', 'ACE2-P189V', 'ACE2-N107M', 'ACE2-R134S', 'ACE2-I136Q', 'ACE2-T168F', 'ACE2-W104H', 'ACE2-R122S', 'ACE2-V178T', 'ACE2-P189G', 'ACE2-Y91M', 'ACE2-F97V', 'ACE2-V179D', 'ACE2-Y173A', 'ACE2-E133D', 'ACE2-S162W', 'ACE2-G144Q', 'ACE2-V178R', 'ACE2-T98R', 'ACE2-V178I', 'ACE2-Q142N', 'ACE2-G84T', 'ACE2-N128F', 'ACE2-Y173N', 'ACE2-L120I', 'ACE2-D96L', 'ACE2-L120Y', 'ACE2-Y91C', 'ACE2-N90I', 'ACE2-Y173Q', 'ACE2-G194T', 'ACE2-T98N', 'ACE2-L109A', 'ACE2-G153A', 'ACE2-G150N', 'ACE2-D95N', 'ACE2-T98H', 'ACE2-P147F', 'ACE2-Y91N', 'ACE2-G170W', 'ACE2-L123N', 'ACE2-I136D', 'ACE2-C193K', 'ACE2-H187W', 'ACE2-F132C', 'ACE2-N169T', 'ACE2-Q142Y', 'ACE2-P94T', 'ACE2-N116A', 'ACE2-S111T', 'ACE2-D110M', 'ACE2-Y89C', 'ACE2-F183S', 'ACE2-D95L', 'ACE2-K130Q', 'ACE2-K85T', 'ACE2-S137H', 'ACE2-I86C', 'ACE2-L186R', 'ACE2-E152F', 'ACE2-Q161C', 'ACE2-Y91S', 'ACE2-L93Q', 'ACE2-I102D', 'ACE2-Y173P', 'ACE2-Y121F', 'ACE2-K112W', 'ACE2-Y173W', 'ACE2-A190W', 'ACE2-L109V', 'ACE2-K126H', 'ACE2-Q166V', 'ACE2-Y173E', 'ACE2-D96F', 'ACE2-K112A', 'ACE2-Y157P', 'ACE2-Y89I', 'ACE2-N116E', 'ACE2-C193R', 'ACE2-D95Y', 'ACE2-Y89Q', 'ACE2-Y91H', 'ACE2-P195C', 'ACE2-E184A', 'ACE2-T168S', 'ACE2-P159M', 'ACE2-S182R', 'ACE2-E152W', 'ACE2-N118H', 'ACE2-Y121L', 'ACE2-S145A', 'ACE2-Y157V', 'ACE2-A190T', 'ACE2-T98E', 'ACE2-L181Y', 'ACE2-K92A', 'ACE2-G84H', 'ACE2-L186V', 'ACE2-S162T', 'ACE2-L160D', 'ACE2-V178K', 'ACE2-P159C', 'ACE2-N108T', 'ACE2-N107L', 'ACE2-S111V', 'ACE2-D135F', 'ACE2-K92F', 'ACE2-V171R', 'ACE2-L160H', 'ACE2-G81R', 'ACE2-V101H', 'ACE2-F97S', 'ACE2-V179Q', 'ACE2-T146Q', 'ACE2-P147L', 'ACE2-T146C', 'ACE2-Q82Y', 'ACE2-V179M', 'ACE2-D96Y', 'ACE2-Y121W', 'ACE2-V192C', 'ACE2-E152Q', 'ACE2-Y117V', 'ACE2-A103D', 'ACE2-Y176D', 'ACE2-T138K', 'ACE2-P147W', 'ACE2-R122Q', 'ACE2-K112G', 'ACE2-G153E', 'ACE2-G164R', 'ACE2-N105K', 'ACE2-C100N', 'ACE2-G114N', 'ACE2-G99H', 'ACE2-Y121N', 'ACE2-A143E', 'ACE2-F97K', 'ACE2-Y173V', 'ACE2-D110L', 'ACE2-K126D', 'ACE2-S137N', 'ACE2-Y163W', 'ACE2-T138M', 'ACE2-S111P', 'ACE2-T138F', 'ACE2-G115L', 'ACE2-G99C', 'ACE2-Q161D', 'ACE2-L181C', 'ACE2-P80R', 'ACE2-N90T', 'ACE2-Y89R', 'ACE2-P175W', 'ACE2-V180F', 'ACE2-N155D', 'ACE2-N149E', 'ACE2-S137C', 'ACE2-K85E', 'ACE2-Q142E', 'ACE2-D135N', 'ACE2-L160S', 'ACE2-Y119D', 'ACE2-K85Q', 'ACE2-D110I', 'ACE2-N155L', 'ACE2-C193Q', 'ACE2-S137G', 'ACE2-S127G', 'ACE2-G115H', 'ACE2-S182K', 'ACE2-C156Y', 'ACE2-P175Y', 'ACE2-C100F', 'ACE2-P159H', 'ACE2-Y176A', 'ACE2-N90L', 'ACE2-V101K', 'ACE2-G172E', 'ACE2-V151T', 'ACE2-C156V', 'ACE2-N116H', 'ACE2-K92V', 'ACE2-G150E', 'ACE2-P94N', 'ACE2-V171C', 'ACE2-G170I', 'ACE2-T168M', 'ACE2-Y121H', 'ACE2-E139Y', 'ACE2-A87G', 'ACE2-G114H', 'ACE2-N90E', 'ACE2-R134K', 'ACE2-Q82R', 'ACE2-N155H', 'ACE2-G170F', 'ACE2-T146K', 'ACE2-S182V', 'ACE2-Q142M', 'ACE2-C193H', 'ACE2-P195M', 'ACE2-G150D', 'ACE2-N107T', 'ACE2-L123V', 'ACE2-L129K', 'ACE2-D88S', 'ACE2-S162Y', 'ACE2-Y121D', 'ACE2-G172H', 'ACE2-G81C', 'ACE2-C148R', 'ACE2-P195N', 'ACE2-Q174C', 'ACE2-P167A', 'ACE2-P167C', 'ACE2-K126Q', 'ACE2-Y163E', 'ACE2-V180E', 'ACE2-P131M', 'ACE2-R177N', 'ACE2-V179E', 'ACE2-D135R', 'ACE2-S111Y', 'ACE2-L185S', 'ACE2-A87W', 'ACE2-L93P', 'ACE2-V101R', 'ACE2-I86R', 'ACE2-L186I', 'ACE2-F124V', 'ACE2-P80E', 'ACE2-A143V', 'ACE2-P80M', 'ACE2-N149K', 'ACE2-C193F', 'ACE2-G114F', 'ACE2-E152M', 'ACE2-F165H', 'ACE2-P159V', 'ACE2-Y91A', 'ACE2-Q161E', 'ACE2-Y91R', 'ACE2-P195W', 'ACE2-P80D', 'ACE2-F97M', 'ACE2-N128P', 'ACE2-Y157E', 'ACE2-L181N', 'ACE2-G84F', 'ACE2-D110G', 'ACE2-N128V', 'ACE2-P147V', 'ACE2-N118Q', 'ACE2-G150V', 'ACE2-A87H', 'ACE2-L129T', 'ACE2-N90A', 'ACE2-H187V', 'ACE2-C156E', 'ACE2-F124I', 'ACE2-Y176C', 'ACE2-L129C', 'ACE2-R177K', 'ACE2-L185V', 'ACE2-Y157Q', 'ACE2-L93G', 'ACE2-G170A', 'ACE2-F124K', 'ACE2-D88A', 'ACE2-T83C', 'ACE2-L120V', 'ACE2-A143D', 'ACE2-R134H', 'ACE2-T168D', 'ACE2-L129Y', 'ACE2-Y157M', 'ACE2-E184N', 'ACE2-Y176P', 'ACE2-F183G', 'ACE2-N149F', 'ACE2-D135K', 'ACE2-G144S', 'ACE2-G164H', 'ACE2-L93V', 'ACE2-V113N', 'ACE2-A103N', 'ACE2-R125K', 'ACE2-T191H', 'ACE2-P159L', 'ACE2-A87S', 'ACE2-Y173I', 'ACE2-G84Y', 'ACE2-V179H', 'ACE2-G115C', 'ACE2-G170M', 'ACE2-S182F', 'ACE2-N107C', 'ACE2-N149T', 'ACE2-S145L', 'ACE2-F154G', 'ACE2-C148H', 'ACE2-L123G', 'ACE2-L185Q', 'ACE2-F124S', 'ACE2-A143C', 'ACE2-N105M', 'ACE2-F183K', 'ACE2-V151H', 'ACE2-E152V', 'ACE2-A143K', 'ACE2-R177P', 'ACE2-R134A', 'ACE2-Y157S', 'ACE2-N118C', 'ACE2-I86L', 'ACE2-S127C', 'ACE2-C148S', 'ACE2-N169M', 'ACE2-F132T', 'ACE2-G194A', 'ACE2-N128A', 'ACE2-G115T', 'ACE2-D135G', 'ACE2-F154V', 'ACE2-L120M', 'ACE2-G150R', 'ACE2-L185Y', 'ACE2-T138A', 'ACE2-L160K', 'ACE2-T168R', 'ACE2-G115A', 'ACE2-Q82N', 'ACE2-R125H', 'ACE2-T168W', 'ACE2-N155V', 'ACE2-V101D', 'ACE2-F165G', 'ACE2-Y117H', 'ACE2-L109K', 'ACE2-N105G', 'ACE2-S145P', 'ACE2-I136R', 'ACE2-F132D', 'ACE2-G144A', 'ACE2-C100S', 'ACE2-Q174F', 'ACE2-Y176F', 'ACE2-C156N', 'ACE2-P195R', 'ACE2-T98I', 'ACE2-S137F', 'ACE2-L120N', 'ACE2-F158K', 'ACE2-A188L', 'ACE2-F158Q', 'ACE2-T98C', 'ACE2-I86D', 'ACE2-V171H', 'ACE2-R177Q', 'ACE2-T146N', 'ACE2-I102S', 'ACE2-F132H', 'ACE2-G114D', 'ACE2-V101Y', 'ACE2-L181S', 'ACE2-T168C', 'ACE2-Q142V', 'ACE2-F132V', 'ACE2-S127Y', 'ACE2-L120P', 'ACE2-A143R', 'ACE2-S127V', 'ACE2-F124T', 'ACE2-T98V', 'ACE2-H187E', 'ACE2-R134V', 'ACE2-S182D', 'ACE2-Y119Q', 'ACE2-N118D', 'ACE2-I86E', 'ACE2-G172W', 'ACE2-G153S', 'ACE2-Y157F', 'ACE2-Y89V', 'ACE2-Y91L', 'ACE2-I140E', 'ACE2-C156M', 'ACE2-S162K', 'ACE2-G164I', 'ACE2-S182N', 'ACE2-D96G', 'ACE2-V179T', 'ACE2-F97Y', 'ACE2-K126V', 'ACE2-L93T', 'ACE2-N107V', 'ACE2-E139P', 'ACE2-R122F', 'ACE2-P167L', 'ACE2-S182L', 'ACE2-P175M', 'ACE2-Q82H', 'ACE2-E133G', 'ACE2-G170V', 'ACE2-S111Q', 'ACE2-A188H', 'ACE2-Q161S', 'ACE2-T138D', 'ACE2-D88E', 'ACE2-D95K', 'ACE2-P131K', 'ACE2-Y141G', 'ACE2-F154S', 'ACE2-Y163N', 'ACE2-Y117G', 'ACE2-T83Y', 'ACE2-N90W', 'ACE2-I86Y', 'ACE2-S182Q', 'ACE2-Y89P', 'ACE2-N105T', 'ACE2-V178E', 'ACE2-A143N', 'ACE2-Y157K', 'ACE2-P131A', 'ACE2-P189C', 'ACE2-V192Y', 'ACE2-T191P', 'ACE2-T191F', 'ACE2-A190C', 'ACE2-P195S', 'ACE2-N169A', 'ACE2-W104A', 'ACE2-D95Q', 'ACE2-A87M', 'ACE2-T168A', 'ACE2-S137Q', 'ACE2-F158D', 'ACE2-Q142I', 'ACE2-N116D', 'ACE2-Q142D', 'ACE2-L109W', 'ACE2-P167M', 'ACE2-D95E', 'ACE2-P159W', 'ACE2-P131H', 'ACE2-G172N', 'ACE2-C156G', 'ACE2-K92S', 'ACE2-K92D', 'ACE2-R125Y', 'ACE2-N169E', 'ACE2-Q174H', 'ACE2-N90R', 'ACE2-T98F', 'ACE2-I102R', 'ACE2-Y119H', 'ACE2-S127A', 'ACE2-L123A', 'ACE2-P189Q', 'ACE2-Y157D', 'ACE2-T83W', 'ACE2-R177H', 'ACE2-Q166S', 'ACE2-L185R', 'ACE2-Q174K', 'ACE2-R134I', 'ACE2-Q161N', 'ACE2-N149S', 'ACE2-L185F', 'ACE2-P175S', 'ACE2-C100K', 'ACE2-A103W', 'ACE2-Y89W', 'ACE2-V180L', 'ACE2-V180Y', 'ACE2-V179W', 'ACE2-D110Q', 'ACE2-I102A', 'ACE2-C193M', 'ACE2-K85R', 'ACE2-Y163F', 'ACE2-F132Q', 'ACE2-D96H', 'ACE2-A143L', 'ACE2-Y119L', 'ACE2-E152L', 'ACE2-V113R', 'ACE2-F132G', 'ACE2-E133S', 'ACE2-L129N', 'ACE2-Y119M', 'ACE2-N108C', 'ACE2-W104L', 'ACE2-N105V', 'ACE2-H187D', 'ACE2-P189S', 'ACE2-S137I', 'ACE2-N116Q', 'ACE2-G170N', 'ACE2-R122W', 'ACE2-P189I', 'ACE2-R125A', 'ACE2-Y141S', 'ACE2-R177V', 'ACE2-D88H', 'ACE2-S111E', 'ACE2-A103P', 'ACE2-G172P', 'ACE2-N149A', 'ACE2-Q82K', 'ACE2-K130V', 'ACE2-F165A', 'ACE2-S145H', 'ACE2-G194F', 'ACE2-R122Y', 'ACE2-A188W', 'ACE2-Q161Y', 'ACE2-A190D', 'ACE2-I102Y', 'ACE2-N155Q', 'ACE2-A143P', 'ACE2-R125N', 'ACE2-T146M', 'ACE2-A190Q', 'ACE2-K85D', 'ACE2-Y89F', 'ACE2-Y163P', 'ACE2-E184T', 'ACE2-A87L', 'ACE2-L109E', 'ACE2-Y176V', 'ACE2-F154W', 'ACE2-A143T', 'ACE2-P159S', 'ACE2-Q166R', 'ACE2-K92M', 'ACE2-Q82E', 'ACE2-K126P', 'ACE2-G194C', 'ACE2-D95I', 'ACE2-S106Q', 'ACE2-W104Q', 'ACE2-Y141H', 'ACE2-N90V', 'ACE2-N107Q', 'ACE2-K112Y', 'ACE2-F158T', 'ACE2-F132S', 'ACE2-N128R', 'ACE2-Q82D', 'ACE2-P94S', 'ACE2-K85F', 'ACE2-G115V', 'ACE2-G99S', 'ACE2-E139H', 'ACE2-L109Q', 'ACE2-S127I', 'ACE2-P195H', 'ACE2-F154I', 'ACE2-K126C', 'ACE2-I86M', 'ACE2-N128C', 'ACE2-S106P', 'ACE2-N169I', 'ACE2-D88R', 'ACE2-Y176I', 'ACE2-S106I', 'ACE2-S106F', 'ACE2-P159G', 'ACE2-V171T', 'ACE2-G144E', 'ACE2-V113Q', 'ACE2-N107A', 'ACE2-I140M', 'ACE2-T146F', 'ACE2-T168K', 'ACE2-C156S', 'ACE2-S162E', 'ACE2-G81E', 'ACE2-G115F', 'ACE2-T191W', 'ACE2-H187R', 'ACE2-R134N', 'ACE2-S111H', 'ACE2-V151P', 'ACE2-D135T', 'ACE2-L93C', 'ACE2-Q166T', 'ACE2-A143F', 'ACE2-N108E', 'ACE2-P189L', 'ACE2-D95G', 'ACE2-H187T', 'ACE2-A188S', 'ACE2-N90D', 'ACE2-I86G', 'ACE2-Y89H', 'ACE2-V151W', 'ACE2-E184H', 'ACE2-C100A', 'ACE2-C193V', 'ACE2-S145I', 'ACE2-W104V', 'ACE2-K85P', 'ACE2-F183P', 'ACE2-Q161K', 'ACE2-R125Q', 'ACE2-Q161A', 'ACE2-F165M', 'ACE2-F97H', 'ACE2-V101M', 'ACE2-L129W', 'ACE2-P131V', 'ACE2-S137L', 'ACE2-G114S', 'ACE2-N90M', 'ACE2-P189E', 'ACE2-G84I', 'ACE2-P189M', 'ACE2-L186F', 'ACE2-T146D', 'ACE2-N169P', 'ACE2-N155A', 'ACE2-V113P', 'ACE2-D96S', 'ACE2-G153Y', 'ACE2-Y173K', 'ACE2-P175H', 'ACE2-P94M', 'ACE2-P147K', 'ACE2-L129Q', 'ACE2-D88V', 'ACE2-L109T', 'ACE2-R134E', 'ACE2-D96N', 'ACE2-L93M', 'ACE2-C148D', 'ACE2-P80L', 'ACE2-C148W', 'ACE2-D135V', 'ACE2-Y117M', 'ACE2-C148A', 'ACE2-P80H', 'ACE2-P147D', 'ACE2-W104M', 'ACE2-F132N', 'ACE2-T168I', 'ACE2-E139R', 'ACE2-Y141M', 'ACE2-I86K', 'ACE2-A190I', 'ACE2-P159N', 'ACE2-V151Y', 'ACE2-T146L', 'ACE2-I86S', 'ACE2-C100L', 'ACE2-P131Y', 'ACE2-S182M', 'ACE2-G194R', 'ACE2-G115W', 'ACE2-V192T', 'ACE2-N128Q', 'ACE2-P147A', 'ACE2-Q174P', 'ACE2-Y141F', 'ACE2-F124A', 'ACE2-D95S', 'ACE2-T138L', 'ACE2-N149L', 'ACE2-Y89M', 'ACE2-G81K', 'ACE2-P131N', 'ACE2-C100W', 'ACE2-R122K', 'ACE2-L109G', 'ACE2-Y121G', 'ACE2-Y173L', 'ACE2-G81T', 'ACE2-F165R', 'ACE2-K92E', 'ACE2-T83H', 'ACE2-H187S', 'ACE2-N90F', 'ACE2-V101G', 'ACE2-L181W', 'ACE2-D110P', 'ACE2-P94R', 'ACE2-G81D', 'ACE2-K85C', 'ACE2-Y89D', 'ACE2-V192G', 'ACE2-P147T', 'ACE2-N128E', 'ACE2-V171S', 'ACE2-Y119E', 'ACE2-R125V', 'ACE2-G115S', 'ACE2-Y119V', 'ACE2-L186Q', 'ACE2-K85A', 'ACE2-T168V', 'ACE2-P189A', 'ACE2-G115R', 'ACE2-P147C', 'ACE2-G84D', 'ACE2-N169H', 'ACE2-F158I', 'ACE2-D96A', 'ACE2-N169G', 'ACE2-Y121C', 'ACE2-R122V', 'ACE2-N108S', 'ACE2-E139L', 'ACE2-C148N', 'ACE2-G194M', 'ACE2-P175R', 'ACE2-K130C', 'ACE2-D135E', 'ACE2-L93D', 'ACE2-T191G', 'ACE2-I140G', 'ACE2-S145T', 'ACE2-G164E', 'ACE2-G170H', 'ACE2-P94K', 'ACE2-E184K', 'ACE2-L123F', 'ACE2-G153V', 'ACE2-F124W', 'ACE2-Q161I', 'ACE2-G194V', 'ACE2-K126L', 'ACE2-N169D', 'ACE2-Y119C', 'ACE2-P167H', 'ACE2-P80T', 'ACE2-V101P', 'ACE2-G172C', 'ACE2-A143W', 'ACE2-K130P', 'ACE2-G150S', 'ACE2-A190R', 'ACE2-V192D', 'ACE2-G172F', 'ACE2-S111C', 'ACE2-L181D', 'ACE2-K85S', 'ACE2-I136M', 'ACE2-G150M', 'ACE2-G114C', 'ACE2-P167T', 'ACE2-A190N', 'ACE2-P175C', 'ACE2-E184D', 'ACE2-H187G', 'ACE2-A190V', 'ACE2-C156A', 'ACE2-N108P', 'ACE2-N116T', 'ACE2-S111K', 'ACE2-I136L', 'ACE2-A87C', 'ACE2-D88K', 'ACE2-Y173F', 'ACE2-F132W', 'ACE2-E152N', 'ACE2-P175A', 'ACE2-P131G', 'ACE2-T98P', 'ACE2-N108F', 'ACE2-T98W', 'ACE2-C148M', 'ACE2-S106K', 'ACE2-F154Y', 'ACE2-R122P', 'ACE2-G153D', 'ACE2-V171N', 'ACE2-I136F', 'ACE2-G164F', 'ACE2-G114W', 'ACE2-V180I', 'ACE2-S162P', 'ACE2-L129S', 'ACE2-L185E', 'ACE2-N116S', 'ACE2-Y91W', 'ACE2-Q166H', 'ACE2-Y163T', 'ACE2-N116M', 'ACE2-L123M', 'ACE2-K130H', 'ACE2-E139M', 'ACE2-P147G', 'ACE2-F154M', 'ACE2-Q166F', 'ACE2-V192P', 'ACE2-I102H', 'ACE2-D96C', 'ACE2-V151E', 'ACE2-P167K', 'ACE2-Y141P', 'ACE2-N90C', 'ACE2-G153Q', 'ACE2-E184R', 'ACE2-L123W', 'ACE2-D88Q', 'ACE2-Y89T', 'ACE2-D96M', 'ACE2-Q142A', 'ACE2-E133I', 'ACE2-T138P', 'ACE2-S162I', 'ACE2-N107D', 'ACE2-C156K', 'ACE2-T191K', 'ACE2-G84S', 'ACE2-P167I', 'ACE2-S137T', 'ACE2-F154R', 'ACE2-L160T', 'ACE2-F183E', 'ACE2-C100R', 'ACE2-F97Q', 'ACE2-D135I', 'ACE2-R122D', 'ACE2-L120F', 'ACE2-S127E', 'ACE2-G170L', 'ACE2-A190G', 'ACE2-A103F', 'ACE2-F154K', 'ACE2-T98A', 'ACE2-E152T', 'ACE2-A188Y', 'ACE2-C156L', 'ACE2-Y117K', 'ACE2-T138C', 'ACE2-S111L', 'ACE2-Q82I', 'ACE2-V192N', 'ACE2-V178A', 'ACE2-P131S', 'ACE2-D96T', 'ACE2-P147Y', 'ACE2-Y176E', 'ACE2-L93R', 'ACE2-F183R', 'ACE2-F132M', 'ACE2-E133L', 'ACE2-L93W', 'ACE2-S127W', 'ACE2-E139C', 'ACE2-Y176Q', 'ACE2-V192K', 'ACE2-E133V', 'ACE2-N155K', 'ACE2-D135L', 'ACE2-P167V', 'ACE2-Y163Q', 'ACE2-V179A', 'ACE2-C100Q', 'ACE2-L93S', 'ACE2-V101L', 'ACE2-Q174W', 'ACE2-I136H', 'ACE2-I140T', 'ACE2-G84K', 'ACE2-E184C', 'ACE2-Y163I', 'ACE2-N90H', 'ACE2-Q142T', 'ACE2-I136W', 'ACE2-T191I', 'ACE2-N116I', 'ACE2-Y119F', 'ACE2-H187F', 'ACE2-G170E', 'ACE2-Y157G', 'ACE2-G115Q', 'ACE2-L120G', 'ACE2-P94Y', 'ACE2-Q166G', 'ACE2-G99Q', 'ACE2-R177Y', 'ACE2-C100H', 'ACE2-P167R', 'ACE2-G194E', 'ACE2-N149D', 'ACE2-F165W', 'ACE2-G99Y', 'ACE2-V180P', 'ACE2-Q174Y', 'ACE2-C193Y', 'ACE2-G164N', 'ACE2-Q161H', 'ACE2-K85W', 'ACE2-I102F', 'ACE2-Y176R', 'ACE2-F165S', 'ACE2-H187L', 'ACE2-L185M', 'ACE2-Q142W', 'ACE2-Y119G', 'ACE2-A103T', 'ACE2-R177I', 'ACE2-Y176T', 'ACE2-E184Y', 'ACE2-V151M', 'ACE2-T98Q', 'ACE2-N149W', 'ACE2-G114V', 'ACE2-K112P', 'ACE2-A143H', 'ACE2-K92Y', 'ACE2-C148Y', 'ACE2-L186C', 'ACE2-T98Y', 'ACE2-R177M', 'ACE2-S127Q', 'ACE2-Y121A', 'ACE2-Y121E', 'ACE2-S111N', 'ACE2-N118L', 'ACE2-S106V', 'ACE2-T98L', 'ACE2-N116C', 'ACE2-D88Y', 'ACE2-Y117P', 'ACE2-L160V', 'ACE2-G172L', 'ACE2-N108D', 'ACE2-N155G', 'ACE2-T98G', 'ACE2-F97T', 'ACE2-T191L', 'ACE2-I86T', 'ACE2-T146Y', 'ACE2-G84Q', 'ACE2-T138H', 'ACE2-I140P', 'ACE2-S111D', 'ACE2-Y117W', 'ACE2-E184L', 'ACE2-N149I', 'ACE2-N108L', 'ACE2-V192A', 'ACE2-K130W', 'ACE2-V178Y', 'ACE2-R177L', 'ACE2-L109F', 'ACE2-D135Q', 'ACE2-R125W', 'ACE2-G164D', 'ACE2-Q174V', 'ACE2-N118R', 'ACE2-E133H', 'ACE2-V178D', 'ACE2-R122H', 'ACE2-L185T', 'ACE2-F97I', 'ACE2-G84E', 'ACE2-K85G', 'ACE2-N169R', 'ACE2-F97D', 'ACE2-F165N', 'ACE2-L186G', 'ACE2-S111W', 'ACE2-R177S', 'ACE2-L160E', 'ACE2-P159Q', 'ACE2-V180K', 'ACE2-P175N', 'ACE2-T138E', 'ACE2-F154N', 'ACE2-P175G', 'ACE2-R125C', 'ACE2-R177F', 'ACE2-C193P', 'ACE2-E184I', 'ACE2-S127M', 'ACE2-G99A', 'ACE2-E133W', 'ACE2-R134L', 'ACE2-V113T', 'ACE2-F158P', 'ACE2-P189F', 'ACE2-Y91I', 'ACE2-G153H', 'ACE2-G164L', 'ACE2-G153I', 'ACE2-N155Y', 'ACE2-V113S', 'ACE2-T168Y', 'ACE2-G194I', 'ACE2-A87T', 'ACE2-W104G', 'ACE2-W104E', 'ACE2-K126Y', 'ACE2-Y141T', 'ACE2-V180D', 'ACE2-C100I', 'ACE2-T191Q', 'ACE2-C100D', 'ACE2-A190Y', 'ACE2-K112D', 'ACE2-A143S', 'ACE2-I140C', 'ACE2-L160C', 'ACE2-L181G', 'ACE2-T146I', 'ACE2-A143G', 'ACE2-V101N', 'ACE2-Q166A', 'ACE2-A103R', 'ACE2-Q174A', 'ACE2-Q166N', 'ACE2-D88C', 'ACE2-F97W', 'ACE2-G164A', 'ACE2-Y157C', 'ACE2-A103C', 'ACE2-C193I', 'ACE2-Y141C', 'ACE2-Y119I', 'ACE2-G194L', 'ACE2-V192R', 'ACE2-N128L', 'ACE2-T138V', 'ACE2-D110C', 'ACE2-G172T', 'ACE2-L185I', 'ACE2-N116Y', 'ACE2-P195D', 'ACE2-E152H', 'ACE2-D88L', 'ACE2-L93N', 'ACE2-T138Q', 'ACE2-V178F', 'ACE2-S145W', 'ACE2-H187I', 'ACE2-W104C', 'ACE2-F165E', 'ACE2-L123R', 'ACE2-Y119A', 'ACE2-R177D', 'ACE2-P167Q', 'ACE2-V192H', 'ACE2-S127H', 'ACE2-G115K', 'ACE2-G144P', 'ACE2-G114E', 'ACE2-Y89E', 'ACE2-K112R', 'ACE2-N107S', 'ACE2-A190F', 'ACE2-G84L', 'ACE2-N155T', 'ACE2-P131D', 'ACE2-L109N', 'ACE2-P167W', 'ACE2-V178N', 'ACE2-G144V', 'ACE2-Y121T', 'ACE2-T98D', 'ACE2-V192Q', 'ACE2-C156R', 'ACE2-N108H', 'ACE2-G153F', 'ACE2-R122G', 'ACE2-V171F', 'ACE2-S127P', 'ACE2-F154L', 'ACE2-Q174D', 'ACE2-I140A', 'ACE2-I136G', 'ACE2-C100E', 'ACE2-P80V', 'ACE2-N155I', 'ACE2-R177G', 'ACE2-P94A', 'ACE2-G153P', 'ACE2-A188M', 'ACE2-F165D', 'ACE2-L129E', 'ACE2-A188N', 'ACE2-P159A', 'ACE2-E152P', 'ACE2-Q174N', 'ACE2-P167E', 'ACE2-F158C', 'ACE2-N105P', 'ACE2-V171I', 'ACE2-P175D', 'ACE2-T146S', 'ACE2-L186P', 'ACE2-L186W', 'ACE2-N149V', 'ACE2-H187Y', 'ACE2-Y117C', 'ACE2-I86A', 'ACE2-P159I', 'ACE2-T168H', 'ACE2-S162N', 'ACE2-F154E', 'ACE2-R125P', 'ACE2-E139A', 'ACE2-L160N', 'ACE2-T191A', 'ACE2-F165I', 'ACE2-C156Q', 'ACE2-N118W', 'ACE2-L93A', 'ACE2-V179I', 'ACE2-T191S', 'ACE2-P80G', 'ACE2-V179P', 'ACE2-S137V', 'ACE2-G194S', 'ACE2-A87R', 'ACE2-Q174M', 'ACE2-D96V', 'ACE2-G115Y', 'ACE2-N107G', 'ACE2-T168L', 'ACE2-G164T', 'ACE2-L109C', 'ACE2-Y141N', 'ACE2-A188F', 'ACE2-K85I', 'ACE2-S182W', 'ACE2-K130E', 'ACE2-L123E', 'ACE2-N105S', 'ACE2-A79Y', 'ACE2-G84P', 'ACE2-V192I', 'ACE2-F154T', 'ACE2-L181P', 'ACE2-S137A', 'ACE2-E184F', 'ACE2-F97G', 'ACE2-L123S', 'ACE2-S106Y', 'ACE2-F97C', 'ACE2-Y121Q', 'ACE2-N108W', 'ACE2-F132E', 'ACE2-R125S', 'ACE2-K92T', 'ACE2-Q82T', 'ACE2-L181I', 'ACE2-A188Q', 'ACE2-L123I', 'ACE2-P131Q', 'ACE2-G81F', 'ACE2-P189N', 'ACE2-G153R', 'ACE2-V179N', 'ACE2-Y89G', 'ACE2-D110E', 'ACE2-C100G', 'ACE2-Y91G', 'ACE2-P175Q', 'ACE2-L120T', 'ACE2-V113M', 'ACE2-F154D', 'ACE2-S162G', 'ACE2-I136C', 'ACE2-A87D', 'ACE2-Y91P', 'ACE2-T83R', 'ACE2-R122M', 'ACE2-P175E', 'ACE2-V171Q', 'ACE2-L185K', 'ACE2-P131R', 'ACE2-G81M', 'ACE2-N155M', 'ACE2-E133C', 'ACE2-D88N', 'ACE2-N105I', 'ACE2-K112N', 'ACE2-F97P', 'ACE2-L120A', 'ACE2-D95C', 'ACE2-N149H', 'ACE2-F124G', 'ACE2-Q174I', 'ACE2-L186S', 'ACE2-R125G', 'ACE2-S182H', 'ACE2-T83K', 'ACE2-F132P', 'ACE2-T83D', 'ACE2-D110S', 'ACE2-K130F', 'ACE2-E139V', 'ACE2-F124M', 'ACE2-P189T', 'ACE2-A188I', 'ACE2-V151A', 'ACE2-N116V', 'ACE2-V113E', 'ACE2-E152A', 'ACE2-H187A', 'ACE2-P195V', 'ACE2-G114L', 'ACE2-N169F', 'ACE2-R177W', 'ACE2-I102M', 'ACE2-G81S', 'ACE2-D96R', 'ACE2-Y141V', 'ACE2-E139S', 'ACE2-D135C', 'ACE2-E139Q', 'ACE2-P131C', 'ACE2-Y157N', 'ACE2-E184P', 'ACE2-F97L', 'ACE2-L123T', 'ACE2-F158R', 'ACE2-I140F', 'ACE2-T146H', 'ACE2-S137D', 'ACE2-T83A', 'ACE2-K92N', 'ACE2-Y119R', 'ACE2-N105L', 'ACE2-H187C', 'ACE2-A87Q', 'ACE2-G164Y', 'ACE2-E133M', 'ACE2-V151S', 'ACE2-N149R', 'ACE2-V171W', 'ACE2-I136N', 'ACE2-K130D', 'ACE2-F183W', 'ACE2-Y157I', 'ACE2-V101C', 'ACE2-W104Y', 'ACE2-P167Y', 'ACE2-G81L', 'ACE2-A103E', 'ACE2-L129G', 'ACE2-F124N', 'ACE2-N107F', 'ACE2-D110W', 'ACE2-L181M', 'ACE2-K92Q', 'ACE2-N116R', 'ACE2-P147S', 'ACE2-I86F', 'ACE2-Q174R', 'ACE2-I136S', 'ACE2-N107P', 'ACE2-S137P', 'ACE2-G170D', 'ACE2-F183I', 'ACE2-Q82A', 'ACE2-V180N', 'ACE2-W104P', 'ACE2-I86W', 'ACE2-V151K', 'ACE2-V113Y', 'ACE2-P189W', 'ACE2-I136P', 'ACE2-Y121S', 'ACE2-P94D', 'ACE2-E133R', 'ACE2-F158W', 'ACE2-N155W', 'ACE2-E133F', 'ACE2-G84A', 'ACE2-P195K', 'ACE2-F165V', 'ACE2-T168N', 'ACE2-K126S', 'ACE2-F158M', 'ACE2-S182C', 'ACE2-F183C', 'ACE2-E139T', 'ACE2-R125E', 'ACE2-D96W', 'ACE2-P147I', 'ACE2-D95V', 'ACE2-Y141E', 'ACE2-L129H', 'ACE2-L186A', 'ACE2-N107Y', 'ACE2-L120S', 'ACE2-R134D', 'ACE2-F97R', 'ACE2-Y117R', 'ACE2-L186Y', 'ACE2-F97N', 'ACE2-V101I', 'ACE2-S106G', 'ACE2-F165L', 'ACE2-V171A', 'ACE2-S137E', 'ACE2-Y121K', 'ACE2-K92L', 'ACE2-Y163L', 'ACE2-N107I', 'ACE2-R125T', 'ACE2-L186D', 'ACE2-Q142R', 'ACE2-R177E', 'ACE2-F183Q', 'ACE2-C148P', 'ACE2-K126I', 'ACE2-A103I', 'ACE2-G99F', 'ACE2-R177A', 'ACE2-N149Q', 'ACE2-K112V', 'ACE2-E184V', 'ACE2-N105H', 'ACE2-F165C', 'ACE2-V192E', 'ACE2-S182A', 'ACE2-G150L', 'ACE2-T146G', 'ACE2-L160W', 'ACE2-D95W', 'ACE2-G172M', 'ACE2-D110Y', 'ACE2-C148Q', 'ACE2-S162D', 'ACE2-G114K', 'ACE2-Y117D', 'ACE2-R125F', 'ACE2-F97A', 'ACE2-E133Y', 'ACE2-F124R', 'ACE2-I102C', 'ACE2-D96K', 'ACE2-V113A', 'ACE2-L120D', 'ACE2-V180W', 'ACE2-E184Q', 'ACE2-N118G', 'ACE2-F154Q', 'ACE2-S111F', 'ACE2-G144D', 'ACE2-K92R', 'ACE2-N107E', 'ACE2-V180G', 'ACE2-G170Y', 'ACE2-G170K', 'ACE2-V180M', 'ACE2-A190E', 'ACE2-L123H', 'ACE2-D88I', 'ACE2-S145M', 'ACE2-V179L', 'ACE2-F165P', 'ACE2-I136T', 'ACE2-S145R', 'ACE2-F124Y', 'ACE2-D88M', 'ACE2-K130I', 'ACE2-K92W', 'ACE2-Q142S', 'ACE2-E133A', 'ACE2-A87P', 'ACE2-Y157T', 'ACE2-F124H', 'ACE2-V113C', 'ACE2-A188E', 'ACE2-G81H', 'ACE2-G172V', 'ACE2-N118A', 'ACE2-K126R', 'ACE2-G150W', 'ACE2-V178P', 'ACE2-R134Q', 'ACE2-Y119N', 'ACE2-N107K', 'ACE2-Q161W', 'ACE2-T191N', 'ACE2-V178C', 'ACE2-N108M', 'ACE2-Q161M', 'ACE2-T191M', 'ACE2-P195I', 'ACE2-P80F', 'ACE2-L186T', 'ACE2-I86Q', 'ACE2-V179F', 'ACE2-N108A', 'ACE2-N107W', 'ACE2-R122L', 'ACE2-V179R', 'ACE2-N155R', 'ACE2-V113I', 'ACE2-Y89L', 'ACE2-L185N', 'ACE2-T83P', 'ACE2-K112Q', 'ACE2-L185A', 'ACE2-V178G', 'ACE2-I102L', 'ACE2-Q161F', 'ACE2-S145C', 'ACE2-A87K', 'ACE2-P94L', 'ACE2-L120H', 'ACE2-D88P', 'ACE2-G114A', 'ACE2-R122N', 'ACE2-L181T', 'ACE2-Y89S', 'ACE2-K126W', 'ACE2-I86P', 'ACE2-D110F', 'ACE2-G194W', 'ACE2-S162C', 'ACE2-V178L', 'ACE2-V180A', 'ACE2-W104N', 'ACE2-H187M', 'ACE2-Y121M', 'ACE2-G99L', 'ACE2-N149G', 'ACE2-V101W', 'ACE2-R122A', 'ACE2-K85H', 'ACE2-N118T', 'ACE2-Y141D', 'ACE2-P80I', 'ACE2-D88W', 'ACE2-Y89K', 'ACE2-L186K', 'ACE2-N155F', 'ACE2-S127T', 'ACE2-N169L', 'ACE2-G81Y', 'ACE2-N108V', 'ACE2-A188K', 'ACE2-L160R', 'ACE2-V192M', 'ACE2-N128D', 'ACE2-T146P', 'ACE2-F124L', 'ACE2-F158L', 'ACE2-Q142P', 'ACE2-L186H', 'ACE2-G84M', 'ACE2-L93E', 'ACE2-N90P', 'ACE2-H187K', 'ACE2-Q142H', 'ACE2-P131L', 'ACE2-K85V', 'ACE2-Y157W', 'ACE2-A188G', 'ACE2-D135P', 'ACE2-R122E', 'ACE2-N118M', 'ACE2-N169C', 'ACE2-F158A', 'ACE2-Q174S', 'ACE2-G172S', 'ACE2-Y163S', 'ACE2-V101Q', 'ACE2-G99I', 'ACE2-Q166W', 'ACE2-A143I', 'ACE2-E133P', 'ACE2-G84C', 'ACE2-P94W', 'ACE2-Y163V', 'ACE2-V178M', 'ACE2-R134C', 'ACE2-L93F', 'ACE2-L120R', 'ACE2-S182E', 'ACE2-K85L', 'ACE2-V178S', 'ACE2-L123K', 'ACE2-S182T', 'ACE2-T191C', 'ACE2-S106N', 'ACE2-A188T', 'ACE2-V101E', 'ACE2-P147H', 'ACE2-G150T', 'ACE2-S145F', 'ACE2-G99N', 'ACE2-P94H', 'ACE2-L160M', 'ACE2-N128M', 'ACE2-I136Y', 'ACE2-G144N', 'ACE2-Y117A', 'ACE2-V192L', 'ACE2-K130Y', 'ACE2-T191D', 'ACE2-F124P', 'ACE2-K85N', 'ACE2-V171Y', 'ACE2-S106M', 'ACE2-L160F', 'ACE2-D95A', 'ACE2-E139K', 'ACE2-Y119P', 'ACE2-Y119W', 'ACE2-Q166Y', 'ACE2-N149M', 'ACE2-R122I', 'ACE2-E139F', 'ACE2-H187N', 'ACE2-E133N', 'ACE2-F124E', 'ACE2-F97E', 'ACE2-K130L', 'ACE2-N128I', 'ACE2-F124D', 'ACE2-L129F', 'ACE2-P131W', 'ACE2-D135S', 'ACE2-N155E', 'ACE2-N90G', 'ACE2-N118P', 'ACE2-Y176L', 'ACE2-G144T', 'ACE2-V192S', 'ACE2-Q161R', 'ACE2-G170P', 'ACE2-V113F', 'ACE2-Y117T', 'ACE2-S145N', 'ACE2-L120E', 'ACE2-C100Y', 'ACE2-V151L', 'ACE2-S106H', 'ACE2-A103V', 'ACE2-F183H', 'ACE2-G172D', 'ACE2-A87Y', 'ACE2-D95H', 'ACE2-K126A', 'ACE2-T146V', 'ACE2-I140D', 'ACE2-Y121R', 'ACE2-V171E', 'ACE2-A103K', 'ACE2-F132Y', 'ACE2-F158S', 'ACE2-K130R', 'ACE2-D88G', 'ACE2-V113H', 'ACE2-P80W', 'ACE2-G99V', 'ACE2-P94C', 'ACE2-T191E', 'ACE2-C100T', 'ACE2-D110T', 'ACE2-G99M', 'ACE2-P147R', 'ACE2-P167F', 'ACE2-L129R', 'ACE2-N108Q', 'ACE2-N118F', 'ACE2-G99P', 'ACE2-F183A', 'ACE2-F183M', 'ACE2-L93I', 'ACE2-S145G', 'ACE2-Y119K', 'ACE2-G153L', 'ACE2-D110H', 'ACE2-G81W', 'ACE2-F158E', 'ACE2-E184S', 'ACE2-K126G', 'ACE2-D95P', 'ACE2-Y91F', 'ACE2-E139W', 'ACE2-Y141I', 'ACE2-F165Y', 'ACE2-N105Q', 'ACE2-R122T', 'ACE2-G170S', 'ACE2-I102T', 'ACE2-F183T', 'ACE2-Q82S', 'ACE2-G164S', 'ACE2-C100V', 'ACE2-P159T', 'ACE2-L185H', 'ACE2-C156F', 'ACE2-G153C', 'ACE2-V179K', 'ACE2-P80N', 'ACE2-L109P', 'ACE2-L181Q', 'ACE2-D110K', 'ACE2-Y119T', 'ACE2-N169S', 'ACE2-I102P', 'ACE2-Y117I', 'ACE2-L109I', 'ACE2-V179Y', 'ACE2-L160G', 'ACE2-Y121P', 'ACE2-P167D', 'ACE2-T191V', 'ACE2-T138W', 'ACE2-V101S', 'ACE2-G164Q', 'ACE2-N105A', 'ACE2-K112E', 'ACE2-L186M', 'ACE2-Y141K', 'ACE2-G150F', 'ACE2-T146R', 'ACE2-S137K', 'ACE2-E184M', 'ACE2-E139N', 'ACE2-L109R', 'ACE2-P159R', 'ACE2-A103H', 'ACE2-L160P', 'ACE2-N128K', 'ACE2-C193N', 'ACE2-G172Q', 'ACE2-Y117S', 'ACE2-C156W', 'ACE2-K92C', 'ACE2-T83G', 'ACE2-P195E', 'ACE2-C148G', 'ACE2-Y173C', 'ACE2-I140K', 'ACE2-H187P', 'ACE2-V178W', 'ACE2-V171G', 'ACE2-L181E', 'ACE2-R134Y', 'ACE2-Y121V', 'ACE2-A103Y', 'ACE2-C156D', 'ACE2-G172A', 'ACE2-G150C', 'ACE2-W104I', 'ACE2-P147M', 'ACE2-G194D', 'ACE2-I102N', 'ACE2-Q174L', 'ACE2-Q142G', 'ACE2-S127L', 'ACE2-A87F', 'ACE2-T83N', 'ACE2-E152Y', 'ACE2-T83F', 'ACE2-N118V', 'ACE2-R177C', 'ACE2-F183D', 'ACE2-S145V', 'ACE2-V151G', 'ACE2-G114M', 'ACE2-L185C', 'ACE2-A103L', 'ACE2-Q174G', 'ACE2-D110R', 'ACE2-G153T', 'ACE2-A188R', 'ACE2-I136A', 'ACE2-R134W', 'ACE2-Y157L', 'ACE2-G144F', 'ACE2-S145Y', 'ACE2-L129P', 'ACE2-Q166I', 'ACE2-G81Q', 'ACE2-T83L', 'ACE2-V113K', 'ACE2-E184G', 'ACE2-T98K', 'ACE2-N107H', 'ACE2-I136V', 'ACE2-L93H', 'ACE2-T138R', 'ACE2-Y91Q', 'ACE2-S106C', 'ACE2-I140Y', 'ACE2-P195Y', 'ACE2-N108I', 'ACE2-F158N', 'ACE2-V180R', 'ACE2-Q166E', 'ACE2-I102Q', 'ACE2-N105Y', 'ACE2-V192F', 'ACE2-Y173D', 'ACE2-E152I', 'ACE2-D135W', 'ACE2-D110A', 'ACE2-T83S', 'ACE2-A188D', 'ACE2-G99D', 'ACE2-G144H', 'ACE2-N108K', 'ACE2-K130N', 'ACE2-E152D', 'ACE2-G144K', 'ACE2-F165T', 'ACE2-N116W', 'ACE2-S182I', 'ACE2-R177T', 'ACE2-Y89N', 'ACE2-S162V', 'ACE2-T191Y', 'ACE2-E133K', 'ACE2-N128T', 'ACE2-I136E', 'ACE2-P147E', 'ACE2-S106E', 'ACE2-I86H', 'ACE2-S106W', 'ACE2-K130M', 'ACE2-N169W', 'ACE2-A103M', 'ACE2-T168P', 'ACE2-K112S', 'ACE2-P80S', 'ACE2-P147Q', 'ACE2-Q161G', 'ACE2-G153K', 'ACE2-N169V', 'ACE2-V192W', 'ACE2-N90K', 'ACE2-Q82C', 'ACE2-S182Y', 'ACE2-Y157R', 'ACE2-N118K', 'ACE2-F124C', 'ACE2-Q166M', 'ACE2-V113D', 'ACE2-C148L', 'ACE2-N155P', 'ACE2-V179G', 'ACE2-G170R', 'ACE2-G99T', 'ACE2-N128S', 'ACE2-K85M', 'ACE2-V113W', 'ACE2-I140Q', 'ACE2-A188P', 'ACE2-V180C', 'ACE2-P131E', 'ACE2-L129I', 'ACE2-D96Q', 'ACE2-S127N', 'ACE2-S137M', 'ACE2-Y157H', 'ACE2-G114Q', 'ACE2-I102K', 'ACE2-V178Q', 'ACE2-Y119S', 'ACE2-G115P', 'ACE2-G99W', 'ACE2-G150K', 'ACE2-A190M', 'ACE2-G84V', 'ACE2-L181K', 'ACE2-P94G', 'ACE2-N107R', 'ACE2-E139G', 'ACE2-C156P', 'ACE2-W104F', 'ACE2-G194N', 'ACE2-S145Q', 'ACE2-I86V', 'ACE2-S127K', 'ACE2-Y173T', 'ACE2-V171K', 'ACE2-G194Q', 'ACE2-W104S', 'ACE2-P159Y', 'ACE2-L185G', 'ACE2-N155C', 'ACE2-Y163A', 'ACE2-L109M', 'ACE2-G144R', 'ACE2-K112C', 'ACE2-V179C', 'ACE2-P195F', 'ACE2-G114R', 'ACE2-P175F', 'ACE2-G172I', 'ACE2-N128G', 'ACE2-G164M', 'ACE2-Y176W', 'ACE2-W104T', 'ACE2-P94V', 'ACE2-Q166D', 'ACE2-G114Y', 'ACE2-T83Q', 'ACE2-P159D', 'ACE2-N105R', 'ACE2-R122C', 'ACE2-Q166P', 'ACE2-V151N', 'ACE2-G170T', 'ACE2-T138Y', 'ACE2-R125M', 'ACE2-K126M', 'ACE2-G164W', 'ACE2-V151I', 'ACE2-Y141A', 'ACE2-P94F', 'ACE2-P175L', 'ACE2-K92G', 'ACE2-G150I', 'ACE2-N116G', 'ACE2-Q82L', 'ACE2-G170Q', 'ACE2-P195Q', 'ACE2-Y141L', 'ACE2-N116P', 'ACE2-S127F', 'ACE2-Y91E', 'ACE2-K112M', 'ACE2-L181R', 'ACE2-A190K', 'ACE2-C148F', 'ACE2-Y173S', 'ACE2-R134F', 'ACE2-S162Q', 'ACE2-A87V', 'ACE2-P94Q', 'ACE2-S162H', 'ACE2-Q166K', 'ACE2-P175T', 'ACE2-N116F', 'ACE2-N149C', 'ACE2-E133T', 'ACE2-Q82M', 'ACE2-K92I', 'ACE2-H187Q', 'ACE2-D110N', 'ACE2-N105E', 'ACE2-V101T', 'ACE2-R134T', 'ACE2-A103S', 'ACE2-D95M', 'ACE2-I102G', 'ACE2-S106D', 'ACE2-S111I', 'ACE2-S137R', 'ACE2-S127D', 'ACE2-Y163C', 'ACE2-L160Q', 'ACE2-S137Y', 'ACE2-G172K', 'ACE2-Y176M', 'ACE2-S111R', 'ACE2-L109D', 'ACE2-A103G', 'ACE2-Q161V', 'ACE2-L109H', 'ACE2-L160I', 'ACE2-G84R', 'ACE2-F154A', 'ACE2-P94I', 'ACE2-P167N', 'ACE2-N128W', 'ACE2-G84W', 'ACE2-Y117Q', 'ACE2-P167S', 'ACE2-I140W', 'ACE2-G170C', 'ACE2-N105F', 'ACE2-G115M', 'ACE2-G115N', 'ACE2-P175K', 'ACE2-C193T', 'ACE2-S106T', 'ACE2-P175V', 'ACE2-T138I', 'ACE2-G115E', 'ACE2-V151C', 'ACE2-V179S', 'ACE2-D135A', 'ACE2-D135H', 'ACE2-K112L', 'ACE2-C148I', 'ACE2-Y173M', 'ACE2-Y117N', 'ACE2-P195A', 'ACE2-C156I', 'ACE2-P189R', 'ACE2-I140S', 'ACE2-V101A', 'ACE2-T146W', 'ACE2-Q142C', 'ACE2-V171M', 'ACE2-L181H', 'ACE2-K112F', 'ACE2-D95R', 'ACE2-F154H', 'ACE2-T98S', 'ACE2-Y173H', 'ACE2-G144L', 'ACE2-D110V', 'ACE2-W104D', 'ACE2-L185P', 'ACE2-G81N', 'ACE2-C193E', 'ACE2-N118Y', 'ACE2-S111G', 'ACE2-F132A', 'ACE2-C193D', 'ACE2-G172Y', 'ACE2-Q82V', 'ACE2-F132K', 'ACE2-C148T', 'ACE2-G194H', 'ACE2-L186N', 'ACE2-N128H', 'ACE2-F183L', 'ACE2-V171P', 'ACE2-K85Y', 'ACE2-Q142L', 'ACE2-D95T', 'ACE2-C193L', 'ACE2-N90Q', 'ACE2-F158H', 'ACE2-V180S', 'ACE2-K126E', 'ACE2-F165Q', 'ACE2-K112H', 'ACE2-S127R', 'ACE2-G81I', 'ACE2-S145D', 'ACE2-S162A', 'ACE2-T168E', 'ACE2-A190P', 'ACE2-Y163D', 'ACE2-Y163R', 'ACE2-P131F', 'ACE2-G150P', 'ACE2-S111A', 'ACE2-G164K', 'ACE2-Y176K', 'ACE2-R134G', 'ACE2-T146E', 'ACE2-E152C', 'ACE2-T98M', 'ACE2-P195L', 'ACE2-L120K', 'ACE2-C156T', 'ACE2-P167G', 'ACE2-P159E', 'ACE2-T83E', 'ACE2-I86N', 'ACE2-A190L', 'ACE2-A188C', 'ACE2-Y141R', 'ACE2-V178H', 'ACE2-F154C', 'ACE2-S111M', 'ACE2-Y117F', 'ACE2-G153M', 'ACE2-K130S', 'ACE2-F183V', 'ACE2-K130G', 'ACE2-L123P', 'ACE2-N108Y', 'ACE2-I102E', 'ACE2-G150H', 'ACE2-G194K', 'ACE2-Q82G', 'ACE2-E152G', 'ACE2-V180Q', 'ACE2-G164V', 'ACE2-Q166L', 'ACE2-L123D', 'ACE2-A190S', 'ACE2-Y157A', 'ACE2-C193A', 'ACE2-Y176S', 'ACE2-P131I', 'ACE2-A87I', 'ACE2-L185D', 'ACE2-R125I', 'ACE2-L129D', 'ACE2-S106L', 'ACE2-Q82W', 'ACE2-Y89A', 'ACE2-I140R', 'ACE2-Q161T', 'ACE2-F158Y', 'ACE2-C148K', 'ACE2-P80Y', 'ACE2-S145K', 'ACE2-F183N', 'ACE2-D88T', 'ACE2-N169K', 'ACE2-Y176H', 'ACE2-N108R', 'ACE2-T168Q', 'ACE2-Y173R', 'ACE2-Y117E', 'ACE2-L120C', 'ACE2-E152K', 'ACE2-R134M', 'ACE2-L123Q', 'ACE2-T191R', 'ACE2-P175I', 'ACE2-P159K', 'ACE2-V151R', 'ACE2-Q142F', 'ACE2-P189Y', 'ACE2-L109S', 'ACE2-E152R', 'ACE2-F132L', 'ACE2-L129M', 'ACE2-Y141Q', 'ACE2-P195G', 'ACE2-E133Q', 'ACE2-V101F', 'ACE2-I140N', 'ACE2-N118E', 'ACE2-L181F', 'ACE2-S137W', 'ACE2-T83M', 'ACE2-K92H', 'ACE2-C100P', 'ACE2-G114T', 'ACE2-G144Y', 'ACE2-Y163K', 'ACE2-P80K', 'ACE2-Y91K', 'ACE2-I140L', 'ACE2-Y176N', 'ACE2-L129V', 'ACE2-N155S', 'ACE2-Q161P', 'ACE2-L181V', 'ACE2-C100M', 'ACE2-N116K', 'ACE2-Q142K', 'ACE2-V171D', 'ACE2-K130A', 'ACE2-N108G', 'ACE2-K126F', 'ACE2-C148E', 'ACE2-G84N', 'ACE2-N128Y', 'ACE2-S182P', 'ACE2-L109Y', 'ACE2-N169Q', 'ACE2-P189K', 'ACE2-Q82P', 'ACE2-V180T', 'ACE2-P94E', 'ACE2-T138S', 'ACE2-V113L', 'ACE2-F158G', 'ACE2-L93K', 'ACE2-V151Q', 'ACE2-T138G', 'ACE2-N149P', 'ACE2-Y117L', 'ACE2-C193G', 'ACE2-G172R', 'ACE2-T83I', 'ACE2-Y163G', 'ACE2-F132R', 'ACE2-G81P', 'ACE2-N116L', 'ACE2-Y173G', 'ACE2-I136K', 'ACE2-R134P', 'ACE2-L160A', 'ACE2-L120Q', 'ACE2-A87N', 'ACE2-L160Y', 'ACE2-D96P', 'ACE2-N118I', 'ACE2-P159F', 'ACE2-S162F', 'ACE2-P195T', 'ACE2-K126T', 'ACE2-F158V', 'ACE2-V113G', 'ACE2-P147N', 'ACE2-Y176G', 'ACE2-N90Y', 'ACE2-R125L', 'ACE2-S182G', 'ACE2-P80C', 'ACE2-G194Y', 'ACE2-A143Q', 'ACE2-F132I', 'ACE2-G164P', 'ACE2-L123Y', 'ACE2-G144M', 'ACE2-V171L', 'ACE2-W104K', 'ACE2-K130T', 'ACE2-A87E', 'ACE2-G115I', 'ACE2-I140H', 'ACE2-Y163H', 'ACE2-P189D', 'ACE2-G164C', 'ACE2-G99E', 'ACE2-Y91D', 'ACE2-T146A', 'ACE2-S106R', 'ACE2-G153W', 'ACE2-N105D', 'ACE2-I102V', 'ACE2-V151F', 'ACE2-G144W', 'ACE2-L93Y', 'ACE2-G194P', 'ACE2-D96E', 'ACE2-V180H', 'ACE2-K126N', 'ACE2-Y91V', 'ACE2-Q161L', 'ACE2-E139D'}\n",
      "Directory 2 names: {'ACE2-L185R', 'ACE2-P167F', 'ACE2-L185F', 'ACE2-P175S', 'ACE2-P189H', 'ACE2-V180Y', 'ACE2-V180L', 'ACE2-L185I', 'ACE2-V179W', 'ACE2-F183A', 'ACE2-F183M', 'ACE2-T168G', 'ACE2-D110H', 'ACE2-V178F', 'ACE2-E184S', 'ACE2-H187I', 'ACE2-F165E', 'ACE2-L185W', 'ACE2-F165Y', 'ACE2-Q174T', 'ACE2-A188V', 'ACE2-R177D', 'ACE2-H187D', 'ACE2-P189S', 'ACE2-F183T', 'ACE2-P167Q', 'ACE2-L185H', 'ACE2-E184W', 'ACE2-P189I', 'ACE2-R177V', 'ACE2-V179K', 'ACE2-F165A', 'ACE2-A190F', 'ACE2-F165K', 'ACE2-L181Q', 'ACE2-A188W', 'ACE2-V178N', 'ACE2-P167W', 'ACE2-A190D', 'ACE2-V179Y', 'ACE2-E184T', 'ACE2-L181A', 'ACE2-P167D', 'ACE2-Y176V', 'ACE2-A190H', 'ACE2-L186E', 'ACE2-Q166R', 'ACE2-G164Q', 'ACE2-R177G', 'ACE2-A188M', 'ACE2-F165D', 'ACE2-L186M', 'ACE2-F183Y', 'ACE2-A188N', 'ACE2-E184M', 'ACE2-P167E', 'ACE2-H187P', 'ACE2-V178W', 'ACE2-P175D', 'ACE2-L186W', 'ACE2-L186P', 'ACE2-L181E', 'ACE2-H187Y', 'ACE2-P189V', 'ACE2-T168H', 'ACE2-N169I', 'ACE2-Y176I', 'ACE2-T168F', 'ACE2-F165I', 'ACE2-T168K', 'ACE2-V178T', 'ACE2-P189G', 'ACE2-V179I', 'ACE2-V179D', 'ACE2-V179P', 'ACE2-V178R', 'ACE2-R177C', 'ACE2-V178I', 'ACE2-H187R', 'ACE2-F183D', 'ACE2-L185C', 'ACE2-T168L', 'ACE2-G164T', 'ACE2-A188R', 'ACE2-Q166T', 'ACE2-A188F', 'ACE2-P189L', 'ACE2-H187T', 'ACE2-A188S', 'ACE2-S182W', 'ACE2-E184G', 'ACE2-E184H', 'ACE2-L181P', 'ACE2-H187W', 'ACE2-F183P', 'ACE2-E184F', 'ACE2-F165M', 'ACE2-F183S', 'ACE2-V180R', 'ACE2-Q166E', 'ACE2-L186R', 'ACE2-L181I', 'ACE2-P189E', 'ACE2-A188D', 'ACE2-A188Q', 'ACE2-P189M', 'ACE2-L186F', 'ACE2-S182I', 'ACE2-R177T', 'ACE2-Q166V', 'ACE2-P189N', 'ACE2-P175H', 'ACE2-V179N', 'ACE2-P175Q', 'ACE2-T168P', 'ACE2-P175E', 'ACE2-E184A', 'ACE2-T168S', 'ACE2-L185K', 'ACE2-S182Y', 'ACE2-S182R', 'ACE2-T168I', 'ACE2-Q166M', 'ACE2-A190I', 'ACE2-L181Y', 'ACE2-V179G', 'ACE2-L186V', 'ACE2-A188P', 'ACE2-V180C', 'ACE2-S182M', 'ACE2-L186S', 'ACE2-V178K', 'ACE2-S182H', 'ACE2-V178Q', 'ACE2-P189T', 'ACE2-A188I', 'ACE2-F165R', 'ACE2-L181K', 'ACE2-H187S', 'ACE2-V179Q', 'ACE2-H187A', 'ACE2-V179M', 'ACE2-L181W', 'ACE2-N169F', 'ACE2-R177W', 'ACE2-L185G', 'ACE2-Y176D', 'ACE2-E184P', 'ACE2-V179C', 'ACE2-G164R', 'ACE2-P175F', 'ACE2-L186Q', 'ACE2-P189A', 'ACE2-T168V', 'ACE2-G164M', 'ACE2-Y176W', 'ACE2-Q166D', 'ACE2-H187C', 'ACE2-G164Y', 'ACE2-L181C', 'ACE2-Q166P', 'ACE2-N169G', 'ACE2-F183W', 'ACE2-P175W', 'ACE2-P167Y', 'ACE2-V180F', 'ACE2-P175R', 'ACE2-P175L', 'ACE2-G164E', 'ACE2-E184K', 'ACE2-L181M', 'ACE2-Q174R', 'ACE2-N169D', 'ACE2-P167H', 'ACE2-L181R', 'ACE2-F183I', 'ACE2-A190K', 'ACE2-S182K', 'ACE2-V180N', 'ACE2-Q166K', 'ACE2-P175T', 'ACE2-P175Y', 'ACE2-Y176A', 'ACE2-P189W', 'ACE2-L181D', 'ACE2-H187Q', 'ACE2-P167T', 'ACE2-F165V', 'ACE2-P175C', 'ACE2-T168M', 'ACE2-E184D', 'ACE2-H187G', 'ACE2-S182C', 'ACE2-F183C', 'ACE2-S182V', 'ACE2-L186A', 'ACE2-Y176M', 'ACE2-L186Y', 'ACE2-F165L', 'ACE2-P175A', 'ACE2-P167N', 'ACE2-P167S', 'ACE2-L186D', 'ACE2-R177E', 'ACE2-F183Q', 'ACE2-R177A', 'ACE2-P167C', 'ACE2-P175K', 'ACE2-G164F', 'ACE2-E184V', 'ACE2-P175V', 'ACE2-V180E', 'ACE2-F165C', 'ACE2-R177N', 'ACE2-S182A', 'ACE2-V180I', 'ACE2-V179S', 'ACE2-L185E', 'ACE2-V179E', 'ACE2-Q166H', 'ACE2-L185S', 'ACE2-P189R', 'ACE2-Q166F', 'ACE2-L186I', 'ACE2-V180W', 'ACE2-E184Q', 'ACE2-P167K', 'ACE2-L181H', 'ACE2-E184R', 'ACE2-F165H', 'ACE2-L185P', 'ACE2-V180G', 'ACE2-V180M', 'ACE2-A190E', 'ACE2-V179L', 'ACE2-L181N', 'ACE2-F165P', 'ACE2-P167I', 'ACE2-D110G', 'ACE2-F183E', 'ACE2-L186N', 'ACE2-F183L', 'ACE2-A188E', 'ACE2-A190G', 'ACE2-H187V', 'ACE2-A188Y', 'ACE2-Y176C', 'ACE2-R177K', 'ACE2-L185V', 'ACE2-V178P', 'ACE2-V178A', 'ACE2-V180S', 'ACE2-F165Q', 'ACE2-Y176E', 'ACE2-V178C', 'ACE2-F183R', 'ACE2-T168D', 'ACE2-E184N', 'ACE2-L186T', 'ACE2-Y176P', 'ACE2-V179F', 'ACE2-T168E', 'ACE2-F183G', 'ACE2-V179R', 'ACE2-Y176Q', 'ACE2-P167V', 'ACE2-G164K', 'ACE2-V179A', 'ACE2-L185N', 'ACE2-Y176K', 'ACE2-L185A', 'ACE2-Q174W', 'ACE2-V178G', 'ACE2-V179H', 'ACE2-P167G', 'ACE2-E184C', 'ACE2-A190L', 'ACE2-A188C', 'ACE2-S182F', 'ACE2-V178H', 'ACE2-L185Q', 'ACE2-F183K', 'ACE2-L181T', 'ACE2-F183V', 'ACE2-H187F', 'ACE2-V178L', 'ACE2-V180Q', 'ACE2-V180A', 'ACE2-R177P', 'ACE2-H187M', 'ACE2-Y176S', 'ACE2-R177Y', 'ACE2-P167R', 'ACE2-L185D', 'ACE2-V180P', 'ACE2-Q174Y', 'ACE2-L185Y', 'ACE2-L186K', 'ACE2-Y176R', 'ACE2-F183N', 'ACE2-T168R', 'ACE2-H187L', 'ACE2-T168W', 'ACE2-Y176H', 'ACE2-F165G', 'ACE2-T168Q', 'ACE2-L185M', 'ACE2-A188K', 'ACE2-Q166S', 'ACE2-R177I', 'ACE2-Y176T', 'ACE2-L186H', 'ACE2-E184Y', 'ACE2-P175I', 'ACE2-H187K', 'ACE2-P189Y', 'ACE2-A188G', 'ACE2-L186C', 'ACE2-R177M', 'ACE2-N169C', 'ACE2-Y176F', 'ACE2-L181F', 'ACE2-Q174S', 'ACE2-A188L', 'ACE2-R177Q', 'ACE2-Q166W', 'ACE2-L181S', 'ACE2-T168C', 'ACE2-V178M', 'ACE2-E184L', 'ACE2-S182E', 'ACE2-V178Y', 'ACE2-V178S', 'ACE2-H187E', 'ACE2-Y176N', 'ACE2-S182T', 'ACE2-S182D', 'ACE2-R177L', 'ACE2-A188T', 'ACE2-L181V', 'ACE2-Q174V', 'ACE2-V178D', 'ACE2-L185T', 'ACE2-S182P', 'ACE2-G164I', 'ACE2-S182N', 'ACE2-V179T', 'ACE2-P189K', 'ACE2-F165N', 'ACE2-V180T', 'ACE2-L186G', 'ACE2-S182L', 'ACE2-R177S', 'ACE2-L160E', 'ACE2-V180K', 'ACE2-P175M', 'ACE2-P175N', 'ACE2-A188H', 'ACE2-Q166Y', 'ACE2-P175G', 'ACE2-R177F', 'ACE2-E184I', 'ACE2-H187N', 'ACE2-S182Q', 'ACE2-V178E', 'ACE2-Y176G', 'ACE2-P189C', 'ACE2-Y176L', 'ACE2-S182G', 'ACE2-P189F', 'ACE2-A190C', 'ACE2-G164L', 'ACE2-G164P', 'ACE2-N169A', 'ACE2-F183H', 'ACE2-V180D', 'ACE2-P189D', 'ACE2-P167M', 'ACE2-L181G', 'ACE2-N169E', 'ACE2-Q166A', 'ACE2-Q166N', 'ACE2-V180H', 'ACE2-P189Q', 'ACE2-R177H'}\n",
      "Missing directories:\n",
      "100\n",
      "{'ACE2-C193I', 'ACE2-G194L', 'ACE2-V192R', 'ACE2-A190V', 'ACE2-C193Y', 'ACE2-C193H', 'ACE2-P195M', 'ACE2-A190W', 'ACE2-P195D', 'ACE2-C193M', 'ACE2-V192M', 'ACE2-T191Y', 'ACE2-P195N', 'ACE2-T191R', 'ACE2-C193R', 'ACE2-C193T', 'ACE2-V192E', 'ACE2-P195G', 'ACE2-V192W', 'ACE2-P195C', 'ACE2-P195K', 'ACE2-V192H', 'ACE2-P195R', 'ACE2-P195A', 'ACE2-A190T', 'ACE2-T191L', 'ACE2-G194F', 'ACE2-V192P', 'ACE2-C193F', 'ACE2-G194R', 'ACE2-C193S', 'ACE2-V192T', 'ACE2-V192A', 'ACE2-A190Q', 'ACE2-V192Q', 'ACE2-T191C', 'ACE2-T191V', 'ACE2-C193E', 'ACE2-T191K', 'ACE2-A190M', 'ACE2-C193D', 'ACE2-G194C', 'ACE2-G194N', 'ACE2-G194H', 'ACE2-V192L', 'ACE2-V192C', 'ACE2-V192G', 'ACE2-T191D', 'ACE2-G194Q', 'ACE2-C193N', 'ACE2-P195E', 'ACE2-C193W', 'ACE2-P195F', 'ACE2-C193L', 'ACE2-P195H', 'ACE2-V192N', 'ACE2-C193G', 'ACE2-C193P', 'ACE2-T191N', 'ACE2-T191M', 'ACE2-P195I', 'ACE2-G194D', 'ACE2-T191A', 'ACE2-A190P', 'ACE2-V192K', 'ACE2-T191S', 'ACE2-V192Y', 'ACE2-V192S', 'ACE2-G194M', 'ACE2-T191P', 'ACE2-T191H', 'ACE2-T191W', 'ACE2-G194S', 'ACE2-P195L', 'ACE2-T191F', 'ACE2-T191G', 'ACE2-G194Y', 'ACE2-G194I', 'ACE2-G194V', 'ACE2-C193Q', 'ACE2-T191Q', 'ACE2-G194T', 'ACE2-A190Y', 'ACE2-P195Q', 'ACE2-C193V', 'ACE2-T191I', 'ACE2-V192I', 'ACE2-A190R', 'ACE2-G194W', 'ACE2-C193K', 'ACE2-G194K', 'ACE2-V192D', 'ACE2-A190S', 'ACE2-C193A', 'ACE2-G194P', 'ACE2-G194E', 'ACE2-G194A', 'ACE2-T191E', 'ACE2-A190N', 'ACE2-V192F'}\n"
     ]
    }
   ],
   "source": [
    "import os\n",
    "\n",
    "directory_1 = '/home/max/stayahead/out_tmp/alphafold/pd/1step100_fastas'\n",
    "directory_2 = '/home/max/stayahead/out_tmp/alphafold/feat100_2'\n",
    "directory_3 = '/home/max/stayahead/out_tmp/alphafold/feat100_1'\n",
    "\n",
    "# Get the set of directory names in directory_1 (excluding .fasta files)\n",
    "dir1_names = {os.path.splitext(f)[0] for f in os.listdir(directory_1) if f.endswith('.fasta')}\n",
    "print(f\"Directory 1 names: {dir1_names}\")\n",
    "\n",
    "# Get the set of directory names in directory_2 (only directories)\n",
    "dir2_names = {name for name in os.listdir(directory_2) if os.path.isdir(os.path.join(directory_2, name))}\n",
    "dir3_names = {name for name in os.listdir(directory_3) if os.path.isdir(os.path.join(directory_3, name))}\n",
    "print(f\"Directory 2 names: {dir2_names}\")\n",
    "\n",
    "combined_names = dir2_names.union(dir3_names)\n",
    "# Find the missing directories based on partial matches\n",
    "# missing_dirs = {name for name in dir2_names if not any(name in d1_name for d1_name in dir1_names)}\n",
    "missing_dirs = {name for name in dir1_names if not any(com_name in name for com_name in combined_names)}\n",
    "\n",
    "# Print the missing directories\n",
    "print(\"Missing directories:\")\n",
    "print(len(missing_dirs))\n",
    "print(missing_dirs)"
   ]
  },
  {
   "cell_type": "code",
   "execution_count": 40,
   "metadata": {},
   "outputs": [
    {
     "name": "stdout",
     "output_type": "stream",
     "text": [
      "Copied ACE2-C193I.fasta to /home/max/stayahead/out_tmp/alphafold/pd/1step100_missing_fastas\n",
      "Copied ACE2-G194L.fasta to /home/max/stayahead/out_tmp/alphafold/pd/1step100_missing_fastas\n",
      "Copied ACE2-V192R.fasta to /home/max/stayahead/out_tmp/alphafold/pd/1step100_missing_fastas\n",
      "Copied ACE2-A190V.fasta to /home/max/stayahead/out_tmp/alphafold/pd/1step100_missing_fastas\n",
      "Copied ACE2-C193Y.fasta to /home/max/stayahead/out_tmp/alphafold/pd/1step100_missing_fastas\n",
      "Copied ACE2-C193H.fasta to /home/max/stayahead/out_tmp/alphafold/pd/1step100_missing_fastas\n",
      "Copied ACE2-P195M.fasta to /home/max/stayahead/out_tmp/alphafold/pd/1step100_missing_fastas\n",
      "Copied ACE2-A190W.fasta to /home/max/stayahead/out_tmp/alphafold/pd/1step100_missing_fastas\n",
      "Copied ACE2-P195D.fasta to /home/max/stayahead/out_tmp/alphafold/pd/1step100_missing_fastas\n",
      "Copied ACE2-C193M.fasta to /home/max/stayahead/out_tmp/alphafold/pd/1step100_missing_fastas\n",
      "Copied ACE2-V192M.fasta to /home/max/stayahead/out_tmp/alphafold/pd/1step100_missing_fastas\n",
      "Copied ACE2-T191Y.fasta to /home/max/stayahead/out_tmp/alphafold/pd/1step100_missing_fastas\n",
      "Copied ACE2-P195N.fasta to /home/max/stayahead/out_tmp/alphafold/pd/1step100_missing_fastas\n",
      "Copied ACE2-T191R.fasta to /home/max/stayahead/out_tmp/alphafold/pd/1step100_missing_fastas\n",
      "Copied ACE2-C193R.fasta to /home/max/stayahead/out_tmp/alphafold/pd/1step100_missing_fastas\n",
      "Copied ACE2-C193T.fasta to /home/max/stayahead/out_tmp/alphafold/pd/1step100_missing_fastas\n",
      "Copied ACE2-V192E.fasta to /home/max/stayahead/out_tmp/alphafold/pd/1step100_missing_fastas\n",
      "Copied ACE2-P195G.fasta to /home/max/stayahead/out_tmp/alphafold/pd/1step100_missing_fastas\n",
      "Copied ACE2-V192W.fasta to /home/max/stayahead/out_tmp/alphafold/pd/1step100_missing_fastas\n",
      "Copied ACE2-P195C.fasta to /home/max/stayahead/out_tmp/alphafold/pd/1step100_missing_fastas\n",
      "Copied ACE2-P195K.fasta to /home/max/stayahead/out_tmp/alphafold/pd/1step100_missing_fastas\n",
      "Copied ACE2-V192H.fasta to /home/max/stayahead/out_tmp/alphafold/pd/1step100_missing_fastas\n",
      "Copied ACE2-P195R.fasta to /home/max/stayahead/out_tmp/alphafold/pd/1step100_missing_fastas\n",
      "Copied ACE2-P195A.fasta to /home/max/stayahead/out_tmp/alphafold/pd/1step100_missing_fastas\n",
      "Copied ACE2-A190T.fasta to /home/max/stayahead/out_tmp/alphafold/pd/1step100_missing_fastas\n",
      "Copied ACE2-T191L.fasta to /home/max/stayahead/out_tmp/alphafold/pd/1step100_missing_fastas\n",
      "Copied ACE2-G194F.fasta to /home/max/stayahead/out_tmp/alphafold/pd/1step100_missing_fastas\n",
      "Copied ACE2-V192P.fasta to /home/max/stayahead/out_tmp/alphafold/pd/1step100_missing_fastas\n",
      "Copied ACE2-C193F.fasta to /home/max/stayahead/out_tmp/alphafold/pd/1step100_missing_fastas\n",
      "Copied ACE2-G194R.fasta to /home/max/stayahead/out_tmp/alphafold/pd/1step100_missing_fastas\n",
      "Copied ACE2-C193S.fasta to /home/max/stayahead/out_tmp/alphafold/pd/1step100_missing_fastas\n",
      "Copied ACE2-V192T.fasta to /home/max/stayahead/out_tmp/alphafold/pd/1step100_missing_fastas\n",
      "Copied ACE2-V192A.fasta to /home/max/stayahead/out_tmp/alphafold/pd/1step100_missing_fastas\n",
      "Copied ACE2-A190Q.fasta to /home/max/stayahead/out_tmp/alphafold/pd/1step100_missing_fastas\n",
      "Copied ACE2-V192Q.fasta to /home/max/stayahead/out_tmp/alphafold/pd/1step100_missing_fastas\n",
      "Copied ACE2-T191C.fasta to /home/max/stayahead/out_tmp/alphafold/pd/1step100_missing_fastas\n",
      "Copied ACE2-T191V.fasta to /home/max/stayahead/out_tmp/alphafold/pd/1step100_missing_fastas\n",
      "Copied ACE2-C193E.fasta to /home/max/stayahead/out_tmp/alphafold/pd/1step100_missing_fastas\n",
      "Copied ACE2-T191K.fasta to /home/max/stayahead/out_tmp/alphafold/pd/1step100_missing_fastas\n",
      "Copied ACE2-A190M.fasta to /home/max/stayahead/out_tmp/alphafold/pd/1step100_missing_fastas\n",
      "Copied ACE2-C193D.fasta to /home/max/stayahead/out_tmp/alphafold/pd/1step100_missing_fastas\n",
      "Copied ACE2-G194C.fasta to /home/max/stayahead/out_tmp/alphafold/pd/1step100_missing_fastas\n",
      "Copied ACE2-G194N.fasta to /home/max/stayahead/out_tmp/alphafold/pd/1step100_missing_fastas\n",
      "Copied ACE2-G194H.fasta to /home/max/stayahead/out_tmp/alphafold/pd/1step100_missing_fastas\n",
      "Copied ACE2-V192L.fasta to /home/max/stayahead/out_tmp/alphafold/pd/1step100_missing_fastas\n",
      "Copied ACE2-V192C.fasta to /home/max/stayahead/out_tmp/alphafold/pd/1step100_missing_fastas\n",
      "Copied ACE2-V192G.fasta to /home/max/stayahead/out_tmp/alphafold/pd/1step100_missing_fastas\n",
      "Copied ACE2-T191D.fasta to /home/max/stayahead/out_tmp/alphafold/pd/1step100_missing_fastas\n",
      "Copied ACE2-G194Q.fasta to /home/max/stayahead/out_tmp/alphafold/pd/1step100_missing_fastas\n",
      "Copied ACE2-C193N.fasta to /home/max/stayahead/out_tmp/alphafold/pd/1step100_missing_fastas\n",
      "Copied ACE2-P195E.fasta to /home/max/stayahead/out_tmp/alphafold/pd/1step100_missing_fastas\n",
      "Copied ACE2-C193W.fasta to /home/max/stayahead/out_tmp/alphafold/pd/1step100_missing_fastas\n",
      "Copied ACE2-P195F.fasta to /home/max/stayahead/out_tmp/alphafold/pd/1step100_missing_fastas\n",
      "Copied ACE2-C193L.fasta to /home/max/stayahead/out_tmp/alphafold/pd/1step100_missing_fastas\n",
      "Copied ACE2-P195H.fasta to /home/max/stayahead/out_tmp/alphafold/pd/1step100_missing_fastas\n",
      "Copied ACE2-V192N.fasta to /home/max/stayahead/out_tmp/alphafold/pd/1step100_missing_fastas\n",
      "Copied ACE2-C193G.fasta to /home/max/stayahead/out_tmp/alphafold/pd/1step100_missing_fastas\n",
      "Copied ACE2-C193P.fasta to /home/max/stayahead/out_tmp/alphafold/pd/1step100_missing_fastas\n",
      "Copied ACE2-T191N.fasta to /home/max/stayahead/out_tmp/alphafold/pd/1step100_missing_fastas\n",
      "Copied ACE2-T191M.fasta to /home/max/stayahead/out_tmp/alphafold/pd/1step100_missing_fastas\n",
      "Copied ACE2-P195I.fasta to /home/max/stayahead/out_tmp/alphafold/pd/1step100_missing_fastas\n",
      "Copied ACE2-G194D.fasta to /home/max/stayahead/out_tmp/alphafold/pd/1step100_missing_fastas\n",
      "Copied ACE2-T191A.fasta to /home/max/stayahead/out_tmp/alphafold/pd/1step100_missing_fastas\n",
      "Copied ACE2-A190P.fasta to /home/max/stayahead/out_tmp/alphafold/pd/1step100_missing_fastas\n",
      "Copied ACE2-V192K.fasta to /home/max/stayahead/out_tmp/alphafold/pd/1step100_missing_fastas\n",
      "Copied ACE2-T191S.fasta to /home/max/stayahead/out_tmp/alphafold/pd/1step100_missing_fastas\n",
      "Copied ACE2-V192Y.fasta to /home/max/stayahead/out_tmp/alphafold/pd/1step100_missing_fastas\n",
      "Copied ACE2-V192S.fasta to /home/max/stayahead/out_tmp/alphafold/pd/1step100_missing_fastas\n",
      "Copied ACE2-G194M.fasta to /home/max/stayahead/out_tmp/alphafold/pd/1step100_missing_fastas\n",
      "Copied ACE2-T191P.fasta to /home/max/stayahead/out_tmp/alphafold/pd/1step100_missing_fastas\n",
      "Copied ACE2-T191H.fasta to /home/max/stayahead/out_tmp/alphafold/pd/1step100_missing_fastas\n",
      "Copied ACE2-T191W.fasta to /home/max/stayahead/out_tmp/alphafold/pd/1step100_missing_fastas\n",
      "Copied ACE2-G194S.fasta to /home/max/stayahead/out_tmp/alphafold/pd/1step100_missing_fastas\n",
      "Copied ACE2-P195L.fasta to /home/max/stayahead/out_tmp/alphafold/pd/1step100_missing_fastas\n",
      "Copied ACE2-T191F.fasta to /home/max/stayahead/out_tmp/alphafold/pd/1step100_missing_fastas\n",
      "Copied ACE2-T191G.fasta to /home/max/stayahead/out_tmp/alphafold/pd/1step100_missing_fastas\n",
      "Copied ACE2-G194Y.fasta to /home/max/stayahead/out_tmp/alphafold/pd/1step100_missing_fastas\n",
      "Copied ACE2-G194I.fasta to /home/max/stayahead/out_tmp/alphafold/pd/1step100_missing_fastas\n",
      "Copied ACE2-G194V.fasta to /home/max/stayahead/out_tmp/alphafold/pd/1step100_missing_fastas\n",
      "Copied ACE2-C193Q.fasta to /home/max/stayahead/out_tmp/alphafold/pd/1step100_missing_fastas\n",
      "Copied ACE2-T191Q.fasta to /home/max/stayahead/out_tmp/alphafold/pd/1step100_missing_fastas\n",
      "Copied ACE2-G194T.fasta to /home/max/stayahead/out_tmp/alphafold/pd/1step100_missing_fastas\n",
      "Copied ACE2-A190Y.fasta to /home/max/stayahead/out_tmp/alphafold/pd/1step100_missing_fastas\n",
      "Copied ACE2-P195Q.fasta to /home/max/stayahead/out_tmp/alphafold/pd/1step100_missing_fastas\n",
      "Copied ACE2-C193V.fasta to /home/max/stayahead/out_tmp/alphafold/pd/1step100_missing_fastas\n",
      "Copied ACE2-T191I.fasta to /home/max/stayahead/out_tmp/alphafold/pd/1step100_missing_fastas\n",
      "Copied ACE2-V192I.fasta to /home/max/stayahead/out_tmp/alphafold/pd/1step100_missing_fastas\n",
      "Copied ACE2-A190R.fasta to /home/max/stayahead/out_tmp/alphafold/pd/1step100_missing_fastas\n",
      "Copied ACE2-G194W.fasta to /home/max/stayahead/out_tmp/alphafold/pd/1step100_missing_fastas\n",
      "Copied ACE2-C193K.fasta to /home/max/stayahead/out_tmp/alphafold/pd/1step100_missing_fastas\n",
      "Copied ACE2-G194K.fasta to /home/max/stayahead/out_tmp/alphafold/pd/1step100_missing_fastas\n",
      "Copied ACE2-V192D.fasta to /home/max/stayahead/out_tmp/alphafold/pd/1step100_missing_fastas\n",
      "Copied ACE2-A190S.fasta to /home/max/stayahead/out_tmp/alphafold/pd/1step100_missing_fastas\n",
      "Copied ACE2-C193A.fasta to /home/max/stayahead/out_tmp/alphafold/pd/1step100_missing_fastas\n",
      "Copied ACE2-G194P.fasta to /home/max/stayahead/out_tmp/alphafold/pd/1step100_missing_fastas\n",
      "Copied ACE2-G194E.fasta to /home/max/stayahead/out_tmp/alphafold/pd/1step100_missing_fastas\n",
      "Copied ACE2-G194A.fasta to /home/max/stayahead/out_tmp/alphafold/pd/1step100_missing_fastas\n",
      "Copied ACE2-T191E.fasta to /home/max/stayahead/out_tmp/alphafold/pd/1step100_missing_fastas\n",
      "Copied ACE2-A190N.fasta to /home/max/stayahead/out_tmp/alphafold/pd/1step100_missing_fastas\n",
      "Copied ACE2-V192F.fasta to /home/max/stayahead/out_tmp/alphafold/pd/1step100_missing_fastas\n",
      "Finished copying fasta files.\n"
     ]
    }
   ],
   "source": [
    "import shutil\n",
    "fasta_source_dir = '/home/max/stayahead/out_tmp/alphafold/pd/1step100_fastas'\n",
    "output_dir = '/home/max/stayahead/out_tmp/alphafold/pd/1step100_missing_fastas'\n",
    "\n",
    "# Copy the fasta files\n",
    "for missing_dir in missing_dirs:\n",
    "    fasta_file = f\"{missing_dir}.fasta\"\n",
    "    source_path = os.path.join(fasta_source_dir, fasta_file)\n",
    "    if os.path.isfile(source_path):\n",
    "        shutil.copy(source_path, output_dir)\n",
    "        print(f\"Copied {fasta_file} to {output_dir}\")\n",
    "    else:\n",
    "        print(f\"{fasta_file} not found in {fasta_source_dir}\")\n",
    "\n",
    "print(\"Finished copying fasta files.\")"
   ]
  },
  {
   "cell_type": "code",
   "execution_count": null,
   "metadata": {},
   "outputs": [],
   "source": [
    "# # Get the set of FASTA file names without the .fasta extension in directory_2\n",
    "# fasta_names = {os.path.splitext(f)[0] for f in os.listdir(directory_2) if f.endswith('.fasta')}\n",
    "\n",
    "# # Find the missing directories\n",
    "# missing_dirs = fasta_names - dir1_names\n",
    "\n",
    "# # Print the missing directories\n",
    "# print(\"Missing directories:\")\n",
    "# for missing_dir in missing_dirs:\n",
    "#     print(missing_dir)\n",
    "\n",
    "# Get the set of directory names in directory_2\n",
    "# dir2_names = {f for f in os.listdir(directory_2) if os.path.isdir(os.path.join(directory_2, f))}"
   ]
  },
  {
   "cell_type": "code",
   "execution_count": 4,
   "metadata": {},
   "outputs": [],
   "source": [
    "name_dir = '/home/max/stayahead/out_tmp/alphafold/variants'\n",
    "dir1_names = set(os.listdir(name_dir))\n",
    "with open('/home/max/stayahead/out_tmp/alphafold/candidates_variants.txt', 'w') as f:\n",
    "    for name in dir1_names:\n",
    "        f.write(name + '\\n')\n"
   ]
  },
  {
   "cell_type": "code",
   "execution_count": 1,
   "metadata": {},
   "outputs": [],
   "source": [
    "dir_path = '/home/max/stayahead/out_tmp/alphafold/pd/1step100_missing_fastas'\n",
    "output_file_path = '/home/max/stayahead/out_tmp/alphafold/pd/candidates_100_missing.fasta'\n",
    "with open(output_file_path, 'w') as outfile:\n",
    "    with open('/home/max/stayahead/out_tmp/alphafold/pd/candidates_100_missing.txt', 'r') as f:\n",
    "        f = f.readlines()\n",
    "        for name in f:\n",
    "            name = name.strip()\n",
    "            fasta_name = name + '.fasta'\n",
    "            with open(f'/home/max/stayahead/out_tmp/alphafold/pd/1step100_fastas/{fasta_name}', 'r') as infile:\n",
    "                sequence = ''\n",
    "                for line in infile:\n",
    "                    if line.startswith('>'):\n",
    "                        # If there is an existing sequence, write it before starting a new header\n",
    "                        if sequence:\n",
    "                            outfile.write(sequence + '\\n')\n",
    "                        # Write the header\n",
    "                        outfile.write(line)\n",
    "                        sequence = ''\n",
    "                    else:\n",
    "                        # Remove newline and concatenate sequence parts\n",
    "                        sequence += line.strip()\n",
    "                # Don't forget to write the last sequence if the file ends\n",
    "                if sequence:\n",
    "                    outfile.write(sequence + '\\n')"
   ]
  },
  {
   "cell_type": "code",
   "execution_count": 3,
   "metadata": {},
   "outputs": [],
   "source": [
    "directory_path = '/home/max/stayahead/out_tmp/alphafold/variants/variants'\n",
    "output_file_path = '/home/max/stayahead/out_tmp/alphafold/candidates_variants.fasta'\n",
    "\n",
    "fasta_files = [f for f in os.listdir(directory_path) if f.endswith('.fasta')]\n",
    "\n",
    "with open(output_file_path, 'w') as outfile:\n",
    "    # Iterate over each file and append its contents to the output file\n",
    "    for file_name in fasta_files:\n",
    "        file_path = os.path.join(directory_path, file_name)\n",
    "        with open(file_path, 'r') as infile:\n",
    "            sequence = ''\n",
    "            for line in infile:\n",
    "                if line.startswith('>'):\n",
    "                    # If there is an existing sequence, write it before starting a new header\n",
    "                    if sequence:\n",
    "                        outfile.write(sequence + '\\n')\n",
    "                    # Write the header\n",
    "                    outfile.write(line)\n",
    "                    sequence = ''\n",
    "                else:\n",
    "                    # Remove newline and concatenate sequence parts\n",
    "                    sequence += line.strip()\n",
    "            # Don't forget to write the last sequence if the file ends\n",
    "            if sequence:\n",
    "                outfile.write(sequence + '\\n')"
   ]
  },
  {
   "cell_type": "code",
   "execution_count": 15,
   "metadata": {},
   "outputs": [],
   "source": [
    "dir1 = '/home/max/stayahead/out_tmp/pd_output'\n",
    "txt_file_path = '/home/max/stayahead/out_tmp/alphafold/pd/candidates_50_2.txt'\n",
    "\n",
    "# Read the contents of the text file\n",
    "with open(txt_file_path, 'r') as file:\n",
    "    lines = file.readlines()\n",
    "\n",
    "# Strip whitespace and newline characters from each line\n",
    "lines = [line.strip() for line in lines]\n",
    "\n",
    "# Get a list of directory names in the specified directory\n",
    "dir_names = os.listdir(dir1)\n",
    "\n",
    "# Filter out lines that have a matching directory in the specified directory\n",
    "filtered_lines = [line for line in lines if f'ACE2-ectodomain_and_{line}' not in dir_names]\n",
    "\n",
    "# Write the filtered lines back to the text file\n",
    "with open(txt_file_path, 'w') as file:\n",
    "    for line in filtered_lines:\n",
    "        file.write(f\"{line}\\n\")"
   ]
  },
  {
   "cell_type": "code",
   "execution_count": 5,
   "metadata": {},
   "outputs": [],
   "source": [
    "fp = '/home/max/stayahead/out_tmp/alphafold/pd/candidates_50_1.txt'\n",
    "output_dir = '/home/max/stayahead/out_tmp/alphafold/pd/split_files/'\n",
    "\n",
    "# Create the output directory if it doesn't exist\n",
    "import os\n",
    "if not os.path.exists(output_dir):\n",
    "    os.makedirs(output_dir)\n",
    "\n",
    "with open(fp, 'r') as f:\n",
    "    lines = f.readlines()\n",
    "\n",
    "# Calculate the number of files needed\n",
    "num_files = len(lines) // 25 + (1 if len(lines) % 50 != 0 else 0)\n",
    "\n",
    "# Write lines to separate files\n",
    "for i in range(num_files):\n",
    "    start_line = i * 50\n",
    "    end_line = start_line + 50\n",
    "    file_lines = lines[start_line:end_line]\n",
    "    \n",
    "    output_file = os.path.join(output_dir, f'candidates_50_1-{i + 1}.txt')\n",
    "    with open(output_file, 'w') as out_f:\n",
    "        out_f.writelines(file_lines)"
   ]
  },
  {
   "cell_type": "code",
   "execution_count": null,
   "metadata": {},
   "outputs": [],
   "source": [
    "dir1 = '/home/max/ownCloud - Erik Schultes@universiteitleiden.data.surfsara.nl/LACDR_TKI_LSH (Projectfolder)/alphafold/pulldown/1step/50'\n",
    "\n",
    "dir_names = os.listdir(dir1)"
   ]
  },
  {
   "cell_type": "code",
   "execution_count": 3,
   "metadata": {},
   "outputs": [
    {
     "name": "stdout",
     "output_type": "stream",
     "text": [
      "Filtering complete. Filtered sequences written to: /home/max/stayahead/out_tmp/alphafold/candidates_100-1.fasta\n",
      "Updated fasta file written to: /home/max/stayahead/out_tmp/alphafold/candidates_100-2.fasta\n"
     ]
    }
   ],
   "source": [
    "import os\n",
    "\n",
    "# Define the paths\n",
    "fasta_file_path = '/home/max/stayahead/out_tmp/alphafold/candidates_100.fasta'\n",
    "msa_directory_path = '/home/max/stayahead/out_tmp/alphafold/feat100_1'\n",
    "filtered_fasta_file_path = '/home/max/stayahead/out_tmp/alphafold/candidates_100-1.fasta'\n",
    "updated_fasta_file_path = '/home/max/stayahead/out_tmp/alphafold/candidates_100-2.fasta'\n",
    "\n",
    "# Read the directories in the msa directory\n",
    "existing_directories = set(os.listdir(msa_directory_path))\n",
    "\n",
    "# Function to read the fasta file and filter the sequences\n",
    "def filter_fasta_sequences(fasta_file, existing_dirs):\n",
    "    filtered_sequences = []\n",
    "    remaining_sequences = []\n",
    "    keep_sequence = False\n",
    "    sequence_name = \"\"\n",
    "\n",
    "    with open(fasta_file, 'r') as file:\n",
    "        lines = file.readlines()\n",
    "        for line in lines:\n",
    "            if line.startswith(\">\"):\n",
    "                sequence_name = line.strip().lstrip(\">\")\n",
    "                if sequence_name not in existing_dirs:\n",
    "                    keep_sequence = True\n",
    "                    filtered_sequences.append(line)\n",
    "                else:\n",
    "                    keep_sequence = False\n",
    "                    remaining_sequences.append(line)\n",
    "            else:\n",
    "                if keep_sequence:\n",
    "                    filtered_sequences.append(line)\n",
    "                else:\n",
    "                    remaining_sequences.append(line)\n",
    "\n",
    "    return filtered_sequences, remaining_sequences\n",
    "\n",
    "# Get the filtered and remaining sequences\n",
    "filtered_sequences, remaining_sequences = filter_fasta_sequences(fasta_file_path, existing_directories)\n",
    "\n",
    "# Write the filtered sequences to a new fasta file\n",
    "with open(filtered_fasta_file_path, 'w') as filtered_file:\n",
    "    filtered_file.writelines(filtered_sequences)\n",
    "\n",
    "# Write the remaining sequences back to the original fasta file\n",
    "with open(updated_fasta_file_path, 'w') as updated_file:\n",
    "    updated_file.writelines(remaining_sequences)\n",
    "\n",
    "print(\"Filtering complete. Filtered sequences written to:\", filtered_fasta_file_path)\n",
    "print(\"Updated fasta file written to:\", updated_fasta_file_path)"
   ]
  },
  {
   "cell_type": "code",
   "execution_count": 2,
   "metadata": {},
   "outputs": [
    {
     "name": "stdout",
     "output_type": "stream",
     "text": [
      "All files have been copied successfully.\n"
     ]
    }
   ],
   "source": [
    "# Define the path to the main directory containing the batch directories\n",
    "main_directory = '/home/max/stayahead/transformers/data/data_glycoprotein/pdb/spike_receptor_binding_pdb'\n",
    "\n",
    "# Define the path to the new directory where all files will be copied\n",
    "new_directory = '/home/max/stayahead/transformers/data/data_glycoprotein/pdb/controls_pdb'\n",
    "\n",
    "# Create the new directory if it doesn't exist\n",
    "os.makedirs(new_directory, exist_ok=True)\n",
    "\n",
    "# Iterate over each batch directory\n",
    "for batch_dir in os.listdir(main_directory):\n",
    "    batch_dir_path = os.path.join(main_directory, batch_dir)\n",
    "    \n",
    "    # Ensure it's a directory\n",
    "    if os.path.isdir(batch_dir_path):\n",
    "        # Iterate over each file in the batch directory\n",
    "        for file_name in os.listdir(batch_dir_path):\n",
    "            file_path = os.path.join(batch_dir_path, file_name)\n",
    "            \n",
    "            # Ensure it's a file\n",
    "            if os.path.isfile(file_path):\n",
    "                # Copy the file to the new directory\n",
    "                shutil.copy(file_path, new_directory)\n",
    "\n",
    "print(\"All files have been copied successfully.\")"
   ]
  },
  {
   "cell_type": "code",
   "execution_count": null,
   "metadata": {},
   "outputs": [],
   "source": []
  }
 ],
 "metadata": {
  "kernelspec": {
   "display_name": "transformers",
   "language": "python",
   "name": "python3"
  },
  "language_info": {
   "codemirror_mode": {
    "name": "ipython",
    "version": 3
   },
   "file_extension": ".py",
   "mimetype": "text/x-python",
   "name": "python",
   "nbconvert_exporter": "python",
   "pygments_lexer": "ipython3",
   "version": "3.10.14"
  }
 },
 "nbformat": 4,
 "nbformat_minor": 2
}
