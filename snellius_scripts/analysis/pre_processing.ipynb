{
 "cells": [
  {
   "cell_type": "code",
   "execution_count": 2,
   "metadata": {},
   "outputs": [],
   "source": [
    "import csv\n",
    "import pandas as pd\n",
    "import os\n",
    "from pathlib import Path\n",
    "from sklearn.preprocessing import LabelEncoder"
   ]
  },
  {
   "cell_type": "markdown",
   "metadata": {},
   "source": [
    "Add EPC columns"
   ]
  },
  {
   "cell_type": "code",
   "execution_count": 4,
   "metadata": {},
   "outputs": [],
   "source": [
    "df_1 = pd.read_csv('/home/max/stayahead/analysis/datasets/predictions/pred_ref/1step_pred_AF_14-06.csv')\n",
    "df_2 = pd.read_csv('/home/max/stayahead/snellius2/outputs/analysis/dataset/epc_AF_all.csv')\n",
    "columns_to_add = ['local_net_energy', 'global_net_energy']\n",
    "merged_df = pd.merge(df_1, df_2[['seq_id'] + columns_to_add], \n",
    "                     on=['seq_id'], how='left')\n",
    "\n",
    "merged_df.to_csv('/home/max/stayahead/snellius2/outputs/analysis/dataset/tmp/AF_1step_pred_epc_15-06.csv', index=False)"
   ]
  },
  {
   "cell_type": "code",
   "execution_count": 4,
   "metadata": {},
   "outputs": [],
   "source": [
    "abs = ['/home/max/stayahead/snellius2/outputs/analysis/dataset/ACE_aggregated_CoV2.csv', '/home/max/stayahead/snellius2/outputs/analysis/dataset/ACE_aggregated_pre_omicron.csv']\n",
    "data = '/home/max/stayahead/snellius2/outputs/analysis/dataset/tmp/AF_1step_w_epc_04-06.csv'\n",
    "\n",
    "for ab in abs:\n",
    "    df = pd.read_csv(data)\n",
    "    df_ab = pd.read_csv(ab)\n",
    "    # Select the columns from the second file that need to be added\n",
    "    columns_to_add = ['seq_id', 'site_total_escape', 'mut_escape', 'normalized_mut_escape']\n",
    "    df_selected = df_ab[columns_to_add]\n",
    "\n",
    "    # Merge the two DataFrames on the 'seq_id' column\n",
    "    df_merged = pd.merge(df, df_selected, on='seq_id', how='left')\n",
    "\n",
    "    if 'ESM' in data:\n",
    "        final_columns = [\n",
    "        'seq_id', 'wildtype', 'site', 'mutation', 'rmsd', 'tm_score', 'sasa', \n",
    "        'avg_hydro', 'total_hydro', 'b_factor', 'local_net_energy', 'global_net_energy',\n",
    "        'site_total_escape', 'mut_escape', 'normalized_mut_escape'\n",
    "    ]\n",
    "        df_final = df_merged[final_columns]\n",
    "        if 'CoV2' in ab:\n",
    "        # Save the final DataFrame to a new CSV file\n",
    "            final_file = '/home/max/stayahead/snellius2/outputs/analysis/dataset/ESM_1step_CoV2_04-06.csv'\n",
    "        elif 'pre_omicron' in ab:\n",
    "            final_file = '/home/max/stayahead/snellius2/outputs/analysis/dataset/ESM_1step_pre_omicron_04-06.csv'\n",
    "        print(final_file)\n",
    "        df_final.to_csv(final_file, index=False)\n",
    "    elif 'AF' in data:\n",
    "    # Reorder the columns to place the new columns at the desired positions\n",
    "        final_columns = [\n",
    "            'seq_id', 'wildtype', 'site', 'mutation', 'rmsd', 'tm_score', 'sasa', \n",
    "            'avg_hydro', 'total_hydro', 'plddt', 'local_net_energy', 'global_net_energy',\n",
    "            'site_total_escape', 'mut_escape', 'normalized_mut_escape'\n",
    "        ]\n",
    "        df_final = df_merged[final_columns]\n",
    "        if 'CoV2' in ab:\n",
    "        # Save the final DataFrame to a new CSV file\n",
    "            final_file = '/home/max/stayahead/snellius2/outputs/analysis/dataset/AF_1step_CoV2_04-06.csv'\n",
    "        elif 'pre_omicron' in ab:\n",
    "            final_file = '/home/max/stayahead/snellius2/outputs/analysis/dataset/AF_1step_pre_omicron_04-06.csv'\n",
    "        df_final.to_csv(final_file, index=False)\n",
    "    # df_final.to_csv(final_file, index=False)\n",
    "\n",
    "    # print(f\"The final file has been saved as '{final_file}'\")"
   ]
  },
  {
   "cell_type": "markdown",
   "metadata": {},
   "source": [
    "Codify Discrete Features (Optional)"
   ]
  },
  {
   "cell_type": "code",
   "execution_count": null,
   "metadata": {},
   "outputs": [],
   "source": [
    "df = pd.read_csv('/home/max/stayahead/snellius2/outputs/analysis/dataset/tmp/ESM_1step_04-06.csv')\n",
    "data_cleaned = df.dropna()\n",
    "data_cleaned = data_cleaned.drop(columns=['seq_id', 'site_total_escape', 'mut_escape'])\n",
    "label_encoders = {}\n",
    "categorical_columns = ['wildtype', 'mutation']  # Update this list with your actual categorical columns\n",
    "\n",
    "for col in categorical_columns:\n",
    "    le = LabelEncoder()\n",
    "    data_cleaned[col] = le.fit_transform(data_cleaned[col])\n",
    "    label_encoders[col] = le\n",
    "\n",
    "data_cleaned.head()"
   ]
  },
  {
   "cell_type": "markdown",
   "metadata": {},
   "source": [
    "Add RBD bind and expression data"
   ]
  },
  {
   "cell_type": "code",
   "execution_count": null,
   "metadata": {},
   "outputs": [],
   "source": []
  }
 ],
 "metadata": {
  "kernelspec": {
   "display_name": "analysis",
   "language": "python",
   "name": "python3"
  },
  "language_info": {
   "codemirror_mode": {
    "name": "ipython",
    "version": 3
   },
   "file_extension": ".py",
   "mimetype": "text/x-python",
   "name": "python",
   "nbconvert_exporter": "python",
   "pygments_lexer": "ipython3",
   "version": "3.10.14"
  }
 },
 "nbformat": 4,
 "nbformat_minor": 2
}
