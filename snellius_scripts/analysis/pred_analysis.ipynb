{
 "cells": [
  {
   "cell_type": "code",
   "execution_count": 1,
   "metadata": {},
   "outputs": [],
   "source": [
    "from Bio import PDB\n",
    "from Bio.PDB import Superimposer\n",
    "from Bio.PDB import DSSP\n",
    "from Bio.PDB.DSSP import dssp_dict_from_pdb_file\n",
    "from pathlib import Path\n",
    "import os\n",
    "import csv\n",
    "import pandas as pd\n",
    "from scipy.spatial import distance\n",
    "import numpy as np\n",
    "import matplotlib.pyplot as plt\n",
    "import math"
   ]
  },
  {
   "cell_type": "code",
   "execution_count": 2,
   "metadata": {},
   "outputs": [],
   "source": [
    "def process_directory(directory):\n",
    "    for dirpath, dirname, filenames in os.walk(directory):\n",
    "        batch_number = os.path.basename(dirpath)\n",
    "        for filename in filenames:\n",
    "            if filename.endswith(\".cif\"):\n",
    "                continue"
   ]
  },
  {
   "cell_type": "code",
   "execution_count": 3,
   "metadata": {},
   "outputs": [],
   "source": [
    "def calculate_rmsd(fixed_atoms, moving_atoms, structure):\n",
    "    super_imposer = Superimposer()\n",
    "    super_imposer.set_atoms(fixed_atoms, moving_atoms)\n",
    "    super_imposer.apply(structure.get_atoms())\n",
    "    return super_imposer.rms"
   ]
  },
  {
   "cell_type": "code",
   "execution_count": 3,
   "metadata": {},
   "outputs": [],
   "source": [
    "output_file = '/home/max/stayahead/snellius/outputs/alpha_var.txt'"
   ]
  },
  {
   "cell_type": "code",
   "execution_count": 4,
   "metadata": {},
   "outputs": [
    {
     "name": "stdout",
     "output_type": "stream",
     "text": [
      "alphafold\n"
     ]
    }
   ],
   "source": [
    "p = PDB.PDBParser(QUIET=True)\n",
    "struct_path = Path('/home/max/stayahead/snellius2/outputs/references/alphafold/SARS-CoV-ACE2-AF_1.pdb')\n",
    "structure = p.get_structure('fixed', struct_path)\n",
    "parent_dir = struct_path.parent\n",
    "key_name = parent_dir.name\n",
    "print(key_name)\n",
    "crys_struct = p.get_structure('crystal', '/home/max/stayahead/snellius2/outputs/references/alphafold/SARS-CoV-ACE2_2/ranked_0.pdb')\n",
    "crys_model = crys_struct[0]\n",
    "for chain in crys_model:\n",
    "    if chain.id == 'E':\n",
    "        fixed_crys_atoms = [residue['CA'] for residue in chain.get_residues() if 'CA' in residue]\n",
    "        moving_ref_atoms = [residue['CA'] for residue in structure.get_residues() if 'CA' in residue]\n",
    "        print(len(fixed_crys_atoms))\n",
    "        print(len(moving_ref_atoms))\n",
    "        dif = len(fixed_crys_atoms) - len(moving_ref_atoms)\n",
    "        print(dif)\n",
    "                # Adjust the length of moving_ref_atoms based on dif\n",
    "        if dif < 0:\n",
    "            # If dif is negative, remove the last -dif atoms from moving_ref_atoms\n",
    "            moving_ref_atoms = moving_ref_atoms[:dif]\n",
    "        elif dif > 0:\n",
    "            # If dif is positive, you might need to address how to handle this case,\n",
    "            # such as choosing which atoms to remove from fixed_crys_atoms or reconsidering alignment.\n",
    "            pass\n",
    "        # moving_ref_atoms.pop()\n",
    "        assert len(fixed_crys_atoms) == len(moving_ref_atoms)\n",
    "        rmsd = calculate_rmsd(fixed_crys_atoms, moving_ref_atoms, chain)\n",
    "        # with open(output_file, 'w') as f:\n",
    "        #     f.write(f'{rmsd}\\n')\n",
    "        print(rmsd)\n"
   ]
  },
  {
   "cell_type": "code",
   "execution_count": 5,
   "metadata": {},
   "outputs": [
    {
     "name": "stdout",
     "output_type": "stream",
     "text": [
      "alphafold\n",
      "195\n",
      "195\n",
      "0\n",
      "0.1785627251075748\n"
     ]
    }
   ],
   "source": [
    "p = PDB.PDBParser(QUIET=True)\n",
    "struct_path = Path('/home/max/stayahead/snellius2/outputs/references/alphafold/SARS-CoV-ACE2-AF_1.pdb')\n",
    "structure = p.get_structure('moving', struct_path)\n",
    "parent_dir = struct_path.parent\n",
    "key_name = parent_dir.name\n",
    "print(key_name)\n",
    "# ref_struct = p.get_structure('fixed', '/home/max/stayahead/snellius2/outputs/af/ranked_0.pdb')\n",
    "ref_struct = p.get_structure('fixed', '/home/max/stayahead/snellius2/outputs/references/alphafold/SARS-CoV-ACE2_2/ranked_0.pdb')\n",
    "moving_ref_atoms = [residue['CA'] for residue in structure.get_residues() if 'CA' in residue]\n",
    "fixed_ref_atoms = [residue['CA'] for residue in ref_struct.get_residues() if 'CA' in residue]\n",
    "print(len(fixed_ref_atoms))\n",
    "print(len(moving_ref_atoms))\n",
    "dif = len(fixed_ref_atoms) - len(moving_ref_atoms)\n",
    "print(dif)\n",
    "        # Adjust the length of moving_ref_atoms based on dif\n",
    "if dif < 0:\n",
    "    # If dif is negative, remove the last -dif atoms from moving_ref_atoms\n",
    "    moving_ref_atoms = moving_ref_atoms[:dif]\n",
    "elif dif > 0:\n",
    "    # If dif is positive, you might need to address how to handle this case,\n",
    "    # such as choosing which atoms to remove from fixed_crys_atoms or reconsidering alignment.\n",
    "    pass\n",
    "# moving_ref_atoms.pop()\n",
    "assert len(fixed_ref_atoms) == len(moving_ref_atoms)\n",
    "rmsd = calculate_rmsd(fixed_ref_atoms, moving_ref_atoms, ref_struct)\n",
    "print(rmsd)"
   ]
  },
  {
   "cell_type": "code",
   "execution_count": 4,
   "metadata": {},
   "outputs": [
    {
     "name": "stdout",
     "output_type": "stream",
     "text": [
      "229\n"
     ]
    }
   ],
   "source": [
    "print(len('RVQPTESIVRFPNITNLCPFGEVFNATRFASVYAWNRKRISNCVADYSVLYNSASFSTFKCYGVSPTKLNDLCFTNVYADSFVIRGDEVRQIAPGQTGKIADYNYKLPDDFTGCVIAWNSNNLDSKVGGNYNYLYRLFRKSNLKPFERDISTEIYQAGSTPCNGVEGFNCYFPLQSYGFQPTNGVGYQPYRVVVLSFELLHAPATVCGPKKSTNLVKNKCVNFHHHHHH'))"
   ]
  },
  {
   "cell_type": "code",
   "execution_count": 6,
   "metadata": {},
   "outputs": [
    {
     "name": "stdout",
     "output_type": "stream",
     "text": [
      "10332.772835983595\n"
     ]
    }
   ],
   "source": [
    "import freesasa\n",
    "structure = freesasa.Structure('/home/max/stayahead/snellius/outputs/ds4/alpha_variant/ranked_0.pdb')\n",
    "result = freesasa.calc(structure)\n",
    "total_sasa = result.totalArea()\n",
    "# dict[self.n] = total_sasa\n",
    "print(total_sasa)"
   ]
  },
  {
   "cell_type": "code",
   "execution_count": 7,
   "metadata": {},
   "outputs": [],
   "source": [
    "asdf = str(struct_path)"
   ]
  },
  {
   "cell_type": "code",
   "execution_count": 16,
   "metadata": {},
   "outputs": [],
   "source": [
    "from Bio import PDB\n",
    "from Bio.PDB import Superimposer\n",
    "from Bio.PDB import DSSP\n",
    "from Bio.PDB.DSSP import dssp_dict_from_pdb_file\n",
    "from pathlib import Path\n",
    "import os\n",
    "import csv\n",
    "import argparse\n",
    "# from scipy.spatial import distance\n",
    "import numpy as np\n",
    "# import matplotlib.pyplot as plt\n",
    "import math\n",
    "from tmtools.io import get_structure, get_residue_data\n",
    "from tmtools import tm_align\n",
    "import json\n",
    "import freesasa\n",
    "\n",
    "class ComputeMetrics():\n",
    "    def __init__(self, args):\n",
    "        self.args = args\n",
    "        self.input = args.input\n",
    "        self.output = args.out_dir\n",
    "        self.ref = args.ref\n",
    "        # q = query, r = reference, n = name\n",
    "        self.q, self.r, self.n = self.load_structures()\n",
    "\n",
    "    \n",
    "    def load_structures(self):\n",
    "        p = PDB.PDBParser(QUIET=True)\n",
    "        struct_path = Path(self.input)\n",
    "        ref_path = Path(self.ref)\n",
    "        parent_dir = struct_path.parent\n",
    "        key_name = parent_dir.name\n",
    "        fixed_struct = p.get_structure('fixed', ref_path)\n",
    "        moving_struct = p.get_structure('moving', struct_path)\n",
    "\n",
    "        return fixed_struct, moving_struct, key_name\n",
    "\n",
    "    def calculate_rmsd(fixed_atoms, moving_atoms, structure):\n",
    "        super_imposer = Superimposer()\n",
    "        super_imposer.set_atoms(fixed_atoms, moving_atoms)\n",
    "        super_imposer.apply(structure.get_atoms())\n",
    "        return super_imposer.rms\n",
    "    \n",
    "    def rmsd(self, dict):\n",
    "        fixed_model = self.r[0]\n",
    "        for chain in fixed_model:\n",
    "            if chain.id == 'E':\n",
    "                all_atoms_fixed = [atom for residue in chain.get_residues() for atom in residue]\n",
    "                all_atoms_moving = [atom for residue in self.q.get_residues() for atom in residue]\n",
    "                if len(all_atoms_fixed) > len(all_atoms_moving):\n",
    "                    dif = len(all_atoms_fixed) - len(all_atoms_moving)\n",
    "                    all_atoms_fixed = all_atoms_fixed[:len(all_atoms_fixed) - dif]\n",
    "                else:\n",
    "                    dif = len(all_atoms_moving) - len(all_atoms_fixed)\n",
    "                    all_atoms_moving = all_atoms_moving[:len(all_atoms_moving) - dif]\n",
    "                    # If dif is positive, you might need to address how to handle this case,\n",
    "                    # such as choosing which atoms to remove from fixed_crys_atoms or reconsidering alignment.\n",
    "                assert len(all_atoms_fixed) == len(all_atoms_moving)\n",
    "                rmsd = self.calculate_rmsd(all_atoms_fixed, all_atoms_moving, chain)\n",
    "                dict[self.n] = rmsd\n",
    "\n",
    "        return dict\n",
    "\n",
    "    def tm_score(self, dict):\n",
    "        fixed_model = self.r[0]\n",
    "        for chain in fixed_model:\n",
    "            if chain.id == 'E':\n",
    "                all_atoms_fixed = [atom for residue in chain.get_residues() for atom in residue]\n",
    "                all_atoms_moving = [atom for residue in self.q.get_residues() for atom in residue]\n",
    "                if len(all_atoms_fixed) > len(all_atoms_moving):\n",
    "                    dif = len(all_atoms_fixed) - len(all_atoms_moving)\n",
    "                    all_atoms_fixed = all_atoms_fixed[:len(all_atoms_fixed) - dif]\n",
    "                else:\n",
    "                    dif = len(all_atoms_moving) - len(all_atoms_fixed)\n",
    "                    all_atoms_moving = all_atoms_moving[:len(all_atoms_moving) - dif]\n",
    "                    # If dif is positive, you might need to address how to handle this case,\n",
    "                    # such as choosing which atoms to remove from fixed_crys_atoms or reconsidering alignment.\n",
    "                assert len(all_atoms_fixed) == len(all_atoms_moving)\n",
    "                tm_score = self.calculate_tm_score(all_atoms_fixed, all_atoms_moving, chain)\n",
    "                dict[self.n] = tm_score\n",
    "\n",
    "        return dict\n",
    "    \n",
    "    def sasa(self, dict):\n",
    "        structure = freesasa.Structure(str(self.input))\n",
    "        result = freesasa.calc(structure)\n",
    "        total_sasa = result.totalArea()\n",
    "        dict[self.n] = total_sasa\n",
    "        # res_dict = {}\n",
    "        # for i, residue in enumerate(structure.residueAreas()):\n",
    "        #     residue_sasa = sum(residue.total)\n",
    "        #     res_dict[i] = residue_sasa\n",
    "        return dict"
   ]
  },
  {
   "cell_type": "code",
   "execution_count": 12,
   "metadata": {},
   "outputs": [],
   "source": [
    "def create_parser():\n",
    "    parser = argparse.ArgumentParser(description=\"Compute structural metrics.\")\n",
    "    parser.add_argument(\n",
    "        \"-i\", \"--input\", help=\"Path to input sequence\", type=Path, required=True,\n",
    "    )\n",
    "    parser.add_argument(\n",
    "        \"-o\", \"--out_dir\", help=\"Path to save directory for sequences\", type=Path, required=True,\n",
    "    )\n",
    "    parser.add_argument(\n",
    "        \"-r\", \"--ref\", help=\"Path to reference structure\", type=Path, required=True,\n",
    "    )\n",
    "    return parser\n",
    "\n",
    "parser = create_parser()\n",
    "args = parser.parse_args('-i /home/max/stayahead/snellius/outputs/ds4/alpha_variant/ranked_0.pdb -o /home/max/stayahead/snellius/outputs/ds4/alpha_variant -r /home/max/stayahead/esm/input/6m0j.pdb'.split())\n"
   ]
  },
  {
   "cell_type": "code",
   "execution_count": 13,
   "metadata": {},
   "outputs": [],
   "source": [
    "metrics = ComputeMetrics(args)"
   ]
  },
  {
   "cell_type": "code",
   "execution_count": 17,
   "metadata": {},
   "outputs": [],
   "source": [
    "rmsd_dict = {}\n",
    "tm_score_dict = {}\n",
    "sasa_dict = {}\n",
    "sasa_dict = metrics.sasa(sasa_dict)\n",
    "rmsd_dict = metrics.rmsd(rmsd_dict)\n",
    "tm_score_dict = metrics.tm_score(tm_score_dict)"
   ]
  },
  {
   "cell_type": "code",
   "execution_count": 18,
   "metadata": {},
   "outputs": [
    {
     "name": "stdout",
     "output_type": "stream",
     "text": [
      "{}\n"
     ]
    }
   ],
   "source": [
    "print(rmsd_dict)"
   ]
  },
  {
   "cell_type": "code",
   "execution_count": 2,
   "metadata": {},
   "outputs": [
    {
     "name": "stdout",
     "output_type": "stream",
     "text": [
      "{'H': 0.1134020618556701, 'B': 0.030927835051546393, 'E': 0.25257731958762886, 'G': 0.061855670103092786, 'I': 0.0, 'T': 0.0979381443298969, 'S': 0.12371134020618557, '-': 0.31958762886597936}\n"
     ]
    }
   ],
   "source": [
    "from Bio.PDB import PDBParser, DSSP\n",
    "\n",
    "# Load your structure file\n",
    "parser = PDBParser()\n",
    "structure = parser.get_structure(\"protein\", \"/home/max/stayahead/snellius2/outputs/ACE2.pdb\")\n",
    "\n",
    "# Perform DSSP analysis\n",
    "model = structure[0]\n",
    "dssp = DSSP(model, \"/home/max/stayahead/snellius2/outputs/ACE2.pdb\")\n",
    "\n",
    "# Extract secondary structure information\n",
    "sec_struct_counts = {\"H\": 0, \"B\": 0, \"E\": 0, \"G\": 0, \"I\": 0, \"T\": 0, \"S\": 0, \"-\": 0}\n",
    "for key in dssp.keys():\n",
    "    ss = dssp[key][2]\n",
    "    sec_struct_counts[ss] += 1\n",
    "\n",
    "total_residues = sum(sec_struct_counts.values())\n",
    "sec_struct_proportions = {k: v / total_residues for k, v in sec_struct_counts.items()}\n",
    "print(sec_struct_proportions)"
   ]
  },
  {
   "cell_type": "code",
   "execution_count": 5,
   "metadata": {},
   "outputs": [
    {
     "name": "stdout",
     "output_type": "stream",
     "text": [
      "Average Hydrophobicity: -0.2442249240121583\n",
      "Total Hydrophobicity: -0.21649484536082475\n",
      "Protein sequence: TNLCPFGEVFNATRFASVYAWNRKRISNCVADYSVLYNSASFSTFKCYGVSPTKLNDLCFTNVYADSFVIRGDEVRQIAPGQTGKIADYNYKLPDDFTGCVIAWNSNNLDSKVGGNYNYLYRLFRKSNLKPFERDISTEIYQAGSTPCNGVEGFNCYFPLQSYGFQPTNGVGYQPYRVVVLSFELLHAPATVCG\n",
      "Hydrophobicity: [0.4142857142857142, 0.014285714285714235, 1.1142857142857143, 0.9714285714285714, 0.1142857142857144, 0.5999999999999999, 0.10000000000000002, -0.48571428571428577, 0.4142857142857142, 0.07142857142857133, -0.4428571428571429, 0.6571428571428571, 0.21428571428571427, 0.5714285714285714, 1.0857142857142856, 0.18571428571428567, -0.7142857142857143, -1.157142857142857, -2.4, -1.5714285714285714, -1.9428571428571428, -2.3142857142857145, -1.457142857142857, -0.21428571428571425, 0.5999999999999999, 0.7428571428571429, -0.08571428571428566, -0.08571428571428563, 1.0142857142857145, 1.1999999999999997, 0.4142857142857143, -0.3428571428571428, 0.04285714285714283, 0.48571428571428577, 0.48571428571428577, 0.2857142857142857, -0.3714285714285715, -0.28571428571428586, 0.6142857142857141, 0.1714285714285714, 0.2714285714285714, 0.19999999999999998, -0.2571428571428572, 0.4571428571428572, 0.44285714285714295, -0.18571428571428564, 0.27142857142857135, -0.642857142857143, 0.08571428571428573, -0.35714285714285715, -1.457142857142857, -0.8, -0.21428571428571433, 0.2857142857142856, 0.7428571428571428, -0.29999999999999993, 0.7999999999999999, 1.1142857142857143, 0.8285714285714286, -0.0285714285714286, -0.5428571428571428, -0.0428571428571428, 1.0571428571428572, 1.1, 0.6428571428571429, 0.3285714285714287, 0.3285714285714286, -0.0571428571428572, 0.14285714285714293, -1.0999999999999999, -2.242857142857143, -0.9571428571428572, -0.6428571428571429, -0.3714285714285714, 0.07142857142857155, -1.0285714285714287, -0.48571428571428577, -0.04285714285714291, -1.2428571428571427, -0.8571428571428571, -0.3714285714285714, -0.8142857142857144, -0.5, -0.9, -1.0285714285714287, -1.0285714285714287, -1.1285714285714286, -1.6142857142857143, -1.614285714285714, -1.9285714285714286, -1.0285714285714287, -0.9428571428571428, -0.4428571428571429, -0.6285714285714287, 0.2, 1.342857142857143, 2.1, 1.5714285714285714, 1.1714285714285713, 1.1142857142857143, 0.2571428571428572, -0.8428571428571429, -0.942857142857143, -1.7, -1.6857142857142857, -1.7428571428571427, -1.0285714285714287, -0.5857142857142857, -0.1428571428571428, -1.1857142857142857, -0.8714285714285713, -1.2571428571428573, -0.8857142857142856, -0.942857142857143, -1.0714285714285714, -1.6571428571428573, -0.6142857142857142, -0.02857142857142863, -0.17142857142857146, -0.5428571428571429, -1.1999999999999997, -1.5142857142857142, -0.3285714285714286, -1.4285714285714288, -2.057142857142857, -1.0142857142857145, -0.9571428571428572, -1.4857142857142858, -1.485714285714286, -1.3857142857142857, -0.942857142857143, -0.8142857142857143, -1.7142857142857142, -0.5714285714285714, -0.11428571428571423, -0.11428571428571432, -0.5, -0.4428571428571428, -0.4571428571428572, -0.05714285714285716, -0.9285714285714287, -0.38571428571428573, -0.38571428571428573, -0.7000000000000001, -0.04285714285714277, -0.42857142857142855, -0.3857142857142857, 0.24285714285714288, -0.6142857142857141, 0.24285714285714288, 0.11428571428571432, -0.08571428571428578, 0.1857142857142857, 0.7857142857142857, -0.1142857142857144, 0.2714285714285714, -0.27142857142857146, -0.14285714285714293, -0.14285714285714288, -0.4142857142857143, -1.1857142857142855, -0.7857142857142858, -1.1714285714285715, -1.042857142857143, -0.3857142857142856, -0.8428571428571429, -0.5285714285714286, -0.8, -0.9285714285714286, -0.6142857142857142, -1.2, -1.1999999999999997, -0.5428571428571427, 0.24285714285714302, 1.2857142857142858, 1.4000000000000001, 1.9857142857142855, 2.128571428571429, 2.071428571428571, 2.0142857142857147, 0.9571428571428571, 0.6714285714285714, 0.557142857142857, 0.4142857142857142, 0.8142857142857141, 0.8714285714285713, 0.6857142857142857, 1.0857142857142859]\n"
     ]
    }
   ],
   "source": [
    "from Bio.PDB import PDBParser, Polypeptide\n",
    "from Bio.SeqUtils.ProtParam import ProteinAnalysis\n",
    "from Bio.SeqUtils.ProtParamData import kd\n",
    "\n",
    "# Function to extract sequence from PDB file\n",
    "def extract_sequence_from_pdb(pdb_file):\n",
    "    parser = PDBParser()\n",
    "    structure = parser.get_structure(\"protein\", pdb_file)\n",
    "    model = structure[0]\n",
    "    ppb = Polypeptide.PPBuilder()\n",
    "    for pp in ppb.build_peptides(model):\n",
    "        return str(pp.get_sequence())\n",
    "\n",
    "# Function to calculate hydrophobicity\n",
    "def calculate_hydrophobicity(sequence):\n",
    "    protein_analysis = ProteinAnalysis(sequence)\n",
    "    hydrophobicity = protein_analysis.protein_scale(kd, window=7, edge=1.0)\n",
    "    return hydrophobicity\n",
    "\n",
    "def calculate_total_hydrophobicity(sequence):\n",
    "    total_hydrophobicity = 0\n",
    "    for aa in sequence:\n",
    "        if aa in kd:\n",
    "            total_hydrophobicity += kd[aa]\n",
    "    return total_hydrophobicity / len(sequence)\n",
    "\n",
    "\n",
    "\n",
    "# Path to PDB file\n",
    "pdb_file = \"/home/max/stayahead/snellius2/outputs/ACE2.pdb\"\n",
    "\n",
    "# Extract sequence and calculate hydrophobicity\n",
    "sequence = extract_sequence_from_pdb(pdb_file)\n",
    "hydrophobicity = calculate_hydrophobicity(sequence)\n",
    "average_hydrophobicity = sum(hydrophobicity) / len(hydrophobicity)\n",
    "total_hydrophobicity = calculate_total_hydrophobicity(sequence)\n",
    "\n",
    "print(f\"Average Hydrophobicity: {average_hydrophobicity}\")\n",
    "print(f\"Total Hydrophobicity: {total_hydrophobicity}\")\n",
    "print(f\"Protein sequence: {sequence}\")\n",
    "print(f\"Hydrophobicity: {hydrophobicity}\")"
   ]
  },
  {
   "cell_type": "code",
   "execution_count": 5,
   "metadata": {},
   "outputs": [],
   "source": [
    "from Bio import PDB\n",
    "from Bio.PDB import Superimposer\n",
    "from Bio.PDB import DSSP\n",
    "from Bio.PDB.DSSP import dssp_dict_from_pdb_file\n",
    "from pathlib import Path\n",
    "import os\n",
    "import csv\n",
    "import argparse\n",
    "# from scipy.spatial import distance\n",
    "import numpy as np\n",
    "# import matplotlib.pyplot as plt\n",
    "import math\n",
    "from tmtools.io import get_structure, get_residue_data\n",
    "from tmtools import tm_align\n",
    "import json\n",
    "import freesasa\n",
    "from Bio.PDB import PDBParser, Polypeptide\n",
    "from Bio.SeqUtils.ProtParam import ProteinAnalysis\n",
    "from Bio.SeqUtils.ProtParamData import kd\n",
    "from Bio.SeqUtils.ProtParamData import hw\n",
    "\n",
    "class ComputeMetrics():\n",
    "    def __init__(self, input_path, ref_path):\n",
    "        self.input = input_path\n",
    "        self.ref = ref_path\n",
    "        # q = query, r = reference, n = name\n",
    "        # self.q, self.r, self.n = self.load_structures()\n",
    "\n",
    "    \n",
    "    def load_structures(self):\n",
    "        p = PDB.PDBParser(QUIET=True)\n",
    "        struct_path = Path(self.input)\n",
    "        ref_path = Path(self.ref)\n",
    "        parent_dir = struct_path.parent\n",
    "        key_name = parent_dir.name\n",
    "        fixed_struct = p.get_structure('fixed', ref_path)\n",
    "        moving_struct = p.get_structure('moving', struct_path)\n",
    "\n",
    "        return fixed_struct, moving_struct, key_name\n",
    "\n",
    "    def calculate_rmsd(self, fixed_atoms, moving_atoms, structure):\n",
    "        super_imposer = Superimposer()\n",
    "        super_imposer.set_atoms(fixed_atoms, moving_atoms)\n",
    "        super_imposer.apply(structure.get_atoms())\n",
    "        return super_imposer.rms\n",
    "    \n",
    "    def rmsd(self):\n",
    "        # fixed_model = self.r[0]\n",
    "        # p = PDB.PDBParser(QUIET=True)\n",
    "        # struct_path = Path(self.input)\n",
    "        # ref_path = Path(self.ref)\n",
    "        # parent_dir = struct_path.parent\n",
    "        # key_name = str(parent_dir.name)\n",
    "        # fixed_struct = p.get_structure('fixed', ref_path)\n",
    "        # moving_struct = p.get_structure('moving', struct_path)\n",
    "        fixed_struct, moving_struct, key_name = self.load_structures()\n",
    "        fixed_model = fixed_struct[0]\n",
    "        for chain in fixed_model:\n",
    "            all_atoms_fixed = [atom for residue in chain.get_residues() for atom in residue]\n",
    "            all_atoms_moving = [atom for residue in moving_struct.get_residues() for atom in residue]\n",
    "            if len(all_atoms_fixed) > len(all_atoms_moving):\n",
    "                dif = len(all_atoms_fixed) - len(all_atoms_moving)\n",
    "                all_atoms_fixed = all_atoms_fixed[:len(all_atoms_fixed) - dif]\n",
    "            else:\n",
    "                dif = len(all_atoms_moving) - len(all_atoms_fixed)\n",
    "                all_atoms_moving = all_atoms_moving[:len(all_atoms_moving) - dif]\n",
    "                # If dif is positive, you might need to address how to handle this case,\n",
    "                # such as choosing which atoms to remove from fixed_crys_atoms or reconsidering alignment.\n",
    "            # print(len(all_atoms_fixed), len(all_atoms_moving))\n",
    "            assert len(all_atoms_fixed) == len(all_atoms_moving)\n",
    "            rmsd = self.calculate_rmsd(all_atoms_fixed, all_atoms_moving, chain)\n",
    "\n",
    "                    # print(rmsd)\n",
    "        return rmsd\n",
    "    \n",
    "\n",
    "    def tm_score(self):\n",
    "        ref_struct, query_struct, key_name = self.load_structures()\n",
    "        chain = next(ref_struct.get_chains())\n",
    "        ref_coords, ref_seq = get_residue_data(chain)\n",
    "                    # If dif is positive, you might need to address how to handle this case,\n",
    "                    # such as choosing which atoms to remove from fixed_crys_atoms or reconsidering alignment.\n",
    "        chain = next(query_struct.get_chains())\n",
    "        coords, seq = get_residue_data(chain)\n",
    "        res = tm_align(ref_coords, coords, ref_seq, seq)\n",
    "        tm_score = res.tm_norm_chain1\n",
    "\n",
    "        return tm_score\n",
    "    \n",
    "    def sasa(self):\n",
    "        structure = freesasa.Structure(str(self.input))\n",
    "        result = freesasa.calc(structure)\n",
    "        total_sasa = result.totalArea()\n",
    "        # res_dict = {}\n",
    "        # for i, residue in enumerate(structure.residueAreas()):\n",
    "        #     residue_sasa = sum(residue.total)\n",
    "        #     res_dict[i] = residue_sasa\n",
    "        return total_sasa\n",
    "    \n",
    "    def b_factor(self, al_type):\n",
    "        fixed_struct, moving_struct, key_name = self.load_structures()\n",
    "        len_prot = [atom for residue in moving_struct.get_residues() for atom in residue]\n",
    "        bfactor = 0\n",
    "        for model in moving_struct:\n",
    "            for chain in model:\n",
    "                for residue in chain:\n",
    "                    for atom in residue:\n",
    "                        bfactor += atom.get_bfactor()\n",
    "        b_factor = bfactor / len(len_prot)\n",
    "        if al_type == 'esmfold':\n",
    "            b_factor = b_factor * 100\n",
    "        return b_factor\n",
    "\n",
    "    def extract_sequence_from_pdb(self):\n",
    "        fixed_struct, moving_struct, key_name = self.load_structures()\n",
    "        model = moving_struct[0]\n",
    "        ppb = Polypeptide.PPBuilder()\n",
    "        for pp in ppb.build_peptides(model):\n",
    "            return str(pp.get_sequence())\n",
    "        \n",
    "    def calculate_average_hydrophobicity(self, sequence):\n",
    "        protein_analysis = ProteinAnalysis(sequence)\n",
    "        hydrophobicity = protein_analysis.protein_scale(hw, window=7, edge=1.0)\n",
    "        if len(hydrophobicity) == 0:\n",
    "            return 'N/A'\n",
    "        average_hydrophobicity = sum(hydrophobicity) / len(hydrophobicity)\n",
    "        return average_hydrophobicity\n",
    "    \n",
    "    def calculate_total_hydrophobicity(self, sequence):\n",
    "        total_hydrophobicity = 0\n",
    "        for aa in sequence:\n",
    "            if aa in kd:\n",
    "                total_hydrophobicity += kd[aa]\n",
    "        return total_hydrophobicity / len(sequence)"
   ]
  },
  {
   "cell_type": "code",
   "execution_count": 2,
   "metadata": {},
   "outputs": [
    {
     "ename": "FileNotFoundError",
     "evalue": "[Errno 2] No such file or directory: '/home/max/stayahead/analysis/datasets/tmp/omicron_variants/esm/ESM_BA1_100.csv'",
     "output_type": "error",
     "traceback": [
      "\u001b[0;31m---------------------------------------------------------------------------\u001b[0m",
      "\u001b[0;31mFileNotFoundError\u001b[0m                         Traceback (most recent call last)",
      "Cell \u001b[0;32mIn[2], line 18\u001b[0m\n\u001b[1;32m     16\u001b[0m         results\u001b[38;5;241m.\u001b[39mappend([key_name, rmsd, tm_score, sasa, avg_hydrophobicity, plddt])\n\u001b[1;32m     17\u001b[0m output_path \u001b[38;5;241m=\u001b[39m os\u001b[38;5;241m.\u001b[39mpath\u001b[38;5;241m.\u001b[39mjoin(output_dir, \u001b[38;5;124m'\u001b[39m\u001b[38;5;124mESM_BA1_100.csv\u001b[39m\u001b[38;5;124m'\u001b[39m)\n\u001b[0;32m---> 18\u001b[0m \u001b[38;5;28;01mwith\u001b[39;00m \u001b[38;5;28;43mopen\u001b[39;49m\u001b[43m(\u001b[49m\u001b[43moutput_path\u001b[49m\u001b[43m,\u001b[49m\u001b[43m \u001b[49m\u001b[38;5;124;43m'\u001b[39;49m\u001b[38;5;124;43mw\u001b[39;49m\u001b[38;5;124;43m'\u001b[39;49m\u001b[43m,\u001b[49m\u001b[43m \u001b[49m\u001b[43mnewline\u001b[49m\u001b[38;5;241;43m=\u001b[39;49m\u001b[38;5;124;43m'\u001b[39;49m\u001b[38;5;124;43m'\u001b[39;49m\u001b[43m)\u001b[49m \u001b[38;5;28;01mas\u001b[39;00m csvfile:\n\u001b[1;32m     19\u001b[0m     writer \u001b[38;5;241m=\u001b[39m csv\u001b[38;5;241m.\u001b[39mwriter(csvfile)\n\u001b[1;32m     20\u001b[0m     writer\u001b[38;5;241m.\u001b[39mwriterow([\u001b[38;5;124m'\u001b[39m\u001b[38;5;124mseq_id\u001b[39m\u001b[38;5;124m'\u001b[39m, \u001b[38;5;124m'\u001b[39m\u001b[38;5;124mrmsd\u001b[39m\u001b[38;5;124m'\u001b[39m, \u001b[38;5;124m'\u001b[39m\u001b[38;5;124mtm_score\u001b[39m\u001b[38;5;124m'\u001b[39m, \u001b[38;5;124m'\u001b[39m\u001b[38;5;124msasa\u001b[39m\u001b[38;5;124m'\u001b[39m, \u001b[38;5;124m'\u001b[39m\u001b[38;5;124mavg_hydro\u001b[39m\u001b[38;5;124m'\u001b[39m, \u001b[38;5;124m'\u001b[39m\u001b[38;5;124mplddt\u001b[39m\u001b[38;5;124m'\u001b[39m])\n",
      "File \u001b[0;32m~/anaconda3/envs/analysis/lib/python3.10/site-packages/IPython/core/interactiveshell.py:324\u001b[0m, in \u001b[0;36m_modified_open\u001b[0;34m(file, *args, **kwargs)\u001b[0m\n\u001b[1;32m    317\u001b[0m \u001b[38;5;28;01mif\u001b[39;00m file \u001b[38;5;129;01min\u001b[39;00m {\u001b[38;5;241m0\u001b[39m, \u001b[38;5;241m1\u001b[39m, \u001b[38;5;241m2\u001b[39m}:\n\u001b[1;32m    318\u001b[0m     \u001b[38;5;28;01mraise\u001b[39;00m \u001b[38;5;167;01mValueError\u001b[39;00m(\n\u001b[1;32m    319\u001b[0m         \u001b[38;5;124mf\u001b[39m\u001b[38;5;124m\"\u001b[39m\u001b[38;5;124mIPython won\u001b[39m\u001b[38;5;124m'\u001b[39m\u001b[38;5;124mt let you open fd=\u001b[39m\u001b[38;5;132;01m{\u001b[39;00mfile\u001b[38;5;132;01m}\u001b[39;00m\u001b[38;5;124m by default \u001b[39m\u001b[38;5;124m\"\u001b[39m\n\u001b[1;32m    320\u001b[0m         \u001b[38;5;124m\"\u001b[39m\u001b[38;5;124mas it is likely to crash IPython. If you know what you are doing, \u001b[39m\u001b[38;5;124m\"\u001b[39m\n\u001b[1;32m    321\u001b[0m         \u001b[38;5;124m\"\u001b[39m\u001b[38;5;124myou can use builtins\u001b[39m\u001b[38;5;124m'\u001b[39m\u001b[38;5;124m open.\u001b[39m\u001b[38;5;124m\"\u001b[39m\n\u001b[1;32m    322\u001b[0m     )\n\u001b[0;32m--> 324\u001b[0m \u001b[38;5;28;01mreturn\u001b[39;00m \u001b[43mio_open\u001b[49m\u001b[43m(\u001b[49m\u001b[43mfile\u001b[49m\u001b[43m,\u001b[49m\u001b[43m \u001b[49m\u001b[38;5;241;43m*\u001b[39;49m\u001b[43margs\u001b[49m\u001b[43m,\u001b[49m\u001b[43m \u001b[49m\u001b[38;5;241;43m*\u001b[39;49m\u001b[38;5;241;43m*\u001b[39;49m\u001b[43mkwargs\u001b[49m\u001b[43m)\u001b[49m\n",
      "\u001b[0;31mFileNotFoundError\u001b[0m: [Errno 2] No such file or directory: '/home/max/stayahead/analysis/datasets/tmp/omicron_variants/esm/ESM_BA1_100.csv'"
     ]
    }
   ],
   "source": [
    "input_dir = '/home/max/stayahead/analysis/datasets/tmp/omicron_variants/esm/ba1_100'\n",
    "ref_path = '/home/max/stayahead/analysis/datasets/references/esm/pdb/SARS-CoV-ACE2-ESM.pdb'\n",
    "output_dir = '/home/max/stayahead/analysis/datasets/tmp/omicron_variants/esm'\n",
    "results = []\n",
    "for sub_dir, dirs, files in os.walk(input_dir):\n",
    "    for file in files:\n",
    "        pdb_path = os.path.join(input_dir, file)\n",
    "        key_name = file.split('.')[0]\n",
    "        metrics = ComputeMetrics(pdb_path, ref_path)\n",
    "        rmsd = metrics.rmsd()\n",
    "        tm_score = metrics.tm_score()\n",
    "        sasa = metrics.sasa()\n",
    "        plddt = metrics.b_factor('alpha')\n",
    "        sequence = metrics.extract_sequence_from_pdb()\n",
    "        avg_hydrophobicity = metrics.calculate_average_hydrophobicity(sequence)\n",
    "        results.append([key_name, rmsd, tm_score, sasa, avg_hydrophobicity, plddt])\n",
    "output_path = os.path.join(output_dir, 'ESM_BA1_100.csv')\n",
    "with open(output_path, 'w', newline='') as csvfile:\n",
    "    writer = csv.writer(csvfile)\n",
    "    writer.writerow(['seq_id', 'rmsd', 'tm_score', 'sasa', 'avg_hydro', 'plddt'])\n",
    "    writer.writerows(results)"
   ]
  },
  {
   "cell_type": "code",
   "execution_count": 6,
   "metadata": {},
   "outputs": [
    {
     "name": "stdout",
     "output_type": "stream",
     "text": [
      "0.8907628130241317\n"
     ]
    }
   ],
   "source": [
    "pdb_path = '/Users/maxvandenboom/stayahead/analysis/datasets/references/alphafold/pdb/SARS-CoV-ACE2-AF_1.pdb'\n",
    "af_path = '/Users/maxvandenboom/stayahead/analysis/datasets/references/alphafold/pdb/SARS-CoV-ACE2-AF_2.pdb'\n",
    "esm_path = '/Users/maxvandenboom/stayahead/analysis/datasets/references/esm/pdb/SARS-CoV-ACE2-ESM.pdb'\n",
    "\n",
    "metrics = ComputeMetrics(pdb_path, af_path)\n",
    "rmsd = metrics.rmsd()\n",
    "tm_score = metrics.tm_score()\n",
    "print(rmsd)"
   ]
  },
  {
   "cell_type": "code",
   "execution_count": null,
   "metadata": {},
   "outputs": [],
   "source": []
  }
 ],
 "metadata": {
  "kernelspec": {
   "display_name": "analysis",
   "language": "python",
   "name": "python3"
  },
  "language_info": {
   "codemirror_mode": {
    "name": "ipython",
    "version": 3
   },
   "file_extension": ".py",
   "mimetype": "text/x-python",
   "name": "python",
   "nbconvert_exporter": "python",
   "pygments_lexer": "ipython3",
   "version": "3.10.14"
  }
 },
 "nbformat": 4,
 "nbformat_minor": 2
}
